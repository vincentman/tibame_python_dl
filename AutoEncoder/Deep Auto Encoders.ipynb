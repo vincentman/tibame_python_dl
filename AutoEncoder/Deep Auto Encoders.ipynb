{
 "cells": [
  {
   "cell_type": "markdown",
   "metadata": {},
   "source": [
    "## 讀取MNIST 數據"
   ]
  },
  {
   "cell_type": "code",
   "execution_count": 1,
   "metadata": {},
   "outputs": [
    {
     "name": "stderr",
     "output_type": "stream",
     "text": [
      "Using TensorFlow backend.\n"
     ]
    }
   ],
   "source": [
    "from keras.datasets import mnist\n",
    "import numpy as np\n",
    "(x_train, _), (x_test, _) = mnist.load_data()"
   ]
  },
  {
   "cell_type": "code",
   "execution_count": 2,
   "metadata": {},
   "outputs": [
    {
     "name": "stdout",
     "output_type": "stream",
     "text": [
      "(60000, 784)\n",
      "(10000, 784)\n"
     ]
    }
   ],
   "source": [
    "x_train = x_train.astype('float32') / 255.\n",
    "x_test = x_test.astype('float32') / 255.\n",
    "x_train = x_train.reshape((len(x_train), np.prod(x_train.shape[1:])))\n",
    "x_test = x_test.reshape((len(x_test), np.prod(x_test.shape[1:])))\n",
    "print(x_train.shape)\n",
    "print(x_test.shape)"
   ]
  },
  {
   "cell_type": "markdown",
   "metadata": {},
   "source": [
    "## 建立  Deep Auto Encoders"
   ]
  },
  {
   "cell_type": "code",
   "execution_count": 3,
   "metadata": {},
   "outputs": [
    {
     "name": "stdout",
     "output_type": "stream",
     "text": [
      "WARNING:tensorflow:From /Users/davidchiu/.pyenv/versions/3.6.2/lib/python3.6/site-packages/keras/backend/tensorflow_backend.py:1349: calling reduce_mean (from tensorflow.python.ops.math_ops) with keep_dims is deprecated and will be removed in a future version.\n",
      "Instructions for updating:\n",
      "keep_dims is deprecated, use keepdims instead\n",
      "Train on 60000 samples, validate on 10000 samples\n",
      "Epoch 1/100\n",
      "60000/60000 [==============================] - 3s 51us/step - loss: 0.3421 - val_loss: 0.2646\n",
      "Epoch 2/100\n",
      "60000/60000 [==============================] - 3s 44us/step - loss: 0.2590 - val_loss: 0.2551\n",
      "Epoch 3/100\n",
      "60000/60000 [==============================] - 3s 45us/step - loss: 0.2489 - val_loss: 0.2408\n",
      "Epoch 4/100\n",
      "60000/60000 [==============================] - 3s 46us/step - loss: 0.2305 - val_loss: 0.2194\n",
      "Epoch 5/100\n",
      "60000/60000 [==============================] - 3s 48us/step - loss: 0.2120 - val_loss: 0.2038\n",
      "Epoch 6/100\n",
      "60000/60000 [==============================] - 3s 50us/step - loss: 0.1982 - val_loss: 0.1929\n",
      "Epoch 7/100\n",
      "60000/60000 [==============================] - 3s 51us/step - loss: 0.1898 - val_loss: 0.1850\n",
      "Epoch 8/100\n",
      "60000/60000 [==============================] - 3s 48us/step - loss: 0.1843 - val_loss: 0.1795\n",
      "Epoch 9/100\n",
      "60000/60000 [==============================] - 3s 51us/step - loss: 0.1787 - val_loss: 0.1753\n",
      "Epoch 10/100\n",
      "60000/60000 [==============================] - 3s 50us/step - loss: 0.1736 - val_loss: 0.1710\n",
      "Epoch 11/100\n",
      "60000/60000 [==============================] - 3s 51us/step - loss: 0.1684 - val_loss: 0.1636\n",
      "Epoch 12/100\n",
      "60000/60000 [==============================] - 3s 52us/step - loss: 0.1636 - val_loss: 0.1600\n",
      "Epoch 13/100\n",
      "60000/60000 [==============================] - 3s 56us/step - loss: 0.1592 - val_loss: 0.1550\n",
      "Epoch 14/100\n",
      "60000/60000 [==============================] - 3s 55us/step - loss: 0.1559 - val_loss: 0.1534\n",
      "Epoch 15/100\n",
      "60000/60000 [==============================] - 3s 54us/step - loss: 0.1532 - val_loss: 0.1516\n",
      "Epoch 16/100\n",
      "60000/60000 [==============================] - 3s 54us/step - loss: 0.1508 - val_loss: 0.1489\n",
      "Epoch 17/100\n",
      "60000/60000 [==============================] - 3s 55us/step - loss: 0.1485 - val_loss: 0.1462\n",
      "Epoch 18/100\n",
      "60000/60000 [==============================] - 3s 55us/step - loss: 0.1462 - val_loss: 0.1449\n",
      "Epoch 19/100\n",
      "60000/60000 [==============================] - 3s 54us/step - loss: 0.1441 - val_loss: 0.1425\n",
      "Epoch 20/100\n",
      "60000/60000 [==============================] - 3s 55us/step - loss: 0.1423 - val_loss: 0.1399\n",
      "Epoch 21/100\n",
      "60000/60000 [==============================] - 3s 55us/step - loss: 0.1405 - val_loss: 0.1392\n",
      "Epoch 22/100\n",
      "60000/60000 [==============================] - 3s 55us/step - loss: 0.1388 - val_loss: 0.1366\n",
      "Epoch 23/100\n",
      "60000/60000 [==============================] - 3s 55us/step - loss: 0.1367 - val_loss: 0.1340\n",
      "Epoch 24/100\n",
      "60000/60000 [==============================] - 3s 55us/step - loss: 0.1351 - val_loss: 0.1333\n",
      "Epoch 25/100\n",
      "60000/60000 [==============================] - 3s 54us/step - loss: 0.1336 - val_loss: 0.1323\n",
      "Epoch 26/100\n",
      "60000/60000 [==============================] - 3s 55us/step - loss: 0.1323 - val_loss: 0.1304\n",
      "Epoch 27/100\n",
      "60000/60000 [==============================] - 3s 55us/step - loss: 0.1310 - val_loss: 0.1296\n",
      "Epoch 28/100\n",
      "60000/60000 [==============================] - 3s 56us/step - loss: 0.1298 - val_loss: 0.1280\n",
      "Epoch 29/100\n",
      "60000/60000 [==============================] - 3s 57us/step - loss: 0.1287 - val_loss: 0.1260\n",
      "Epoch 30/100\n",
      "60000/60000 [==============================] - 3s 55us/step - loss: 0.1278 - val_loss: 0.1260\n",
      "Epoch 31/100\n",
      "60000/60000 [==============================] - 3s 57us/step - loss: 0.1268 - val_loss: 0.1238\n",
      "Epoch 32/100\n",
      "60000/60000 [==============================] - 3s 57us/step - loss: 0.1259 - val_loss: 0.1236\n",
      "Epoch 33/100\n",
      "60000/60000 [==============================] - 3s 57us/step - loss: 0.1252 - val_loss: 0.1250\n",
      "Epoch 34/100\n",
      "60000/60000 [==============================] - 3s 56us/step - loss: 0.1244 - val_loss: 0.1227\n",
      "Epoch 35/100\n",
      "60000/60000 [==============================] - 3s 58us/step - loss: 0.1238 - val_loss: 0.1227\n",
      "Epoch 36/100\n",
      "60000/60000 [==============================] - 3s 57us/step - loss: 0.1230 - val_loss: 0.1205\n",
      "Epoch 37/100\n",
      "60000/60000 [==============================] - 3s 56us/step - loss: 0.1225 - val_loss: 0.1204\n",
      "Epoch 38/100\n",
      "60000/60000 [==============================] - 3s 57us/step - loss: 0.1217 - val_loss: 0.1205\n",
      "Epoch 39/100\n",
      "60000/60000 [==============================] - 3s 56us/step - loss: 0.1211 - val_loss: 0.1195\n",
      "Epoch 40/100\n",
      "60000/60000 [==============================] - 3s 58us/step - loss: 0.1205 - val_loss: 0.1186\n",
      "Epoch 41/100\n",
      "60000/60000 [==============================] - 3s 57us/step - loss: 0.1197 - val_loss: 0.1176\n",
      "Epoch 42/100\n",
      "60000/60000 [==============================] - 4s 61us/step - loss: 0.1192 - val_loss: 0.1176\n",
      "Epoch 43/100\n",
      "60000/60000 [==============================] - 4s 59us/step - loss: 0.1186 - val_loss: 0.1166\n",
      "Epoch 44/100\n",
      "60000/60000 [==============================] - 3s 57us/step - loss: 0.1179 - val_loss: 0.1166\n",
      "Epoch 45/100\n",
      "60000/60000 [==============================] - 4s 59us/step - loss: 0.1173 - val_loss: 0.1144\n",
      "Epoch 46/100\n",
      "60000/60000 [==============================] - 3s 57us/step - loss: 0.1167 - val_loss: 0.1148\n",
      "Epoch 47/100\n",
      "60000/60000 [==============================] - 3s 58us/step - loss: 0.1162 - val_loss: 0.1144\n",
      "Epoch 48/100\n",
      "60000/60000 [==============================] - 3s 58us/step - loss: 0.1157 - val_loss: 0.1151\n",
      "Epoch 49/100\n",
      "60000/60000 [==============================] - 4s 60us/step - loss: 0.1151 - val_loss: 0.1139\n",
      "Epoch 50/100\n",
      "60000/60000 [==============================] - 4s 59us/step - loss: 0.1146 - val_loss: 0.1126\n",
      "Epoch 51/100\n",
      "60000/60000 [==============================] - 4s 59us/step - loss: 0.1140 - val_loss: 0.1120\n",
      "Epoch 52/100\n",
      "60000/60000 [==============================] - 3s 58us/step - loss: 0.1135 - val_loss: 0.1126\n",
      "Epoch 53/100\n",
      "60000/60000 [==============================] - 3s 58us/step - loss: 0.1130 - val_loss: 0.1116\n",
      "Epoch 54/100\n",
      "60000/60000 [==============================] - 3s 58us/step - loss: 0.1126 - val_loss: 0.1111\n",
      "Epoch 55/100\n",
      "60000/60000 [==============================] - 3s 57us/step - loss: 0.1123 - val_loss: 0.1113\n",
      "Epoch 56/100\n",
      "60000/60000 [==============================] - 3s 58us/step - loss: 0.1118 - val_loss: 0.1107\n",
      "Epoch 57/100\n",
      "60000/60000 [==============================] - 3s 58us/step - loss: 0.1113 - val_loss: 0.1101\n",
      "Epoch 58/100\n",
      "60000/60000 [==============================] - 3s 57us/step - loss: 0.1110 - val_loss: 0.1094\n",
      "Epoch 59/100\n",
      "60000/60000 [==============================] - 3s 58us/step - loss: 0.1105 - val_loss: 0.1086\n",
      "Epoch 60/100\n",
      "60000/60000 [==============================] - 3s 58us/step - loss: 0.1102 - val_loss: 0.1094\n",
      "Epoch 61/100\n",
      "60000/60000 [==============================] - 4s 60us/step - loss: 0.1098 - val_loss: 0.1078\n",
      "Epoch 62/100\n",
      "60000/60000 [==============================] - 3s 58us/step - loss: 0.1093 - val_loss: 0.1076\n",
      "Epoch 63/100\n",
      "60000/60000 [==============================] - 4s 59us/step - loss: 0.1092 - val_loss: 0.1080\n",
      "Epoch 64/100\n",
      "60000/60000 [==============================] - 3s 58us/step - loss: 0.1088 - val_loss: 0.1082\n",
      "Epoch 65/100\n",
      "60000/60000 [==============================] - 3s 58us/step - loss: 0.1085 - val_loss: 0.1071\n",
      "Epoch 66/100\n",
      "60000/60000 [==============================] - 4s 59us/step - loss: 0.1081 - val_loss: 0.1076\n",
      "Epoch 67/100\n",
      "60000/60000 [==============================] - 4s 58us/step - loss: 0.1079 - val_loss: 0.1054\n",
      "Epoch 68/100\n",
      "60000/60000 [==============================] - 4s 61us/step - loss: 0.1077 - val_loss: 0.1064\n",
      "Epoch 69/100\n",
      "60000/60000 [==============================] - 4s 61us/step - loss: 0.1074 - val_loss: 0.1058\n",
      "Epoch 70/100\n",
      "60000/60000 [==============================] - 3s 57us/step - loss: 0.1072 - val_loss: 0.1081\n",
      "Epoch 71/100\n",
      "60000/60000 [==============================] - 4s 59us/step - loss: 0.1069 - val_loss: 0.1062\n",
      "Epoch 72/100\n",
      "60000/60000 [==============================] - 3s 58us/step - loss: 0.1068 - val_loss: 0.1054\n",
      "Epoch 73/100\n",
      "60000/60000 [==============================] - 4s 60us/step - loss: 0.1065 - val_loss: 0.1052\n",
      "Epoch 74/100\n"
     ]
    },
    {
     "name": "stdout",
     "output_type": "stream",
     "text": [
      "60000/60000 [==============================] - 3s 54us/step - loss: 0.1061 - val_loss: 0.1055\n",
      "Epoch 75/100\n",
      "60000/60000 [==============================] - 3s 54us/step - loss: 0.1060 - val_loss: 0.1046\n",
      "Epoch 76/100\n",
      "60000/60000 [==============================] - 3s 55us/step - loss: 0.1058 - val_loss: 0.1045\n",
      "Epoch 77/100\n",
      "60000/60000 [==============================] - 3s 55us/step - loss: 0.1055 - val_loss: 0.1051\n",
      "Epoch 78/100\n",
      "60000/60000 [==============================] - 3s 55us/step - loss: 0.1053 - val_loss: 0.1049\n",
      "Epoch 79/100\n",
      "60000/60000 [==============================] - 3s 54us/step - loss: 0.1052 - val_loss: 0.1034\n",
      "Epoch 80/100\n",
      "60000/60000 [==============================] - 3s 54us/step - loss: 0.1048 - val_loss: 0.1047\n",
      "Epoch 81/100\n",
      "60000/60000 [==============================] - 3s 54us/step - loss: 0.1047 - val_loss: 0.1031\n",
      "Epoch 82/100\n",
      "60000/60000 [==============================] - 3s 54us/step - loss: 0.1045 - val_loss: 0.1027\n",
      "Epoch 83/100\n",
      "60000/60000 [==============================] - 3s 55us/step - loss: 0.1042 - val_loss: 0.1030\n",
      "Epoch 84/100\n",
      "60000/60000 [==============================] - 3s 56us/step - loss: 0.1041 - val_loss: 0.1026\n",
      "Epoch 85/100\n",
      "60000/60000 [==============================] - 3s 57us/step - loss: 0.1040 - val_loss: 0.1022\n",
      "Epoch 86/100\n",
      "60000/60000 [==============================] - 3s 57us/step - loss: 0.1035 - val_loss: 0.1034\n",
      "Epoch 87/100\n",
      "60000/60000 [==============================] - 3s 56us/step - loss: 0.1035 - val_loss: 0.1029\n",
      "Epoch 88/100\n",
      "60000/60000 [==============================] - 4s 60us/step - loss: 0.1033 - val_loss: 0.1022\n",
      "Epoch 89/100\n",
      "60000/60000 [==============================] - 3s 58us/step - loss: 0.1030 - val_loss: 0.1018\n",
      "Epoch 90/100\n",
      "60000/60000 [==============================] - 3s 58us/step - loss: 0.1029 - val_loss: 0.1017\n",
      "Epoch 91/100\n",
      "60000/60000 [==============================] - 4s 59us/step - loss: 0.1027 - val_loss: 0.1016\n",
      "Epoch 92/100\n",
      "60000/60000 [==============================] - 3s 57us/step - loss: 0.1024 - val_loss: 0.1007\n",
      "Epoch 93/100\n",
      "60000/60000 [==============================] - 4s 60us/step - loss: 0.1023 - val_loss: 0.1007\n",
      "Epoch 94/100\n",
      "60000/60000 [==============================] - 4s 63us/step - loss: 0.1022 - val_loss: 0.1004\n",
      "Epoch 95/100\n",
      "60000/60000 [==============================] - 4s 61us/step - loss: 0.1019 - val_loss: 0.1002\n",
      "Epoch 96/100\n",
      "60000/60000 [==============================] - 3s 58us/step - loss: 0.1017 - val_loss: 0.1010\n",
      "Epoch 97/100\n",
      "60000/60000 [==============================] - 3s 55us/step - loss: 0.1015 - val_loss: 0.1001\n",
      "Epoch 98/100\n",
      "60000/60000 [==============================] - 4s 68us/step - loss: 0.1014 - val_loss: 0.1007\n",
      "Epoch 99/100\n",
      "60000/60000 [==============================] - 4s 63us/step - loss: 0.1012 - val_loss: 0.1003\n",
      "Epoch 100/100\n",
      "60000/60000 [==============================] - 3s 53us/step - loss: 0.1010 - val_loss: 0.1008\n"
     ]
    },
    {
     "data": {
      "text/plain": [
       "<keras.callbacks.History at 0x1247223c8>"
      ]
     },
     "execution_count": 3,
     "metadata": {},
     "output_type": "execute_result"
    }
   ],
   "source": [
    "from keras.layers import Input, Dense\n",
    "from keras.models import Model\n",
    "\n",
    "input_img = Input(shape=(784,))\n",
    "encoded = Dense(128, activation='relu')(input_img)\n",
    "encoded = Dense(64, activation='relu')(encoded)\n",
    "encoded = Dense(32, activation='relu')(encoded)\n",
    "\n",
    "decoded = Dense(64, activation='relu')(encoded)\n",
    "decoded = Dense(128, activation='relu')(decoded)\n",
    "decoded = Dense(784, activation='sigmoid')(decoded)\n",
    "autoencoder = Model(input_img, decoded)\n",
    "autoencoder.compile(optimizer='adadelta', loss='binary_crossentropy')\n",
    "\n",
    "autoencoder.fit(x_train, x_train,\n",
    "                epochs=100,\n",
    "                batch_size=256,\n",
    "                shuffle=True,\n",
    "                validation_data=(x_test, x_test))"
   ]
  },
  {
   "cell_type": "markdown",
   "metadata": {},
   "source": [
    "## 檢視原始與重建數據"
   ]
  },
  {
   "cell_type": "code",
   "execution_count": 5,
   "metadata": {},
   "outputs": [],
   "source": [
    "\n",
    "encoded_imgs = autoencoder.predict(x_test)\n",
    "decoded_imgs = autoencoder.predict(encoded_imgs)"
   ]
  },
  {
   "cell_type": "code",
   "execution_count": 6,
   "metadata": {},
   "outputs": [
    {
     "name": "stdout",
     "output_type": "stream",
     "text": [
      "Populating the interactive namespace from numpy and matplotlib\n"
     ]
    },
    {
     "data": {
      "image/png": "[encoded data removed]",
      "text/plain": [
       "<Figure size 1440x288 with 20 Axes>"
      ]
     },
     "metadata": {},
     "output_type": "display_data"
    }
   ],
   "source": [
    "%pylab inline\n",
    "import matplotlib.pyplot as plt\n",
    "\n",
    "n = 10  # how many digits we will display\n",
    "plt.figure(figsize=(20, 4))\n",
    "for i in range(n):\n",
    "    # display original\n",
    "    ax = plt.subplot(2, n, i + 1)\n",
    "    plt.imshow(x_test[i].reshape(28, 28))\n",
    "    plt.gray()\n",
    "    ax.get_xaxis().set_visible(False)\n",
    "    ax.get_yaxis().set_visible(False)\n",
    "\n",
    "    # display reconstruction\n",
    "    ax = plt.subplot(2, n, i + 1 + n)\n",
    "    plt.imshow(decoded_imgs[i].reshape(28, 28))\n",
    "    plt.gray()\n",
    "    ax.get_xaxis().set_visible(False)\n",
    "    ax.get_yaxis().set_visible(False)\n",
    "plt.show()"
   ]
  },
  {
   "cell_type": "code",
   "execution_count": null,
   "metadata": {},
   "outputs": [],
   "source": []
  }
 ],
 "metadata": {
  "kernelspec": {
   "display_name": "Python 3",
   "language": "python",
   "name": "python3"
  },
  "language_info": {
   "codemirror_mode": {
    "name": "ipython",
    "version": 3
   },
   "file_extension": ".py",
   "mimetype": "text/x-python",
   "name": "python",
   "nbconvert_exporter": "python",
   "pygments_lexer": "ipython3",
   "version": "3.6.2"
  }
 },
 "nbformat": 4,
 "nbformat_minor": 2
}
