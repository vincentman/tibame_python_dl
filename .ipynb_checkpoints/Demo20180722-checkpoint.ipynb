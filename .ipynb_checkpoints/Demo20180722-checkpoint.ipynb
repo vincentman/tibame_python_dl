{
 "cells": [
  {
   "cell_type": "markdown",
   "metadata": {},
   "source": [
    "## ARIMA\n",
    "- http://ucanalytics.com/blogs/time-series-decomposition-manufacturing-case-study-example-part-2/\n",
    "- https://rpubs.com/zkajdan/316135"
   ]
  },
  {
   "cell_type": "code",
   "execution_count": 15,
   "metadata": {},
   "outputs": [],
   "source": [
    "import pandas\n",
    "df = pandas.read_csv('https://raw.githubusercontent.com/ywchiu/tibamedl/master/Data/2330.TW.csv')\n",
    "#df"
   ]
  },
  {
   "cell_type": "code",
   "execution_count": 17,
   "metadata": {},
   "outputs": [],
   "source": [
    "df = df[~ df['Close'].isna()]"
   ]
  },
  {
   "cell_type": "code",
   "execution_count": 18,
   "metadata": {
    "scrolled": true
   },
   "outputs": [
    {
     "name": "stdout",
     "output_type": "stream",
     "text": [
      "Populating the interactive namespace from numpy and matplotlib\n"
     ]
    },
    {
     "data": {
      "text/plain": [
       "<matplotlib.axes._subplots.AxesSubplot at 0x8b1d898>"
      ]
     },
     "execution_count": 18,
     "metadata": {},
     "output_type": "execute_result"
    },
    {
     "data": {
      "image/png": "[encoded data removed]",
      "text/plain": [
       "<Figure size 432x288 with 1 Axes>"
      ]
     },
     "metadata": {},
     "output_type": "display_data"
    }
   ],
   "source": [
    "%pylab inline\n",
    "df['Close'].plot(kind = 'line')"
   ]
  },
  {
   "cell_type": "code",
   "execution_count": 19,
   "metadata": {},
   "outputs": [
    {
     "data": {
      "text/plain": [
       "Date         1851\n",
       "Open         1851\n",
       "High         1851\n",
       "Low          1851\n",
       "Close        1851\n",
       "Adj Close    1851\n",
       "Volume       1851\n",
       "dtype: int64"
      ]
     },
     "execution_count": 19,
     "metadata": {},
     "output_type": "execute_result"
    }
   ],
   "source": [
    "df.count()"
   ]
  },
  {
   "cell_type": "code",
   "execution_count": 20,
   "metadata": {},
   "outputs": [],
   "source": [
    "trainset = df.iloc[0:1551,:]\n",
    "testset  = df.iloc[1551: ,:]"
   ]
  },
  {
   "cell_type": "code",
   "execution_count": 21,
   "metadata": {},
   "outputs": [
    {
     "data": {
      "text/plain": [
       "(1551, 7)"
      ]
     },
     "execution_count": 21,
     "metadata": {},
     "output_type": "execute_result"
    }
   ],
   "source": [
    "trainset.shape"
   ]
  },
  {
   "cell_type": "code",
   "execution_count": 22,
   "metadata": {},
   "outputs": [
    {
     "data": {
      "text/plain": [
       "(300, 7)"
      ]
     },
     "execution_count": 22,
     "metadata": {},
     "output_type": "execute_result"
    }
   ],
   "source": [
    "testset.shape"
   ]
  },
  {
   "cell_type": "code",
   "execution_count": 23,
   "metadata": {},
   "outputs": [
    {
     "data": {
      "text/html": [
       "<div>\n",
       "<style scoped>\n",
       "    .dataframe tbody tr th:only-of-type {\n",
       "        vertical-align: middle;\n",
       "    }\n",
       "\n",
       "    .dataframe tbody tr th {\n",
       "        vertical-align: top;\n",
       "    }\n",
       "\n",
       "    .dataframe thead th {\n",
       "        text-align: right;\n",
       "    }\n",
       "</style>\n",
       "<table border=\"1\" class=\"dataframe\">\n",
       "  <thead>\n",
       "    <tr style=\"text-align: right;\">\n",
       "      <th></th>\n",
       "      <th>Date</th>\n",
       "      <th>Open</th>\n",
       "      <th>High</th>\n",
       "      <th>Low</th>\n",
       "      <th>Close</th>\n",
       "      <th>Adj Close</th>\n",
       "      <th>Volume</th>\n",
       "    </tr>\n",
       "  </thead>\n",
       "  <tbody>\n",
       "    <tr>\n",
       "      <th>1551</th>\n",
       "      <td>2017-04-25</td>\n",
       "      <td>190.5</td>\n",
       "      <td>192.0</td>\n",
       "      <td>189.5</td>\n",
       "      <td>192.0</td>\n",
       "      <td>179.272598</td>\n",
       "      <td>31932000.0</td>\n",
       "    </tr>\n",
       "    <tr>\n",
       "      <th>1552</th>\n",
       "      <td>2017-04-26</td>\n",
       "      <td>192.0</td>\n",
       "      <td>192.0</td>\n",
       "      <td>190.5</td>\n",
       "      <td>191.0</td>\n",
       "      <td>178.338898</td>\n",
       "      <td>29909000.0</td>\n",
       "    </tr>\n",
       "    <tr>\n",
       "      <th>1553</th>\n",
       "      <td>2017-04-27</td>\n",
       "      <td>192.0</td>\n",
       "      <td>193.0</td>\n",
       "      <td>190.5</td>\n",
       "      <td>193.0</td>\n",
       "      <td>180.206314</td>\n",
       "      <td>27940000.0</td>\n",
       "    </tr>\n",
       "    <tr>\n",
       "      <th>1554</th>\n",
       "      <td>2017-04-28</td>\n",
       "      <td>193.5</td>\n",
       "      <td>194.5</td>\n",
       "      <td>193.0</td>\n",
       "      <td>194.5</td>\n",
       "      <td>181.606888</td>\n",
       "      <td>34852000.0</td>\n",
       "    </tr>\n",
       "    <tr>\n",
       "      <th>1555</th>\n",
       "      <td>2017-05-02</td>\n",
       "      <td>198.5</td>\n",
       "      <td>199.0</td>\n",
       "      <td>195.5</td>\n",
       "      <td>196.5</td>\n",
       "      <td>183.474304</td>\n",
       "      <td>44119000.0</td>\n",
       "    </tr>\n",
       "  </tbody>\n",
       "</table>\n",
       "</div>"
      ],
      "text/plain": [
       "            Date   Open   High    Low  Close   Adj Close      Volume\n",
       "1551  2017-04-25  190.5  192.0  189.5  192.0  179.272598  31932000.0\n",
       "1552  2017-04-26  192.0  192.0  190.5  191.0  178.338898  29909000.0\n",
       "1553  2017-04-27  192.0  193.0  190.5  193.0  180.206314  27940000.0\n",
       "1554  2017-04-28  193.5  194.5  193.0  194.5  181.606888  34852000.0\n",
       "1555  2017-05-02  198.5  199.0  195.5  196.5  183.474304  44119000.0"
      ]
     },
     "execution_count": 23,
     "metadata": {},
     "output_type": "execute_result"
    }
   ],
   "source": [
    "trainset.tail()"
   ]
  },
  {
   "cell_type": "code",
   "execution_count": 24,
   "metadata": {},
   "outputs": [
    {
     "data": {
      "text/html": [
       "<div>\n",
       "<style scoped>\n",
       "    .dataframe tbody tr th:only-of-type {\n",
       "        vertical-align: middle;\n",
       "    }\n",
       "\n",
       "    .dataframe tbody tr th {\n",
       "        vertical-align: top;\n",
       "    }\n",
       "\n",
       "    .dataframe thead th {\n",
       "        text-align: right;\n",
       "    }\n",
       "</style>\n",
       "<table border=\"1\" class=\"dataframe\">\n",
       "  <thead>\n",
       "    <tr style=\"text-align: right;\">\n",
       "      <th></th>\n",
       "      <th>Date</th>\n",
       "      <th>Open</th>\n",
       "      <th>High</th>\n",
       "      <th>Low</th>\n",
       "      <th>Close</th>\n",
       "      <th>Adj Close</th>\n",
       "      <th>Volume</th>\n",
       "    </tr>\n",
       "  </thead>\n",
       "  <tbody>\n",
       "    <tr>\n",
       "      <th>1556</th>\n",
       "      <td>2017-05-03</td>\n",
       "      <td>198.0</td>\n",
       "      <td>198.5</td>\n",
       "      <td>197.0</td>\n",
       "      <td>198.0</td>\n",
       "      <td>184.874878</td>\n",
       "      <td>25723000.0</td>\n",
       "    </tr>\n",
       "    <tr>\n",
       "      <th>1557</th>\n",
       "      <td>2017-05-04</td>\n",
       "      <td>198.5</td>\n",
       "      <td>199.0</td>\n",
       "      <td>197.0</td>\n",
       "      <td>198.0</td>\n",
       "      <td>184.874878</td>\n",
       "      <td>22088000.0</td>\n",
       "    </tr>\n",
       "    <tr>\n",
       "      <th>1558</th>\n",
       "      <td>2017-05-05</td>\n",
       "      <td>197.0</td>\n",
       "      <td>198.5</td>\n",
       "      <td>197.0</td>\n",
       "      <td>197.5</td>\n",
       "      <td>184.408020</td>\n",
       "      <td>17036000.0</td>\n",
       "    </tr>\n",
       "    <tr>\n",
       "      <th>1559</th>\n",
       "      <td>2017-05-08</td>\n",
       "      <td>199.0</td>\n",
       "      <td>202.5</td>\n",
       "      <td>199.0</td>\n",
       "      <td>202.5</td>\n",
       "      <td>189.076569</td>\n",
       "      <td>36538000.0</td>\n",
       "    </tr>\n",
       "    <tr>\n",
       "      <th>1560</th>\n",
       "      <td>2017-05-09</td>\n",
       "      <td>205.5</td>\n",
       "      <td>207.0</td>\n",
       "      <td>203.5</td>\n",
       "      <td>203.5</td>\n",
       "      <td>190.010284</td>\n",
       "      <td>48077000.0</td>\n",
       "    </tr>\n",
       "  </tbody>\n",
       "</table>\n",
       "</div>"
      ],
      "text/plain": [
       "            Date   Open   High    Low  Close   Adj Close      Volume\n",
       "1556  2017-05-03  198.0  198.5  197.0  198.0  184.874878  25723000.0\n",
       "1557  2017-05-04  198.5  199.0  197.0  198.0  184.874878  22088000.0\n",
       "1558  2017-05-05  197.0  198.5  197.0  197.5  184.408020  17036000.0\n",
       "1559  2017-05-08  199.0  202.5  199.0  202.5  189.076569  36538000.0\n",
       "1560  2017-05-09  205.5  207.0  203.5  203.5  190.010284  48077000.0"
      ]
     },
     "execution_count": 24,
     "metadata": {},
     "output_type": "execute_result"
    }
   ],
   "source": [
    "testset.head()"
   ]
  },
  {
   "cell_type": "code",
   "execution_count": 25,
   "metadata": {},
   "outputs": [],
   "source": [
    "from pandas import Series\n",
    "from statsmodels.tsa.arima_model import ARIMA\n",
    "import numpy\n",
    "\n",
    "# create a differenced series\n",
    "def difference(dataset, interval=1):\n",
    "\tdiff = list()\n",
    "\tfor i in range(interval, len(dataset)):\n",
    "\t\tvalue = dataset[i] - dataset[i - interval]\n",
    "\t\tdiff.append(value)\n",
    "\treturn numpy.array(diff)\n",
    "\n",
    "# invert differenced value\n",
    "def inverse_difference(history, yhat, interval=1):\n",
    "\treturn yhat + history[-interval]"
   ]
  },
  {
   "cell_type": "code",
   "execution_count": 37,
   "metadata": {},
   "outputs": [],
   "source": [
    "X = trainset.Close.values\n",
    "differenced = difference(X, 365)"
   ]
  },
  {
   "cell_type": "code",
   "execution_count": 39,
   "metadata": {},
   "outputs": [
    {
     "data": {
      "text/plain": [
       "array([10.200005, 12.100006, 14.399994, ..., 53.      , 54.5     ,\n",
       "       57.5     ])"
      ]
     },
     "execution_count": 39,
     "metadata": {},
     "output_type": "execute_result"
    }
   ],
   "source": [
    "differenced"
   ]
  },
  {
   "cell_type": "code",
   "execution_count": 45,
   "metadata": {},
   "outputs": [],
   "source": [
    "# fit model\n",
    "model = ARIMA(differenced, order=(7,0,1))\n",
    "model_fit = model.fit(disp=0)"
   ]
  },
  {
   "cell_type": "code",
   "execution_count": 46,
   "metadata": {},
   "outputs": [],
   "source": [
    "# multi-step out-of-sample forecast\n",
    "start_index = len(differenced)\n",
    "end_index = start_index + 6\n",
    "forecast = model_fit.predict(start=start_index, end=end_index)"
   ]
  },
  {
   "cell_type": "code",
   "execution_count": 47,
   "metadata": {},
   "outputs": [
    {
     "name": "stdout",
     "output_type": "stream",
     "text": [
      "Day 1: 194.959280\n",
      "Day 2: 192.553089\n",
      "Day 3: 192.380521\n",
      "Day 4: 192.642703\n",
      "Day 5: 194.489287\n",
      "Day 6: 199.143919\n",
      "Day 7: 197.213715\n"
     ]
    }
   ],
   "source": [
    "# invert the differenced forecast to something usable\n",
    "history = [x for x in X]\n",
    "day = 1\n",
    "for yhat in forecast:\n",
    "\tinverted = inverse_difference(history, yhat, days_in_year)\n",
    "\tprint('Day %d: %f' % (day, inverted))\n",
    "\thistory.append(inverted)\n",
    "\tday += 1"
   ]
  },
  {
   "cell_type": "code",
   "execution_count": 49,
   "metadata": {},
   "outputs": [
    {
     "data": {
      "text/html": [
       "<div>\n",
       "<style scoped>\n",
       "    .dataframe tbody tr th:only-of-type {\n",
       "        vertical-align: middle;\n",
       "    }\n",
       "\n",
       "    .dataframe tbody tr th {\n",
       "        vertical-align: top;\n",
       "    }\n",
       "\n",
       "    .dataframe thead th {\n",
       "        text-align: right;\n",
       "    }\n",
       "</style>\n",
       "<table border=\"1\" class=\"dataframe\">\n",
       "  <thead>\n",
       "    <tr style=\"text-align: right;\">\n",
       "      <th></th>\n",
       "      <th>Date</th>\n",
       "      <th>Open</th>\n",
       "      <th>High</th>\n",
       "      <th>Low</th>\n",
       "      <th>Close</th>\n",
       "      <th>Adj Close</th>\n",
       "      <th>Volume</th>\n",
       "    </tr>\n",
       "  </thead>\n",
       "  <tbody>\n",
       "    <tr>\n",
       "      <th>1556</th>\n",
       "      <td>2017-05-03</td>\n",
       "      <td>198.0</td>\n",
       "      <td>198.5</td>\n",
       "      <td>197.0</td>\n",
       "      <td>198.0</td>\n",
       "      <td>184.874878</td>\n",
       "      <td>25723000.0</td>\n",
       "    </tr>\n",
       "    <tr>\n",
       "      <th>1557</th>\n",
       "      <td>2017-05-04</td>\n",
       "      <td>198.5</td>\n",
       "      <td>199.0</td>\n",
       "      <td>197.0</td>\n",
       "      <td>198.0</td>\n",
       "      <td>184.874878</td>\n",
       "      <td>22088000.0</td>\n",
       "    </tr>\n",
       "    <tr>\n",
       "      <th>1558</th>\n",
       "      <td>2017-05-05</td>\n",
       "      <td>197.0</td>\n",
       "      <td>198.5</td>\n",
       "      <td>197.0</td>\n",
       "      <td>197.5</td>\n",
       "      <td>184.408020</td>\n",
       "      <td>17036000.0</td>\n",
       "    </tr>\n",
       "    <tr>\n",
       "      <th>1559</th>\n",
       "      <td>2017-05-08</td>\n",
       "      <td>199.0</td>\n",
       "      <td>202.5</td>\n",
       "      <td>199.0</td>\n",
       "      <td>202.5</td>\n",
       "      <td>189.076569</td>\n",
       "      <td>36538000.0</td>\n",
       "    </tr>\n",
       "    <tr>\n",
       "      <th>1560</th>\n",
       "      <td>2017-05-09</td>\n",
       "      <td>205.5</td>\n",
       "      <td>207.0</td>\n",
       "      <td>203.5</td>\n",
       "      <td>203.5</td>\n",
       "      <td>190.010284</td>\n",
       "      <td>48077000.0</td>\n",
       "    </tr>\n",
       "    <tr>\n",
       "      <th>1561</th>\n",
       "      <td>2017-05-10</td>\n",
       "      <td>204.0</td>\n",
       "      <td>206.0</td>\n",
       "      <td>204.0</td>\n",
       "      <td>205.5</td>\n",
       "      <td>191.877701</td>\n",
       "      <td>28312000.0</td>\n",
       "    </tr>\n",
       "  </tbody>\n",
       "</table>\n",
       "</div>"
      ],
      "text/plain": [
       "            Date   Open   High    Low  Close   Adj Close      Volume\n",
       "1556  2017-05-03  198.0  198.5  197.0  198.0  184.874878  25723000.0\n",
       "1557  2017-05-04  198.5  199.0  197.0  198.0  184.874878  22088000.0\n",
       "1558  2017-05-05  197.0  198.5  197.0  197.5  184.408020  17036000.0\n",
       "1559  2017-05-08  199.0  202.5  199.0  202.5  189.076569  36538000.0\n",
       "1560  2017-05-09  205.5  207.0  203.5  203.5  190.010284  48077000.0\n",
       "1561  2017-05-10  204.0  206.0  204.0  205.5  191.877701  28312000.0"
      ]
     },
     "execution_count": 49,
     "metadata": {},
     "output_type": "execute_result"
    }
   ],
   "source": [
    "testset[0 : 6]"
   ]
  },
  {
   "cell_type": "code",
   "execution_count": 54,
   "metadata": {},
   "outputs": [],
   "source": [
    "training_set = trainset[~ trainset['Close'].isna()].iloc[:, 4:5].values"
   ]
  },
  {
   "cell_type": "code",
   "execution_count": 55,
   "metadata": {},
   "outputs": [],
   "source": [
    "from sklearn.preprocessing import MinMaxScaler\n",
    "sc = MinMaxScaler(feature_range = (0, 1))\n",
    "training_set_scaled = sc.fit_transform(training_set)"
   ]
  },
  {
   "cell_type": "code",
   "execution_count": 56,
   "metadata": {},
   "outputs": [],
   "source": [
    "import numpy as np\n",
    "X_train = []\n",
    "y_train = []\n",
    "for i in range(60, len(training_set)):\n",
    "    X_train.append(training_set_scaled[i-60:i, 0])\n",
    "    y_train.append(training_set_scaled[i,0])\n",
    "X_train, y_train = np.array(X_train), np.array(y_train)"
   ]
  },
  {
   "cell_type": "code",
   "execution_count": 63,
   "metadata": {},
   "outputs": [],
   "source": [
    "import numpy as np\n",
    "X_train = np.reshape(X_train, (X_train.shape[0], X_train.shape[1], 1))"
   ]
  },
  {
   "cell_type": "code",
   "execution_count": 64,
   "metadata": {},
   "outputs": [
    {
     "data": {
      "text/plain": [
       "(1491, 60, 1)"
      ]
     },
     "execution_count": 64,
     "metadata": {},
     "output_type": "execute_result"
    }
   ],
   "source": [
    "X_train.shape"
   ]
  },
  {
   "cell_type": "code",
   "execution_count": 65,
   "metadata": {},
   "outputs": [
    {
     "data": {
      "text/plain": [
       "(1491,)"
      ]
     },
     "execution_count": 65,
     "metadata": {},
     "output_type": "execute_result"
    }
   ],
   "source": [
    "y_train.shape"
   ]
  },
  {
   "cell_type": "markdown",
   "metadata": {},
   "source": [
    "## LSTM"
   ]
  },
  {
   "cell_type": "code",
   "execution_count": 66,
   "metadata": {},
   "outputs": [],
   "source": [
    "# Importing the Keras libraries and packages\n",
    "from keras.models import Sequential \n",
    "from keras.layers import Dense\n",
    "from keras.layers import LSTM\n",
    "from keras.layers import Dropout\n",
    "\n",
    "# Initialising the RNN\n",
    "regressor = Sequential()\n",
    "\n",
    "regressor.add(LSTM(units = 50, return_sequences = True, input_shape = (X_train.shape[1], 1)))\n",
    "regressor.add(Dropout(0.2))\n",
    "\n",
    "regressor.add(LSTM(units = 50, return_sequences = True)) \n",
    "regressor.add(Dropout(0.2))\n",
    "\n",
    "regressor.add(LSTM(units = 50, return_sequences = True)) \n",
    "regressor.add(Dropout(0.2))\n",
    "\n",
    "regressor.add(LSTM(units = 50))\n",
    "regressor.add(Dropout(0.2))\n",
    "\n",
    "regressor.add(Dense(units = 1))"
   ]
  },
  {
   "cell_type": "code",
   "execution_count": 67,
   "metadata": {},
   "outputs": [
    {
     "name": "stdout",
     "output_type": "stream",
     "text": [
      "Epoch 1/100\n",
      "1491/1491 [==============================] - 7s 4ms/step - loss: 0.0378\n",
      "Epoch 2/100\n",
      "1491/1491 [==============================] - 4s 3ms/step - loss: 0.0038\n",
      "Epoch 3/100\n",
      "1491/1491 [==============================] - 4s 2ms/step - loss: 0.0036\n",
      "Epoch 4/100\n",
      "1491/1491 [==============================] - 4s 2ms/step - loss: 0.0036\n",
      "Epoch 5/100\n",
      "1491/1491 [==============================] - 4s 2ms/step - loss: 0.0036\n",
      "Epoch 6/100\n",
      "1491/1491 [==============================] - 4s 3ms/step - loss: 0.0036\n",
      "Epoch 7/100\n",
      "1491/1491 [==============================] - 4s 3ms/step - loss: 0.0034\n",
      "Epoch 8/100\n",
      "1491/1491 [==============================] - 4s 3ms/step - loss: 0.0031\n",
      "Epoch 9/100\n",
      "1491/1491 [==============================] - 4s 3ms/step - loss: 0.0030\n",
      "Epoch 10/100\n",
      "1491/1491 [==============================] - 4s 3ms/step - loss: 0.0029\n",
      "Epoch 11/100\n",
      "1491/1491 [==============================] - 4s 3ms/step - loss: 0.0031\n",
      "Epoch 12/100\n",
      "1491/1491 [==============================] - 4s 2ms/step - loss: 0.0029\n",
      "Epoch 13/100\n",
      "1491/1491 [==============================] - 4s 2ms/step - loss: 0.0027\n",
      "Epoch 14/100\n",
      "1491/1491 [==============================] - 4s 3ms/step - loss: 0.0026\n",
      "Epoch 15/100\n",
      "1491/1491 [==============================] - 4s 3ms/step - loss: 0.0025A: 0s - l\n",
      "Epoch 16/100\n",
      "1491/1491 [==============================] - 4s 3ms/step - loss: 0.0029\n",
      "Epoch 17/100\n",
      "1491/1491 [==============================] - 4s 2ms/step - loss: 0.0032\n",
      "Epoch 18/100\n",
      "1491/1491 [==============================] - 4s 3ms/step - loss: 0.0024\n",
      "Epoch 19/100\n",
      "1491/1491 [==============================] - 4s 3ms/step - loss: 0.0026\n",
      "Epoch 20/100\n",
      "1491/1491 [==============================] - 4s 3ms/step - loss: 0.0025\n",
      "Epoch 21/100\n",
      "1491/1491 [==============================] - 4s 3ms/step - loss: 0.0025\n",
      "Epoch 22/100\n",
      "1491/1491 [==============================] - 4s 3ms/step - loss: 0.0024\n",
      "Epoch 23/100\n",
      "1491/1491 [==============================] - 4s 3ms/step - loss: 0.0022\n",
      "Epoch 24/100\n",
      "1491/1491 [==============================] - 4s 2ms/step - loss: 0.0023\n",
      "Epoch 25/100\n",
      "1491/1491 [==============================] - 4s 2ms/step - loss: 0.0020\n",
      "Epoch 26/100\n",
      "1491/1491 [==============================] - 4s 3ms/step - loss: 0.0022\n",
      "Epoch 27/100\n",
      "1491/1491 [==============================] - 4s 3ms/step - loss: 0.0021\n",
      "Epoch 28/100\n",
      "1491/1491 [==============================] - 4s 3ms/step - loss: 0.0022\n",
      "Epoch 29/100\n",
      "1491/1491 [==============================] - 4s 2ms/step - loss: 0.0021\n",
      "Epoch 30/100\n",
      "1491/1491 [==============================] - 4s 3ms/step - loss: 0.0023\n",
      "Epoch 31/100\n",
      "1491/1491 [==============================] - 4s 2ms/step - loss: 0.0020\n",
      "Epoch 32/100\n",
      "1491/1491 [==============================] - 4s 3ms/step - loss: 0.0019\n",
      "Epoch 33/100\n",
      "1491/1491 [==============================] - 4s 3ms/step - loss: 0.0024\n",
      "Epoch 34/100\n",
      "1491/1491 [==============================] - 4s 3ms/step - loss: 0.0020\n",
      "Epoch 35/100\n",
      "1491/1491 [==============================] - 4s 3ms/step - loss: 0.0017\n",
      "Epoch 36/100\n",
      "1491/1491 [==============================] - 4s 3ms/step - loss: 0.0017\n",
      "Epoch 37/100\n",
      "1491/1491 [==============================] - 4s 2ms/step - loss: 0.0017\n",
      "Epoch 38/100\n",
      "1491/1491 [==============================] - 4s 3ms/step - loss: 0.0018\n",
      "Epoch 39/100\n",
      "1491/1491 [==============================] - 4s 3ms/step - loss: 0.0018\n",
      "Epoch 40/100\n",
      "1491/1491 [==============================] - 4s 3ms/step - loss: 0.0018\n",
      "Epoch 41/100\n",
      "1491/1491 [==============================] - 4s 3ms/step - loss: 0.0018\n",
      "Epoch 42/100\n",
      "1491/1491 [==============================] - 4s 3ms/step - loss: 0.0017\n",
      "Epoch 43/100\n",
      "1491/1491 [==============================] - 4s 3ms/step - loss: 0.0019\n",
      "Epoch 44/100\n",
      "1491/1491 [==============================] - 4s 3ms/step - loss: 0.0016\n",
      "Epoch 45/100\n",
      "1491/1491 [==============================] - 4s 3ms/step - loss: 0.0018\n",
      "Epoch 46/100\n",
      "1491/1491 [==============================] - 4s 3ms/step - loss: 0.0015\n",
      "Epoch 47/100\n",
      "1491/1491 [==============================] - 4s 3ms/step - loss: 0.0017\n",
      "Epoch 48/100\n",
      "1491/1491 [==============================] - 4s 2ms/step - loss: 0.0017\n",
      "Epoch 49/100\n",
      "1491/1491 [==============================] - 4s 2ms/step - loss: 0.0018\n",
      "Epoch 50/100\n",
      "1491/1491 [==============================] - 4s 2ms/step - loss: 0.0015\n",
      "Epoch 51/100\n",
      "1491/1491 [==============================] - 4s 2ms/step - loss: 0.0017\n",
      "Epoch 52/100\n",
      "1491/1491 [==============================] - 4s 2ms/step - loss: 0.0016\n",
      "Epoch 53/100\n",
      "1491/1491 [==============================] - 4s 2ms/step - loss: 0.0016\n",
      "Epoch 54/100\n",
      "1491/1491 [==============================] - 4s 2ms/step - loss: 0.0015\n",
      "Epoch 55/100\n",
      "1491/1491 [==============================] - 4s 2ms/step - loss: 0.0015\n",
      "Epoch 56/100\n",
      "1491/1491 [==============================] - 4s 2ms/step - loss: 0.0014\n",
      "Epoch 57/100\n",
      "1491/1491 [==============================] - 4s 2ms/step - loss: 0.0014\n",
      "Epoch 58/100\n",
      "1491/1491 [==============================] - 4s 2ms/step - loss: 0.0016\n",
      "Epoch 59/100\n",
      "1491/1491 [==============================] - 4s 3ms/step - loss: 0.0014\n",
      "Epoch 60/100\n",
      "1491/1491 [==============================] - 4s 2ms/step - loss: 0.0014\n",
      "Epoch 61/100\n",
      "1491/1491 [==============================] - 4s 2ms/step - loss: 0.0016\n",
      "Epoch 62/100\n",
      "1491/1491 [==============================] - 4s 2ms/step - loss: 0.0014\n",
      "Epoch 63/100\n",
      "1491/1491 [==============================] - 4s 2ms/step - loss: 0.0015\n",
      "Epoch 64/100\n",
      "1491/1491 [==============================] - 3s 2ms/step - loss: 0.0015\n",
      "Epoch 65/100\n",
      "1491/1491 [==============================] - 3s 2ms/step - loss: 0.0014\n",
      "Epoch 66/100\n",
      "1491/1491 [==============================] - 3s 2ms/step - loss: 0.0013\n",
      "Epoch 67/100\n",
      "1491/1491 [==============================] - 3s 2ms/step - loss: 0.0014\n",
      "Epoch 68/100\n",
      "1491/1491 [==============================] - 4s 2ms/step - loss: 0.0012\n",
      "Epoch 69/100\n",
      "1491/1491 [==============================] - 3s 2ms/step - loss: 0.0011\n",
      "Epoch 70/100\n",
      "1491/1491 [==============================] - 4s 2ms/step - loss: 0.0013\n",
      "Epoch 71/100\n",
      "1491/1491 [==============================] - 4s 3ms/step - loss: 0.0014\n",
      "Epoch 72/100\n",
      "1491/1491 [==============================] - 4s 3ms/step - loss: 0.0013\n",
      "Epoch 73/100\n",
      "1491/1491 [==============================] - 4s 3ms/step - loss: 0.0013\n",
      "Epoch 74/100\n",
      "1491/1491 [==============================] - 4s 2ms/step - loss: 0.0014\n",
      "Epoch 75/100\n",
      "1491/1491 [==============================] - 4s 3ms/step - loss: 0.0014\n",
      "Epoch 76/100\n",
      "1491/1491 [==============================] - 4s 3ms/step - loss: 0.0014\n",
      "Epoch 77/100\n",
      "1491/1491 [==============================] - 4s 2ms/step - loss: 0.0012\n",
      "Epoch 78/100\n",
      "1491/1491 [==============================] - 4s 2ms/step - loss: 0.0011\n",
      "Epoch 79/100\n",
      "1491/1491 [==============================] - 4s 2ms/step - loss: 0.0013\n",
      "Epoch 80/100\n",
      "1491/1491 [==============================] - 3s 2ms/step - loss: 0.0013\n",
      "Epoch 81/100\n",
      "1491/1491 [==============================] - 4s 2ms/step - loss: 0.0012\n",
      "Epoch 82/100\n",
      "1491/1491 [==============================] - 3s 2ms/step - loss: 0.0013\n",
      "Epoch 83/100\n",
      "1491/1491 [==============================] - 3s 2ms/step - loss: 0.0011\n",
      "Epoch 84/100\n",
      "1491/1491 [==============================] - 3s 2ms/step - loss: 0.0014\n",
      "Epoch 85/100\n",
      "1491/1491 [==============================] - 3s 2ms/step - loss: 0.0011\n",
      "Epoch 86/100\n",
      "1491/1491 [==============================] - 3s 2ms/step - loss: 0.0011\n",
      "Epoch 87/100\n",
      "1491/1491 [==============================] - 3s 2ms/step - loss: 0.0011\n",
      "Epoch 88/100\n",
      "1491/1491 [==============================] - 4s 2ms/step - loss: 0.0011\n",
      "Epoch 89/100\n",
      "1491/1491 [==============================] - 4s 2ms/step - loss: 0.0011\n",
      "Epoch 90/100\n",
      "1491/1491 [==============================] - 4s 2ms/step - loss: 0.0012\n",
      "Epoch 91/100\n",
      "1491/1491 [==============================] - 4s 2ms/step - loss: 0.0010\n",
      "Epoch 92/100\n",
      "1491/1491 [==============================] - 3s 2ms/step - loss: 0.0012\n",
      "Epoch 93/100\n",
      "1491/1491 [==============================] - 3s 2ms/step - loss: 0.0011\n",
      "Epoch 94/100\n",
      "1491/1491 [==============================] - 3s 2ms/step - loss: 0.0012\n",
      "Epoch 95/100\n",
      "1491/1491 [==============================] - 3s 2ms/step - loss: 0.0010\n",
      "Epoch 96/100\n",
      "1491/1491 [==============================] - 3s 2ms/step - loss: 9.9105e-04\n",
      "Epoch 97/100\n",
      "1491/1491 [==============================] - 3s 2ms/step - loss: 0.0011\n",
      "Epoch 98/100\n",
      "1491/1491 [==============================] - 3s 2ms/step - loss: 0.0013\n",
      "Epoch 99/100\n",
      "1491/1491 [==============================] - 3s 2ms/step - loss: 0.0013\n",
      "Epoch 100/100\n",
      "1491/1491 [==============================] - 4s 2ms/step - loss: 9.9153e-04\n"
     ]
    },
    {
     "data": {
      "text/plain": [
       "<keras.callbacks.History at 0x18482f98>"
      ]
     },
     "execution_count": 67,
     "metadata": {},
     "output_type": "execute_result"
    }
   ],
   "source": [
    "# Compiling the RNN\n",
    "regressor.compile(optimizer = 'adam', loss = 'mean_squared_error')\n",
    "\n",
    "# Fitting the RNN to the Training set\n",
    "regressor.fit(X_train, y_train, epochs = 100, batch_size = 32)"
   ]
  },
  {
   "cell_type": "code",
   "execution_count": 71,
   "metadata": {},
   "outputs": [],
   "source": [
    "real_stock_price = testset.iloc[:,4:5].values"
   ]
  },
  {
   "cell_type": "code",
   "execution_count": 72,
   "metadata": {},
   "outputs": [
    {
     "data": {
      "text/plain": [
       "1827    227.0\n",
       "1828    226.0\n",
       "1829    229.0\n",
       "1830    232.0\n",
       "1831    226.5\n",
       "1832    231.0\n",
       "1833    225.0\n",
       "1834    226.0\n",
       "1835    226.5\n",
       "1836    227.5\n",
       "1837    218.0\n",
       "1838    214.5\n",
       "1839    213.0\n",
       "1840    212.0\n",
       "1841    216.5\n",
       "1842    214.0\n",
       "1843    214.5\n",
       "1844    216.0\n",
       "1845    214.5\n",
       "1846    217.0\n",
       "1847    221.5\n",
       "1848    222.0\n",
       "1849    220.0\n",
       "1850    220.5\n",
       "1851    224.5\n",
       "1852    223.5\n",
       "1853    221.5\n",
       "1854    223.0\n",
       "1855    224.5\n",
       "1856    237.5\n",
       "Name: Close, dtype: float64"
      ]
     },
     "execution_count": 72,
     "metadata": {},
     "output_type": "execute_result"
    }
   ],
   "source": [
    "dataset_total = pandas.concat((trainset['Close'], testset['Close']), axis = 0)\n",
    "dataset_total.tail(30)"
   ]
  },
  {
   "cell_type": "code",
   "execution_count": 74,
   "metadata": {},
   "outputs": [],
   "source": [
    "inputs = dataset_total[len(dataset_total) - len(testset['Close']) - 60:].values"
   ]
  },
  {
   "cell_type": "code",
   "execution_count": 76,
   "metadata": {},
   "outputs": [],
   "source": [
    "inputs = inputs.reshape(-1,1)"
   ]
  },
  {
   "cell_type": "code",
   "execution_count": 78,
   "metadata": {},
   "outputs": [],
   "source": [
    "inputs = sc.transform(inputs)"
   ]
  },
  {
   "cell_type": "code",
   "execution_count": 83,
   "metadata": {},
   "outputs": [
    {
     "data": {
      "text/plain": [
       "360"
      ]
     },
     "execution_count": 83,
     "metadata": {},
     "output_type": "execute_result"
    }
   ],
   "source": [
    "len(inputs)"
   ]
  },
  {
   "cell_type": "code",
   "execution_count": 84,
   "metadata": {},
   "outputs": [],
   "source": [
    "X_test = []\n",
    "for i in range(60, 360):\n",
    "    X_test.append(inputs[i-60:i, 0])"
   ]
  },
  {
   "cell_type": "code",
   "execution_count": 85,
   "metadata": {},
   "outputs": [
    {
     "data": {
      "text/plain": [
       "300"
      ]
     },
     "execution_count": 85,
     "metadata": {},
     "output_type": "execute_result"
    }
   ],
   "source": [
    "len(X_test)"
   ]
  },
  {
   "cell_type": "code",
   "execution_count": 87,
   "metadata": {},
   "outputs": [],
   "source": [
    "X_test = np.array(X_test)"
   ]
  },
  {
   "cell_type": "code",
   "execution_count": 88,
   "metadata": {},
   "outputs": [],
   "source": [
    "X_test = np.reshape(X_test, (X_test.shape[0], X_test.shape[1], 1))"
   ]
  },
  {
   "cell_type": "code",
   "execution_count": 89,
   "metadata": {},
   "outputs": [],
   "source": [
    "predicted_stock_price = regressor.predict(X_test)"
   ]
  },
  {
   "cell_type": "code",
   "execution_count": 91,
   "metadata": {},
   "outputs": [],
   "source": [
    "predicted_stock_price = sc.inverse_transform(predicted_stock_price)"
   ]
  },
  {
   "cell_type": "code",
   "execution_count": 100,
   "metadata": {},
   "outputs": [
    {
     "data": {
      "image/png": "[encoded data removed]",
      "text/plain": [
       "<Figure size 432x288 with 1 Axes>"
      ]
     },
     "metadata": {},
     "output_type": "display_data"
    }
   ],
   "source": [
    "import matplotlib.pyplot as plt\n",
    "plt.plot(real_stock_price, color = 'red', label = 'Real TW2330 Stock Price')\n",
    "plt.plot(predicted_stock_price, color = 'blue', label = 'Predicted TW2330 Stock Price')\n",
    "plt.title('TW2330 Stock Price Prediction')\n",
    "plt.xlabel('Time')\n",
    "plt.ylabel('TW2330 Stock Price')\n",
    "plt.legend()\n",
    "plt.show()"
   ]
  },
  {
   "cell_type": "code",
   "execution_count": 96,
   "metadata": {},
   "outputs": [],
   "source": [
    "predicted_stock_price2 = regressor.predict(X_train)\n",
    "predicted_stock_price2 = sc.inverse_transform(predicted_stock_price2)\n",
    "real_stock_price2 = training_set"
   ]
  },
  {
   "cell_type": "code",
   "execution_count": 101,
   "metadata": {},
   "outputs": [
    {
     "data": {
      "image/png": "[encoded data removed]",
      "text/plain": [
       "<Figure size 432x288 with 1 Axes>"
      ]
     },
     "metadata": {},
     "output_type": "display_data"
    }
   ],
   "source": [
    "import matplotlib.pyplot as plt\n",
    "plt.plot(real_stock_price2, color = 'red', label = 'Real TW2330 Stock Price')\n",
    "plt.plot(predicted_stock_price2, color = 'blue', label = 'Predicted TW2330 Stock Price')\n",
    "plt.title('TW2330 Stock Price Prediction')\n",
    "plt.xlabel('Time')\n",
    "plt.ylabel('TW2330 Stock Price')\n",
    "plt.legend()\n",
    "plt.show()"
   ]
  },
  {
   "cell_type": "markdown",
   "metadata": {},
   "source": [
    "## 預測火鍋搜尋趨勢"
   ]
  },
  {
   "cell_type": "code",
   "execution_count": 102,
   "metadata": {},
   "outputs": [],
   "source": [
    "import pandas\n",
    "df = pandas.read_csv('https://raw.githubusercontent.com/ywchiu/tibamedl/master/Data/hotpot.csv', skiprows= [0,1])"
   ]
  },
  {
   "cell_type": "code",
   "execution_count": 104,
   "metadata": {},
   "outputs": [],
   "source": [
    "df.columns = ['月', '火鍋']"
   ]
  },
  {
   "cell_type": "code",
   "execution_count": 107,
   "metadata": {},
   "outputs": [
    {
     "data": {
      "text/plain": [
       "<matplotlib.axes._subplots.AxesSubplot at 0x1c868358>"
      ]
     },
     "execution_count": 107,
     "metadata": {},
     "output_type": "execute_result"
    },
    {
     "data": {
      "image/png": "[encoded data removed]",
      "text/plain": [
       "<Figure size 432x288 with 1 Axes>"
      ]
     },
     "metadata": {},
     "output_type": "display_data"
    }
   ],
   "source": [
    "df['火鍋'].plot(kind='line')"
   ]
  },
  {
   "cell_type": "code",
   "execution_count": 109,
   "metadata": {},
   "outputs": [],
   "source": [
    "#trainset = df['火鍋'].values"
   ]
  },
  {
   "cell_type": "code",
   "execution_count": 110,
   "metadata": {},
   "outputs": [
    {
     "data": {
      "text/plain": [
       "175"
      ]
     },
     "execution_count": 110,
     "metadata": {},
     "output_type": "execute_result"
    }
   ],
   "source": [
    "len(df['火鍋'].values)"
   ]
  },
  {
   "cell_type": "code",
   "execution_count": 112,
   "metadata": {},
   "outputs": [],
   "source": [
    "dataset = df['火鍋'].values"
   ]
  },
  {
   "cell_type": "code",
   "execution_count": 113,
   "metadata": {},
   "outputs": [],
   "source": [
    "X_train = []\n",
    "y_train = []\n",
    "for i in range(7, 175):\n",
    "    X_train.append(dataset[i-7:i])\n",
    "    y_train.append(dataset[i])\n",
    "    \n",
    "X_train, y_train = np.array(X_train), np.array(y_train)"
   ]
  },
  {
   "cell_type": "code",
   "execution_count": 114,
   "metadata": {},
   "outputs": [],
   "source": [
    "X_train2 = np.reshape(X_train, (X_train.shape[0], X_train.shape[1], 1))"
   ]
  },
  {
   "cell_type": "code",
   "execution_count": 116,
   "metadata": {},
   "outputs": [],
   "source": [
    "#X_train2"
   ]
  },
  {
   "cell_type": "code",
   "execution_count": 117,
   "metadata": {},
   "outputs": [],
   "source": [
    "# Importing the Keras libraries and packages\n",
    "from keras.models import Sequential \n",
    "from keras.layers import Dense\n",
    "from keras.layers import LSTM\n",
    "\n",
    "# Initialising the RNN\n",
    "regressor = Sequential()\n",
    "\n",
    "regressor.add(LSTM(units = 50, return_sequences = True, input_shape = (X_train2.shape[1], 1)))\n",
    "regressor.add(Dropout(0.2))\n",
    "\n",
    "regressor.add(LSTM(units = 50))\n",
    "regressor.add(Dropout(0.2))\n",
    "\n",
    "regressor.add(Dense(units = 1))"
   ]
  },
  {
   "cell_type": "code",
   "execution_count": 118,
   "metadata": {},
   "outputs": [
    {
     "name": "stdout",
     "output_type": "stream",
     "text": [
      "Epoch 1/100\n",
      "168/168 [==============================] - 2s 11ms/step - loss: 1095.9671\n",
      "Epoch 2/100\n",
      "168/168 [==============================] - 0s 3ms/step - loss: 786.9549\n",
      "Epoch 3/100\n",
      "168/168 [==============================] - 0s 3ms/step - loss: 688.7997\n",
      "Epoch 4/100\n",
      "168/168 [==============================] - 1s 3ms/step - loss: 607.6683\n",
      "Epoch 5/100\n",
      "168/168 [==============================] - 0s 3ms/step - loss: 556.2781\n",
      "Epoch 6/100\n",
      "168/168 [==============================] - 0s 3ms/step - loss: 491.1815\n",
      "Epoch 7/100\n",
      "168/168 [==============================] - 1s 3ms/step - loss: 423.6583\n",
      "Epoch 8/100\n",
      "168/168 [==============================] - 1s 3ms/step - loss: 374.5789\n",
      "Epoch 9/100\n",
      "168/168 [==============================] - 0s 3ms/step - loss: 338.1880\n",
      "Epoch 10/100\n",
      "168/168 [==============================] - 0s 3ms/step - loss: 303.8201\n",
      "Epoch 11/100\n",
      "168/168 [==============================] - 0s 3ms/step - loss: 272.9048\n",
      "Epoch 12/100\n",
      "168/168 [==============================] - 1s 3ms/step - loss: 251.7236\n",
      "Epoch 13/100\n",
      "168/168 [==============================] - 0s 3ms/step - loss: 213.3771\n",
      "Epoch 14/100\n",
      "168/168 [==============================] - 1s 3ms/step - loss: 198.1158\n",
      "Epoch 15/100\n",
      "168/168 [==============================] - 0s 3ms/step - loss: 177.4983\n",
      "Epoch 16/100\n",
      "168/168 [==============================] - 1s 3ms/step - loss: 175.6899\n",
      "Epoch 17/100\n",
      "168/168 [==============================] - 0s 3ms/step - loss: 164.0046\n",
      "Epoch 18/100\n",
      "168/168 [==============================] - 1s 3ms/step - loss: 161.6925\n",
      "Epoch 19/100\n",
      "168/168 [==============================] - 0s 3ms/step - loss: 140.9621\n",
      "Epoch 20/100\n",
      "168/168 [==============================] - 1s 3ms/step - loss: 136.0791\n",
      "Epoch 21/100\n",
      "168/168 [==============================] - 1s 3ms/step - loss: 125.1903\n",
      "Epoch 22/100\n",
      "168/168 [==============================] - 1s 3ms/step - loss: 114.6853\n",
      "Epoch 23/100\n",
      "168/168 [==============================] - 0s 3ms/step - loss: 113.2759\n",
      "Epoch 24/100\n",
      "168/168 [==============================] - 0s 3ms/step - loss: 109.5847\n",
      "Epoch 25/100\n",
      "168/168 [==============================] - 0s 3ms/step - loss: 105.2567\n",
      "Epoch 26/100\n",
      "168/168 [==============================] - 0s 3ms/step - loss: 107.4235\n",
      "Epoch 27/100\n",
      "168/168 [==============================] - 0s 3ms/step - loss: 96.2644\n",
      "Epoch 28/100\n",
      "168/168 [==============================] - 0s 3ms/step - loss: 90.8283\n",
      "Epoch 29/100\n",
      "168/168 [==============================] - 0s 3ms/step - loss: 88.1409\n",
      "Epoch 30/100\n",
      "168/168 [==============================] - 0s 3ms/step - loss: 91.5351\n",
      "Epoch 31/100\n",
      "168/168 [==============================] - 0s 3ms/step - loss: 71.7691\n",
      "Epoch 32/100\n",
      "168/168 [==============================] - 0s 3ms/step - loss: 73.2154\n",
      "Epoch 33/100\n",
      "168/168 [==============================] - 0s 3ms/step - loss: 75.5470\n",
      "Epoch 34/100\n",
      "168/168 [==============================] - 0s 3ms/step - loss: 69.8199\n",
      "Epoch 35/100\n",
      "168/168 [==============================] - 0s 3ms/step - loss: 77.6185\n",
      "Epoch 36/100\n",
      "168/168 [==============================] - 0s 3ms/step - loss: 76.9872\n",
      "Epoch 37/100\n",
      "168/168 [==============================] - 0s 3ms/step - loss: 69.3646\n",
      "Epoch 38/100\n",
      "168/168 [==============================] - 0s 3ms/step - loss: 63.4192\n",
      "Epoch 39/100\n",
      "168/168 [==============================] - 0s 3ms/step - loss: 68.1780\n",
      "Epoch 40/100\n",
      "168/168 [==============================] - 0s 3ms/step - loss: 60.9114\n",
      "Epoch 41/100\n",
      "168/168 [==============================] - 0s 3ms/step - loss: 64.2573\n",
      "Epoch 42/100\n",
      "168/168 [==============================] - 0s 3ms/step - loss: 55.0283\n",
      "Epoch 43/100\n",
      "168/168 [==============================] - 0s 3ms/step - loss: 69.7827\n",
      "Epoch 44/100\n",
      "168/168 [==============================] - 0s 3ms/step - loss: 60.0233\n",
      "Epoch 45/100\n",
      "168/168 [==============================] - 0s 3ms/step - loss: 61.7413\n",
      "Epoch 46/100\n",
      "168/168 [==============================] - 0s 3ms/step - loss: 59.9724\n",
      "Epoch 47/100\n",
      "168/168 [==============================] - 0s 3ms/step - loss: 62.0387\n",
      "Epoch 48/100\n",
      "168/168 [==============================] - 0s 3ms/step - loss: 56.3687\n",
      "Epoch 49/100\n",
      "168/168 [==============================] - 1s 3ms/step - loss: 53.7607\n",
      "Epoch 50/100\n",
      "168/168 [==============================] - 1s 3ms/step - loss: 57.2666\n",
      "Epoch 51/100\n",
      "168/168 [==============================] - 1s 3ms/step - loss: 63.0071\n",
      "Epoch 52/100\n",
      "168/168 [==============================] - 1s 3ms/step - loss: 50.4619\n",
      "Epoch 53/100\n",
      "168/168 [==============================] - 1s 3ms/step - loss: 60.3415\n",
      "Epoch 54/100\n",
      "168/168 [==============================] - 1s 3ms/step - loss: 53.8361\n",
      "Epoch 55/100\n",
      "168/168 [==============================] - 1s 3ms/step - loss: 47.5330\n",
      "Epoch 56/100\n",
      "168/168 [==============================] - 1s 3ms/step - loss: 64.3721\n",
      "Epoch 57/100\n",
      "168/168 [==============================] - 0s 3ms/step - loss: 53.5296\n",
      "Epoch 58/100\n",
      "168/168 [==============================] - 0s 3ms/step - loss: 50.9898\n",
      "Epoch 59/100\n",
      "168/168 [==============================] - 1s 3ms/step - loss: 51.1813\n",
      "Epoch 60/100\n",
      "168/168 [==============================] - 1s 3ms/step - loss: 61.8585\n",
      "Epoch 61/100\n",
      "168/168 [==============================] - 1s 3ms/step - loss: 65.0815\n",
      "Epoch 62/100\n",
      "168/168 [==============================] - 1s 3ms/step - loss: 54.9751\n",
      "Epoch 63/100\n",
      "168/168 [==============================] - 0s 3ms/step - loss: 48.0099\n",
      "Epoch 64/100\n",
      "168/168 [==============================] - 0s 3ms/step - loss: 49.7927\n",
      "Epoch 65/100\n",
      "168/168 [==============================] - 0s 3ms/step - loss: 47.4842\n",
      "Epoch 66/100\n",
      "168/168 [==============================] - 1s 3ms/step - loss: 41.3996\n",
      "Epoch 67/100\n",
      "168/168 [==============================] - 0s 3ms/step - loss: 53.8683\n",
      "Epoch 68/100\n",
      "168/168 [==============================] - 1s 3ms/step - loss: 51.9156\n",
      "Epoch 69/100\n",
      "168/168 [==============================] - 1s 3ms/step - loss: 54.6549\n",
      "Epoch 70/100\n",
      "168/168 [==============================] - 1s 3ms/step - loss: 50.5972\n",
      "Epoch 71/100\n",
      "168/168 [==============================] - 0s 3ms/step - loss: 53.8124\n",
      "Epoch 72/100\n",
      "168/168 [==============================] - 1s 3ms/step - loss: 55.7758\n",
      "Epoch 73/100\n",
      "168/168 [==============================] - 1s 3ms/step - loss: 40.7739\n",
      "Epoch 74/100\n",
      "168/168 [==============================] - 1s 3ms/step - loss: 50.3384\n",
      "Epoch 75/100\n",
      "168/168 [==============================] - 1s 3ms/step - loss: 39.5020\n",
      "Epoch 76/100\n",
      "168/168 [==============================] - 1s 3ms/step - loss: 47.5027\n",
      "Epoch 77/100\n",
      "168/168 [==============================] - 1s 3ms/step - loss: 42.6781\n",
      "Epoch 78/100\n",
      "168/168 [==============================] - 1s 3ms/step - loss: 46.1307\n",
      "Epoch 79/100\n",
      "168/168 [==============================] - 1s 3ms/step - loss: 51.9907\n",
      "Epoch 80/100\n",
      "168/168 [==============================] - 1s 3ms/step - loss: 43.9260\n",
      "Epoch 81/100\n",
      "168/168 [==============================] - 1s 3ms/step - loss: 43.9085\n",
      "Epoch 82/100\n",
      "168/168 [==============================] - 1s 3ms/step - loss: 48.8945\n",
      "Epoch 83/100\n",
      "168/168 [==============================] - 1s 3ms/step - loss: 48.4984\n",
      "Epoch 84/100\n",
      "168/168 [==============================] - 1s 3ms/step - loss: 45.2274\n",
      "Epoch 85/100\n",
      "168/168 [==============================] - 1s 3ms/step - loss: 46.4861\n",
      "Epoch 86/100\n",
      "168/168 [==============================] - 1s 3ms/step - loss: 49.3848\n",
      "Epoch 87/100\n",
      "168/168 [==============================] - 1s 3ms/step - loss: 49.7880\n",
      "Epoch 88/100\n",
      "168/168 [==============================] - 1s 3ms/step - loss: 51.2953\n",
      "Epoch 89/100\n",
      "168/168 [==============================] - 1s 3ms/step - loss: 45.9365\n",
      "Epoch 90/100\n",
      "168/168 [==============================] - 1s 3ms/step - loss: 45.1993\n",
      "Epoch 91/100\n",
      "168/168 [==============================] - 1s 3ms/step - loss: 44.9461\n",
      "Epoch 92/100\n",
      "168/168 [==============================] - 1s 3ms/step - loss: 50.1573\n",
      "Epoch 93/100\n",
      "168/168 [==============================] - 1s 3ms/step - loss: 41.6185\n",
      "Epoch 94/100\n",
      "168/168 [==============================] - 1s 3ms/step - loss: 40.6405\n",
      "Epoch 95/100\n",
      "168/168 [==============================] - 1s 3ms/step - loss: 40.7552\n",
      "Epoch 96/100\n",
      "168/168 [==============================] - 1s 3ms/step - loss: 32.9671\n",
      "Epoch 97/100\n",
      "168/168 [==============================] - 1s 3ms/step - loss: 40.8994\n",
      "Epoch 98/100\n",
      "168/168 [==============================] - 1s 3ms/step - loss: 33.0714\n",
      "Epoch 99/100\n",
      "168/168 [==============================] - 0s 3ms/step - loss: 46.3079\n",
      "Epoch 100/100\n",
      "168/168 [==============================] - 0s 3ms/step - loss: 38.2787\n"
     ]
    },
    {
     "data": {
      "text/plain": [
       "<keras.callbacks.History at 0x1eedb668>"
      ]
     },
     "execution_count": 118,
     "metadata": {},
     "output_type": "execute_result"
    }
   ],
   "source": [
    "# Compiling the RNN\n",
    "regressor.compile(optimizer = 'adam', loss = 'mean_squared_error')\n",
    "\n",
    "# Fitting the RNN to the Training set\n",
    "regressor.fit(X_train2, y_train, epochs = 100, batch_size = 2)"
   ]
  },
  {
   "cell_type": "code",
   "execution_count": 119,
   "metadata": {},
   "outputs": [],
   "source": [
    "predicted = regressor.predict(X_train2)"
   ]
  },
  {
   "cell_type": "code",
   "execution_count": 120,
   "metadata": {},
   "outputs": [
    {
     "data": {
      "image/png": "[encoded data removed]",
      "text/plain": [
       "<Figure size 432x288 with 1 Axes>"
      ]
     },
     "metadata": {},
     "output_type": "display_data"
    }
   ],
   "source": [
    "import matplotlib.pyplot as plt\n",
    "plt.plot(dataset, color = 'red', label = 'Real Data')\n",
    "plt.plot(predicted, color = 'blue', label = 'Predicted Price')\n",
    "plt.title('Prediction')\n",
    "plt.xlabel('Time')\n",
    "plt.ylabel('Google Trends')\n",
    "plt.legend()\n",
    "plt.show()"
   ]
  },
  {
   "cell_type": "markdown",
   "metadata": {},
   "source": [
    "## 使用LSTM 讓電腦自動寫文章 "
   ]
  },
  {
   "cell_type": "code",
   "execution_count": 122,
   "metadata": {},
   "outputs": [
    {
     "name": "stdout",
     "output_type": "stream",
     "text": [
      "Corpus length: 600893\n"
     ]
    }
   ],
   "source": [
    "import keras\n",
    "import numpy as np\n",
    "\n",
    "path = keras.utils.get_file(\n",
    "    'nietzsche.txt',\n",
    "    origin='https://s3.amazonaws.com/text-datasets/nietzsche.txt')\n",
    "text = open(path, encoding='utf-8').read().lower()\n",
    "print('Corpus length:', len(text))"
   ]
  },
  {
   "cell_type": "code",
   "execution_count": 124,
   "metadata": {},
   "outputs": [
    {
     "data": {
      "text/plain": [
       "57"
      ]
     },
     "execution_count": 124,
     "metadata": {},
     "output_type": "execute_result"
    }
   ],
   "source": [
    "len(set(list(text)))"
   ]
  },
  {
   "cell_type": "code",
   "execution_count": 126,
   "metadata": {},
   "outputs": [],
   "source": [
    "#set(list(text))"
   ]
  },
  {
   "cell_type": "code",
   "execution_count": 128,
   "metadata": {},
   "outputs": [
    {
     "name": "stdout",
     "output_type": "stream",
     "text": [
      "0\n",
      "3\n",
      "6\n",
      "9\n"
     ]
    }
   ],
   "source": [
    "for i in range(0,10, 3):\n",
    "    print(i)"
   ]
  },
  {
   "cell_type": "code",
   "execution_count": 129,
   "metadata": {},
   "outputs": [
    {
     "name": "stdout",
     "output_type": "stream",
     "text": [
      "Number of sequences: 200278\n"
     ]
    }
   ],
   "source": [
    "# 從文章中取得序列長度\n",
    "maxlen = 60\n",
    "\n",
    "# 按步驟數進行隨機採樣\n",
    "step = 3\n",
    "\n",
    "# 保留句子的序列\n",
    "sentences = []\n",
    "\n",
    "# 保留下一個字元\n",
    "next_chars = []\n",
    "\n",
    "for i in range(0, len(text) - maxlen, step):\n",
    "    # 根據step，每次取出 maxlen 的序列為 train data\n",
    "    sentences.append(text[i: i + maxlen])\n",
    "    # 取出序列的下一個字元當 targets\n",
    "    next_chars.append(text[i + maxlen])\n",
    "print('Number of sequences:', len(sentences))"
   ]
  },
  {
   "cell_type": "code",
   "execution_count": 131,
   "metadata": {},
   "outputs": [
    {
     "name": "stdout",
     "output_type": "stream",
     "text": [
      "['\\n', ' ', '!', '\"', \"'\", '(', ')', ',', '-', '.', '0', '1', '2', '3', '4', '5', '6', '7', '8', '9', ':', ';', '=', '?', '[', ']', '_', 'a', 'b', 'c', 'd', 'e', 'f', 'g', 'h', 'i', 'j', 'k', 'l', 'm', 'n', 'o', 'p', 'q', 'r', 's', 't', 'u', 'v', 'w', 'x', 'y', 'z', 'ä', 'æ', 'é', 'ë']\n",
      "Unique characters: 57\n"
     ]
    }
   ],
   "source": [
    "# 產生詞彙表\n",
    "chars = sorted(list(set(text)))\n",
    "print(chars)\n",
    "print('Unique characters:', len(chars))"
   ]
  },
  {
   "cell_type": "code",
   "execution_count": 134,
   "metadata": {},
   "outputs": [
    {
     "name": "stdout",
     "output_type": "stream",
     "text": [
      "{'\\n': 0, ' ': 1, '!': 2, '\"': 3, \"'\": 4, '(': 5, ')': 6, ',': 7, '-': 8, '.': 9, '0': 10, '1': 11, '2': 12, '3': 13, '4': 14, '5': 15, '6': 16, '7': 17, '8': 18, '9': 19, ':': 20, ';': 21, '=': 22, '?': 23, '[': 24, ']': 25, '_': 26, 'a': 27, 'b': 28, 'c': 29, 'd': 30, 'e': 31, 'f': 32, 'g': 33, 'h': 34, 'i': 35, 'j': 36, 'k': 37, 'l': 38, 'm': 39, 'n': 40, 'o': 41, 'p': 42, 'q': 43, 'r': 44, 's': 45, 't': 46, 'u': 47, 'v': 48, 'w': 49, 'x': 50, 'y': 51, 'z': 52, 'ä': 53, 'æ': 54, 'é': 55, 'ë': 56}\n"
     ]
    }
   ],
   "source": [
    "# 利用字典對映 char 和索引 index\n",
    "char_indices = dict((char, chars.index(char)) for char in chars)\n",
    "print(char_indices)"
   ]
  },
  {
   "cell_type": "code",
   "execution_count": 135,
   "metadata": {},
   "outputs": [],
   "source": [
    "# x：訓練樣本\n",
    "x = np.zeros((len(sentences), maxlen, len(chars)), dtype=np.bool)"
   ]
  },
  {
   "cell_type": "code",
   "execution_count": 137,
   "metadata": {},
   "outputs": [
    {
     "data": {
      "text/plain": [
       "(200278, 60, 57)"
      ]
     },
     "execution_count": 137,
     "metadata": {},
     "output_type": "execute_result"
    }
   ],
   "source": [
    "x.shape"
   ]
  },
  {
   "cell_type": "code",
   "execution_count": 138,
   "metadata": {},
   "outputs": [],
   "source": [
    "# y：目標樣本\n",
    "y = np.zeros((len(sentences), len(chars)), dtype=np.bool)"
   ]
  },
  {
   "cell_type": "code",
   "execution_count": 139,
   "metadata": {},
   "outputs": [
    {
     "data": {
      "text/plain": [
       "(200278, 57)"
      ]
     },
     "execution_count": 139,
     "metadata": {},
     "output_type": "execute_result"
    }
   ],
   "source": [
    "y.shape"
   ]
  },
  {
   "cell_type": "code",
   "execution_count": 140,
   "metadata": {},
   "outputs": [],
   "source": [
    "for i, sentence in enumerate(sentences):        # 對每個句子\n",
    "    for t, char in enumerate(sentence):         # 對每個詞\n",
    "        x[i, t, char_indices[char]] = 1         # 將訓練樣本做one-hot\n",
    "    y[i, char_indices[next_chars[i]]] = 1       # 將標籤做one-hot"
   ]
  },
  {
   "cell_type": "code",
   "execution_count": 153,
   "metadata": {},
   "outputs": [
    {
     "data": {
      "text/plain": [
       "'preface\\n\\n\\nsupposing that truth is a woman--what then? is the'"
      ]
     },
     "execution_count": 153,
     "metadata": {},
     "output_type": "execute_result"
    }
   ],
   "source": [
    "text[0:60]"
   ]
  },
  {
   "cell_type": "code",
   "execution_count": 151,
   "metadata": {},
   "outputs": [
    {
     "data": {
      "text/plain": [
       "'r'"
      ]
     },
     "execution_count": 151,
     "metadata": {},
     "output_type": "execute_result"
    }
   ],
   "source": [
    "text[60]"
   ]
  },
  {
   "cell_type": "code",
   "execution_count": 145,
   "metadata": {},
   "outputs": [
    {
     "data": {
      "text/plain": [
       "'p'"
      ]
     },
     "execution_count": 145,
     "metadata": {},
     "output_type": "execute_result"
    }
   ],
   "source": [
    "text[0]"
   ]
  },
  {
   "cell_type": "code",
   "execution_count": 148,
   "metadata": {},
   "outputs": [
    {
     "data": {
      "text/plain": [
       "'r'"
      ]
     },
     "execution_count": 148,
     "metadata": {},
     "output_type": "execute_result"
    }
   ],
   "source": [
    "text[60]"
   ]
  },
  {
   "cell_type": "code",
   "execution_count": 144,
   "metadata": {},
   "outputs": [
    {
     "data": {
      "text/plain": [
       "(array([42], dtype=int64),)"
      ]
     },
     "execution_count": 144,
     "metadata": {},
     "output_type": "execute_result"
    }
   ],
   "source": [
    "np.where(x[0][0] == True)"
   ]
  },
  {
   "cell_type": "code",
   "execution_count": 147,
   "metadata": {},
   "outputs": [
    {
     "data": {
      "text/plain": [
       "(array([44], dtype=int64),)"
      ]
     },
     "execution_count": 147,
     "metadata": {},
     "output_type": "execute_result"
    }
   ],
   "source": [
    "np.where(y[0] == True)"
   ]
  },
  {
   "cell_type": "code",
   "execution_count": 154,
   "metadata": {},
   "outputs": [],
   "source": [
    "# 使用 LSTM 做下一個字元的預測\n",
    "\n",
    "from keras import layers\n",
    "\n",
    "model = keras.models.Sequential()\n",
    "# 輸入為60 * 字串長度\n",
    "model.add(layers.LSTM(128, input_shape=(maxlen, len(chars))))\n",
    "# 以字元對應作為輸出\n",
    "model.add(layers.Dense(len(chars), activation='softmax'))\n",
    "\n",
    "model.compile(loss='categorical_crossentropy', optimizer='adam')"
   ]
  },
  {
   "cell_type": "code",
   "execution_count": 155,
   "metadata": {},
   "outputs": [
    {
     "name": "stdout",
     "output_type": "stream",
     "text": [
      "Epoch 1/1\n",
      "200278/200278 [==============================] - 150s 749us/step - loss: 2.5409\n"
     ]
    },
    {
     "data": {
      "text/plain": [
       "<keras.callbacks.History at 0x24d610f0>"
      ]
     },
     "execution_count": 155,
     "metadata": {},
     "output_type": "execute_result"
    }
   ],
   "source": [
    "model.fit(x, y, batch_size=128, epochs=1)"
   ]
  },
  {
   "cell_type": "code",
   "execution_count": 173,
   "metadata": {},
   "outputs": [
    {
     "data": {
      "text/plain": [
       "388318"
      ]
     },
     "execution_count": 173,
     "metadata": {},
     "output_type": "execute_result"
    }
   ],
   "source": [
    "import random\n",
    "start_index = random.randint(0, len(text) - maxlen - 1)\n",
    "start_index"
   ]
  },
  {
   "cell_type": "code",
   "execution_count": 174,
   "metadata": {},
   "outputs": [
    {
     "data": {
      "text/plain": [
       "'the frantic\\nstrivings and singularities with which the freed'"
      ]
     },
     "execution_count": 174,
     "metadata": {},
     "output_type": "execute_result"
    }
   ],
   "source": [
    "generated_text = text[start_index: start_index + maxlen]\n",
    "generated_text"
   ]
  },
  {
   "cell_type": "code",
   "execution_count": 175,
   "metadata": {},
   "outputs": [
    {
     "data": {
      "text/plain": [
       "'the frantic\\nstrivings and singularities with which the freed'"
      ]
     },
     "execution_count": 175,
     "metadata": {},
     "output_type": "execute_result"
    }
   ],
   "source": [
    "generated_text"
   ]
  },
  {
   "cell_type": "code",
   "execution_count": 176,
   "metadata": {},
   "outputs": [],
   "source": [
    "\n",
    "#temperature 低：會出現重複率比較高但是部分結構比較真實的文章。#tempera \n",
    "#temperature 高：文章會比較有意義，但可能會發明一些新詞，詞的部分結構可能不完整，有的詞只有單詞的一半\n",
    "#temperature=0.5：文章生成得比較好，在結構和隨機性保持平衡的情況下，產生比較好的句子。\n",
    "\n",
    "\n",
    "def sample(preds, temperature=1.0):\n",
    "    preds = np.asarray(preds).astype('float64')\n",
    "    # 根據temperature 計算\n",
    "    preds = np.log(preds) / temperature\n",
    "    exp_preds = np.exp(preds)\n",
    "    preds = exp_preds / np.sum(exp_preds)\n",
    "\n",
    "    # 回傳多項式分布的概率\n",
    "    probas = np.random.multinomial(1, preds, 1)\n",
    "    # 回傳最大index\n",
    "    return np.argmax(probas)"
   ]
  },
  {
   "cell_type": "code",
   "execution_count": 177,
   "metadata": {},
   "outputs": [
    {
     "data": {
      "text/plain": [
       "46"
      ]
     },
     "execution_count": 177,
     "metadata": {},
     "output_type": "execute_result"
    }
   ],
   "source": [
    "next_index = sample(preds, 0.5)\n",
    "next_index"
   ]
  },
  {
   "cell_type": "code",
   "execution_count": 178,
   "metadata": {},
   "outputs": [
    {
     "data": {
      "text/plain": [
       "'t'"
      ]
     },
     "execution_count": 178,
     "metadata": {},
     "output_type": "execute_result"
    }
   ],
   "source": [
    "next_char = chars[next_index]\n",
    "next_char"
   ]
  },
  {
   "cell_type": "code",
   "execution_count": 179,
   "metadata": {},
   "outputs": [],
   "source": [
    "generated_text += next_char"
   ]
  },
  {
   "cell_type": "code",
   "execution_count": 180,
   "metadata": {},
   "outputs": [
    {
     "data": {
      "text/plain": [
       "'the frantic\\nstrivings and singularities with which the freedt'"
      ]
     },
     "execution_count": 180,
     "metadata": {},
     "output_type": "execute_result"
    }
   ],
   "source": [
    "generated_text"
   ]
  },
  {
   "cell_type": "code",
   "execution_count": 187,
   "metadata": {},
   "outputs": [],
   "source": [
    "#char_indices"
   ]
  },
  {
   "cell_type": "code",
   "execution_count": 186,
   "metadata": {},
   "outputs": [
    {
     "data": {
      "text/plain": [
       "57"
      ]
     },
     "execution_count": 186,
     "metadata": {},
     "output_type": "execute_result"
    }
   ],
   "source": [
    "len(chars)"
   ]
  },
  {
   "cell_type": "code",
   "execution_count": 188,
   "metadata": {},
   "outputs": [],
   "source": [
    "import random\n",
    "start_index = random.randint(0, len(text) - maxlen - 1)\n",
    "generated_text = text[start_index: start_index + maxlen]"
   ]
  },
  {
   "cell_type": "code",
   "execution_count": 190,
   "metadata": {},
   "outputs": [
    {
     "name": "stdout",
     "output_type": "stream",
     "text": [
      " of ting ant arte the peranne wore the coresith sendes ond in the ere han the serelle the sesterithe the mert on the the gore the mont on the sore and and the indes and the indein of bereth\n",
      "ond the hestore the the and the the comctore the the hore sore the soath and the hather the the couthind an the serenture somest the the pertion to sertine for the of the beringe the sheres the parely as of the"
     ]
    }
   ],
   "source": [
    "for i in range(400):\n",
    "    sampled = np.zeros((1, maxlen, len(chars)))\n",
    "    for t, char in enumerate(generated_text):\n",
    "        # 對字元做one-hot\n",
    "\n",
    "        sampled[0, t, char_indices[char]] = 1\n",
    "\n",
    "    # 計算預測的分佈值\n",
    "    preds = model.predict(sampled, verbose=0)[0]\n",
    "    # 輸出最大機率的字元 index\n",
    "    next_index = sample(preds, 0.5)\n",
    "    # 輸出字元\n",
    "    next_char = chars[next_index]\n",
    "    generated_text += next_char\n",
    "    generated_text = generated_text[1:]\n",
    "\n",
    "    sys.stdout.write(next_char)\n",
    "    sys.stdout.flush()"
   ]
  },
  {
   "cell_type": "markdown",
   "metadata": {},
   "source": [
    "## Yelp Review\n",
    "- https://github.com/Tony607/Yelp_review_generation/releases/download/V0.1/pre-trained.hdf5"
   ]
  },
  {
   "cell_type": "code",
   "execution_count": 191,
   "metadata": {
    "scrolled": true
   },
   "outputs": [
    {
     "name": "stdout",
     "output_type": "stream",
     "text": [
      "Requirement already satisfied: h5py in c:\\programdata\\anaconda3\\lib\\site-packages (2.7.1)\n",
      "Requirement already satisfied: numpy>=1.7 in c:\\programdata\\anaconda3\\lib\\site-packages (from h5py) (1.14.3)\n",
      "Requirement already satisfied: six in c:\\programdata\\anaconda3\\lib\\site-packages (from h5py) (1.11.0)\n"
     ]
    },
    {
     "name": "stderr",
     "output_type": "stream",
     "text": [
      "distributed 1.21.8 requires msgpack, which is not installed.\n"
     ]
    }
   ],
   "source": [
    "! pip install h5py"
   ]
  },
  {
   "cell_type": "code",
   "execution_count": 192,
   "metadata": {},
   "outputs": [],
   "source": [
    "import keras\n",
    "from keras import layers\n",
    "import sys\n",
    "import numpy as np\n",
    "\n",
    "text= 'this text file can be any text, as long as it contains text longer than maxlen defined below'\n",
    "\n",
    "chars=['\\n', ' ', '!', '\"', '#', '$', '%', '&', \"'\", '(', ')', '*', ',', '-', '.', '/', '0', '1', '2', '3', '4', '5', '6', '7', '8', '9', ':', ';', '<', '=', '>', '?', '@', 'A', 'B', 'C', 'D', 'E', 'F', 'G', 'H', 'I', 'J', 'K', 'L', 'M', 'N', 'O', 'P', 'Q', 'R', 'S', 'T', 'U', 'V', 'W', 'X', 'Y', 'Z', '[', '\\\\', ']', '^', '_', '`', 'a', 'b', 'c', 'd', 'e', 'f', 'g', 'h', 'i', 'j', 'k', 'l', 'm', 'n', 'o', 'p', 'q', 'r', 's', 't', 'u', 'v', 'w', 'x', 'y', 'z', '{', '|', '}', '~']\n",
    "\n",
    "# Dictionary mapping unique characters to their index in `chars`\n",
    "char_indices = dict((char, chars.index(char)) for char in chars)\n",
    "maxlen=60\n",
    "step=1\n",
    "\n",
    "model = keras.models.Sequential()\n",
    "model.add(layers.LSTM(1024, input_shape=(maxlen, len(chars)),return_sequences=True))\n",
    "model.add(layers.LSTM(1024, input_shape=(maxlen, len(chars))))\n",
    "model.add(layers.Dense(len(chars), activation='softmax'))\n",
    "model.load_weights(\"pre-trained.hdf5\")\n",
    "\n",
    "optimizer = keras.optimizers.Adam(lr=0.0002)\n",
    "model.compile(loss='categorical_crossentropy', optimizer=optimizer)"
   ]
  },
  {
   "cell_type": "code",
   "execution_count": 194,
   "metadata": {},
   "outputs": [],
   "source": [
    "def sample(preds, temperature=1.0):\n",
    "    preds = np.asarray(preds).astype('float64')\n",
    "    preds = np.log(preds) / temperature\n",
    "    exp_preds = np.exp(preds)\n",
    "    preds = exp_preds / np.sum(exp_preds)\n",
    "    probas = np.random.multinomial(1, preds, 1)\n",
    "    return np.argmax(probas)\n",
    "\n",
    "def random_reviews():\n",
    "    # sample a start index\n",
    "    start_index = np.random.randint(0, len(text) - maxlen - 1)\n",
    "    # the initial sampled text with maxlen long\n",
    "    generated_text = text[start_index: start_index + maxlen]\n",
    "    print('Coming up with several reviews for you...')\n",
    "\n",
    "    for temperature in [0.8]:\n",
    "        sys.stdout.write(generated_text)\n",
    "\n",
    "        # We generate 600 characters\n",
    "        for i in range(600):\n",
    "            sampled = np.zeros((1, maxlen, len(chars)))\n",
    "            # Turn each char to char index.\n",
    "            for t, char in enumerate(generated_text):\n",
    "                sampled[0, t, char_indices[char]] = 1.\n",
    "            # Predict next char probabilities\n",
    "            preds = model.predict(sampled, verbose=0)[0]\n",
    "            # Add some randomness by sampling given probabilities.\n",
    "            next_index = sample(preds, temperature)\n",
    "            # Turn char index to char.\n",
    "            next_char = chars[next_index]\n",
    "            # Append char to generated text string\n",
    "            generated_text += next_char\n",
    "            # Pop the first char in generated text string.\n",
    "            generated_text = generated_text[1:]\n",
    "            # Print the new generated char.\n",
    "            sys.stdout.write(next_char)\n",
    "            sys.stdout.flush()\n",
    "        print(generated_text)"
   ]
  },
  {
   "cell_type": "code",
   "execution_count": 195,
   "metadata": {},
   "outputs": [
    {
     "name": "stdout",
     "output_type": "stream",
     "text": [
      "Coming up with several reviews for you...\n",
      "text, as long as it contains text longer than maxlen defined me with this plac"
     ]
    },
    {
     "name": "stderr",
     "output_type": "stream",
     "text": [
      "C:\\ProgramData\\Anaconda3\\lib\\site-packages\\ipykernel_launcher.py:3: RuntimeWarning: divide by zero encountered in log\n",
      "  This is separate from the ipykernel package so we can avoid doing imports until\n"
     ]
    },
    {
     "name": "stdout",
     "output_type": "stream",
     "text": [
      "e. Everything on the menu is great. I had a breakfast burrito and my boyfriend was impressed with the peanut butter. I can't wait to come back and try more of their menu.<EOR>\"\n",
      "\"<SOR>Best place to go for dosaplace with the best customer service at this place. Def recommend it to everyone.<EOR>\"\n",
      "\"<SOR>Fantastic service! The food was excellent! The owners are super friendly and attentive too.<EOR>\"\n",
      "\"<SOR>My hubby and I frequent this place once a month. They have a special touch with 20 eggs and hash browns. It's a bonus.  We will definitely come back again<EOR>\"\n",
      "\"<SOR>I can't rs.  We will definitely come back again<EOR>\"\n",
      "\"<SOR>I can't r\n"
     ]
    }
   ],
   "source": [
    "random_reviews()"
   ]
  },
  {
   "cell_type": "markdown",
   "metadata": {},
   "source": [
    "## 建立 Auto Encoders"
   ]
  },
  {
   "cell_type": "markdown",
   "metadata": {},
   "source": [
    "### 建立 Encoders & Decoders"
   ]
  },
  {
   "cell_type": "code",
   "execution_count": 216,
   "metadata": {},
   "outputs": [],
   "source": [
    "from keras.layers import Input, Dense\n",
    "from keras.models import Model"
   ]
  },
  {
   "cell_type": "code",
   "execution_count": 217,
   "metadata": {},
   "outputs": [
    {
     "data": {
      "text/plain": [
       "24.5"
      ]
     },
     "execution_count": 217,
     "metadata": {},
     "output_type": "execute_result"
    }
   ],
   "source": [
    "784 / 32"
   ]
  },
  {
   "cell_type": "code",
   "execution_count": 218,
   "metadata": {},
   "outputs": [],
   "source": [
    "# this is the size of our encoded representations\n",
    "encoding_dim = 32 \n",
    "\n",
    "# this is our input placeholder\n",
    "input_img = Input(shape=(784,))\n",
    "\n",
    "# \"encoded\" is the encoded representation of the input\n",
    "encoded = Dense(encoding_dim, activation='relu')(input_img)\n",
    "\n",
    "# \"decoded\" is the lossy reconstruction of the input\n",
    "decoded = Dense(784, activation='sigmoid')(encoded)\n",
    "\n",
    "# this model maps an input to its reconstruction\n",
    "autoencoder = Model(input_img, decoded)"
   ]
  },
  {
   "cell_type": "code",
   "execution_count": 219,
   "metadata": {},
   "outputs": [],
   "source": [
    "encoder = Model(input_img, encoded)"
   ]
  },
  {
   "cell_type": "code",
   "execution_count": 220,
   "metadata": {},
   "outputs": [],
   "source": [
    "# create a placeholder for an encoded (32-dimensional) input\n",
    "encoded_input = Input(shape=(encoding_dim,))\n",
    "\n",
    "# retrieve the last layer of the autoencoder model\n",
    "decoder_layer = autoencoder.layers[-1]\n",
    "\n",
    "# create the decoder model\n",
    "decoder = Model(encoded_input, decoder_layer(encoded_input))"
   ]
  },
  {
   "cell_type": "code",
   "execution_count": 221,
   "metadata": {},
   "outputs": [],
   "source": [
    "\n",
    "autoencoder.compile(optimizer='adam', loss='binary_crossentropy')"
   ]
  },
  {
   "cell_type": "markdown",
   "metadata": {},
   "source": [
    "### 讀取 MNIST數據"
   ]
  },
  {
   "cell_type": "code",
   "execution_count": 222,
   "metadata": {},
   "outputs": [],
   "source": [
    "from keras.datasets import mnist\n",
    "import numpy as np\n",
    "\n",
    "(x_train, y_train), (x_test, y_test) = mnist.load_data()"
   ]
  },
  {
   "cell_type": "code",
   "execution_count": 223,
   "metadata": {},
   "outputs": [
    {
     "data": {
      "text/plain": [
       "(60000, 28, 28)"
      ]
     },
     "execution_count": 223,
     "metadata": {},
     "output_type": "execute_result"
    }
   ],
   "source": [
    "x_train.shape"
   ]
  },
  {
   "cell_type": "code",
   "execution_count": 224,
   "metadata": {},
   "outputs": [
    {
     "data": {
      "text/plain": [
       "(10000, 28, 28)"
      ]
     },
     "execution_count": 224,
     "metadata": {},
     "output_type": "execute_result"
    }
   ],
   "source": [
    "x_test.shape"
   ]
  },
  {
   "cell_type": "code",
   "execution_count": 225,
   "metadata": {},
   "outputs": [
    {
     "data": {
      "text/plain": [
       "784"
      ]
     },
     "execution_count": 225,
     "metadata": {},
     "output_type": "execute_result"
    }
   ],
   "source": [
    "np.prod(x_train.shape[1:])"
   ]
  },
  {
   "cell_type": "code",
   "execution_count": 226,
   "metadata": {},
   "outputs": [
    {
     "name": "stdout",
     "output_type": "stream",
     "text": [
      "(60000, 784)\n",
      "(10000, 784)\n"
     ]
    }
   ],
   "source": [
    "x_train = x_train.astype('float32') / 255\n",
    "x_test = x_test.astype('float32') / 255\n",
    "x_train = x_train.reshape((len(x_train), 784 ))\n",
    "x_test = x_test.reshape((len(x_test), 784))\n",
    "print(x_train.shape)\n",
    "print(x_test.shape)"
   ]
  },
  {
   "cell_type": "markdown",
   "metadata": {},
   "source": [
    "### 訓練 Auto Encoders"
   ]
  },
  {
   "cell_type": "code",
   "execution_count": 227,
   "metadata": {},
   "outputs": [
    {
     "name": "stdout",
     "output_type": "stream",
     "text": [
      "Train on 60000 samples, validate on 10000 samples\n",
      "Epoch 1/50\n",
      "60000/60000 [==============================] - 3s 48us/step - loss: 0.2756 - val_loss: 0.1878\n",
      "Epoch 2/50\n",
      "60000/60000 [==============================] - 2s 33us/step - loss: 0.1686 - val_loss: 0.1516\n",
      "Epoch 3/50\n",
      "60000/60000 [==============================] - 2s 33us/step - loss: 0.1424 - val_loss: 0.1321\n",
      "Epoch 4/50\n",
      "60000/60000 [==============================] - 2s 33us/step - loss: 0.1271 - val_loss: 0.1201\n",
      "Epoch 5/50\n",
      "60000/60000 [==============================] - 2s 32us/step - loss: 0.1173 - val_loss: 0.1124\n",
      "Epoch 6/50\n",
      "60000/60000 [==============================] - 2s 32us/step - loss: 0.1105 - val_loss: 0.1065\n",
      "Epoch 7/50\n",
      "60000/60000 [==============================] - 2s 31us/step - loss: 0.1056 - val_loss: 0.1022\n",
      "Epoch 8/50\n",
      "60000/60000 [==============================] - 2s 32us/step - loss: 0.1021 - val_loss: 0.0992\n",
      "Epoch 9/50\n",
      "60000/60000 [==============================] - 2s 31us/step - loss: 0.0995 - val_loss: 0.0970\n",
      "Epoch 10/50\n",
      "60000/60000 [==============================] - 2s 32us/step - loss: 0.0978 - val_loss: 0.0956\n",
      "Epoch 11/50\n",
      "60000/60000 [==============================] - 2s 33us/step - loss: 0.0966 - val_loss: 0.0947\n",
      "Epoch 12/50\n",
      "60000/60000 [==============================] - 2s 34us/step - loss: 0.0958 - val_loss: 0.0941\n",
      "Epoch 13/50\n",
      "60000/60000 [==============================] - 2s 34us/step - loss: 0.0953 - val_loss: 0.0936\n",
      "Epoch 14/50\n",
      "60000/60000 [==============================] - 2s 34us/step - loss: 0.0949 - val_loss: 0.0933\n",
      "Epoch 15/50\n",
      "60000/60000 [==============================] - 2s 34us/step - loss: 0.0946 - val_loss: 0.0930\n",
      "Epoch 16/50\n",
      "60000/60000 [==============================] - 2s 32us/step - loss: 0.0943 - val_loss: 0.0928\n",
      "Epoch 17/50\n",
      "60000/60000 [==============================] - 2s 33us/step - loss: 0.0941 - val_loss: 0.0926\n",
      "Epoch 18/50\n",
      "60000/60000 [==============================] - 2s 34us/step - loss: 0.0940 - val_loss: 0.0925\n",
      "Epoch 19/50\n",
      "60000/60000 [==============================] - 2s 33us/step - loss: 0.0938 - val_loss: 0.0924\n",
      "Epoch 20/50\n",
      "60000/60000 [==============================] - 2s 34us/step - loss: 0.0937 - val_loss: 0.0923\n",
      "Epoch 21/50\n",
      "60000/60000 [==============================] - 2s 34us/step - loss: 0.0936 - val_loss: 0.0923\n",
      "Epoch 22/50\n",
      "60000/60000 [==============================] - 2s 32us/step - loss: 0.0935 - val_loss: 0.0921\n",
      "Epoch 23/50\n",
      "60000/60000 [==============================] - 2s 32us/step - loss: 0.0935 - val_loss: 0.0922\n",
      "Epoch 24/50\n",
      "60000/60000 [==============================] - 2s 31us/step - loss: 0.0934 - val_loss: 0.0921\n",
      "Epoch 25/50\n",
      "60000/60000 [==============================] - 2s 31us/step - loss: 0.0933 - val_loss: 0.0921\n",
      "Epoch 26/50\n",
      "60000/60000 [==============================] - 2s 31us/step - loss: 0.0933 - val_loss: 0.0920\n",
      "Epoch 27/50\n",
      "60000/60000 [==============================] - 2s 31us/step - loss: 0.0933 - val_loss: 0.0920\n",
      "Epoch 28/50\n",
      "60000/60000 [==============================] - 2s 33us/step - loss: 0.0932 - val_loss: 0.0919\n",
      "Epoch 29/50\n",
      "60000/60000 [==============================] - 2s 32us/step - loss: 0.0932 - val_loss: 0.0919\n",
      "Epoch 30/50\n",
      "60000/60000 [==============================] - 2s 32us/step - loss: 0.0931 - val_loss: 0.0919\n",
      "Epoch 31/50\n",
      "60000/60000 [==============================] - 2s 32us/step - loss: 0.0931 - val_loss: 0.0919\n",
      "Epoch 32/50\n",
      "60000/60000 [==============================] - 2s 32us/step - loss: 0.0931 - val_loss: 0.0919\n",
      "Epoch 33/50\n",
      "60000/60000 [==============================] - 2s 30us/step - loss: 0.0931 - val_loss: 0.0919\n",
      "Epoch 34/50\n",
      "60000/60000 [==============================] - 2s 30us/step - loss: 0.0931 - val_loss: 0.0918\n",
      "Epoch 35/50\n",
      "60000/60000 [==============================] - 2s 29us/step - loss: 0.0930 - val_loss: 0.0918\n",
      "Epoch 36/50\n",
      "60000/60000 [==============================] - 2s 32us/step - loss: 0.0930 - val_loss: 0.0918\n",
      "Epoch 37/50\n",
      "60000/60000 [==============================] - 2s 32us/step - loss: 0.0930 - val_loss: 0.0918\n",
      "Epoch 38/50\n",
      "60000/60000 [==============================] - 2s 32us/step - loss: 0.0930 - val_loss: 0.0918\n",
      "Epoch 39/50\n",
      "60000/60000 [==============================] - 2s 32us/step - loss: 0.0930 - val_loss: 0.0918\n",
      "Epoch 40/50\n",
      "60000/60000 [==============================] - 2s 33us/step - loss: 0.0929 - val_loss: 0.0918\n",
      "Epoch 41/50\n",
      "60000/60000 [==============================] - 2s 32us/step - loss: 0.0929 - val_loss: 0.0917\n",
      "Epoch 42/50\n",
      "60000/60000 [==============================] - 2s 31us/step - loss: 0.0929 - val_loss: 0.0918\n",
      "Epoch 43/50\n",
      "60000/60000 [==============================] - 2s 32us/step - loss: 0.0929 - val_loss: 0.0918\n",
      "Epoch 44/50\n",
      "60000/60000 [==============================] - 2s 33us/step - loss: 0.0929 - val_loss: 0.0917\n",
      "Epoch 45/50\n",
      "60000/60000 [==============================] - 2s 33us/step - loss: 0.0929 - val_loss: 0.0917\n",
      "Epoch 46/50\n",
      "60000/60000 [==============================] - 2s 32us/step - loss: 0.0929 - val_loss: 0.0917\n",
      "Epoch 47/50\n",
      "60000/60000 [==============================] - 2s 33us/step - loss: 0.0929 - val_loss: 0.0917\n",
      "Epoch 48/50\n",
      "60000/60000 [==============================] - 2s 33us/step - loss: 0.0929 - val_loss: 0.0918\n",
      "Epoch 49/50\n",
      "60000/60000 [==============================] - 2s 33us/step - loss: 0.0928 - val_loss: 0.0917\n",
      "Epoch 50/50\n",
      "60000/60000 [==============================] - 2s 33us/step - loss: 0.0929 - val_loss: 0.0917\n"
     ]
    },
    {
     "data": {
      "text/plain": [
       "<keras.callbacks.History at 0x124d1b38>"
      ]
     },
     "execution_count": 227,
     "metadata": {},
     "output_type": "execute_result"
    }
   ],
   "source": [
    "autoencoder.fit(x_train, x_train,\n",
    "                epochs=50,\n",
    "                batch_size=256,\n",
    "                shuffle=True,\n",
    "                validation_data=(x_test, x_test))"
   ]
  },
  {
   "cell_type": "markdown",
   "metadata": {},
   "source": [
    "### 比較原圖與重建後的圖片"
   ]
  },
  {
   "cell_type": "code",
   "execution_count": 228,
   "metadata": {},
   "outputs": [],
   "source": [
    "encoded_imgs = encoder.predict(x_test)"
   ]
  },
  {
   "cell_type": "code",
   "execution_count": 229,
   "metadata": {},
   "outputs": [],
   "source": [
    "decoded_imgs = decoder.predict(encoded_imgs)"
   ]
  },
  {
   "cell_type": "code",
   "execution_count": 230,
   "metadata": {},
   "outputs": [
    {
     "name": "stdout",
     "output_type": "stream",
     "text": [
      "Populating the interactive namespace from numpy and matplotlib\n"
     ]
    },
    {
     "data": {
      "image/png": "[encoded data removed]",
      "text/plain": [
       "<Figure size 1440x288 with 20 Axes>"
      ]
     },
     "metadata": {},
     "output_type": "display_data"
    }
   ],
   "source": [
    "%pylab inline\n",
    "import matplotlib.pyplot as plt\n",
    "\n",
    "n = 10  # how many digits we will display\n",
    "plt.figure(figsize=(20, 4))\n",
    "\n",
    "for i in range(n):\n",
    "    # display original\n",
    "    ax = plt.subplot(2, n, i + 1)\n",
    "    plt.imshow(x_test[i].reshape(28, 28))\n",
    "    plt.gray()\n",
    "    ax.get_xaxis().set_visible(False)\n",
    "    ax.get_yaxis().set_visible(False)\n",
    "\n",
    "    # display reconstruction\n",
    "    ax = plt.subplot(2, n, i + 1 + n)\n",
    "    plt.imshow(decoded_imgs[i].reshape(28, 28))\n",
    "    plt.gray()\n",
    "    ax.get_xaxis().set_visible(False)\n",
    "    ax.get_yaxis().set_visible(False)\n",
    "plt.show()"
   ]
  },
  {
   "cell_type": "code",
   "execution_count": 233,
   "metadata": {},
   "outputs": [
    {
     "data": {
      "text/plain": [
       "(10000, 784)"
      ]
     },
     "execution_count": 233,
     "metadata": {},
     "output_type": "execute_result"
    }
   ],
   "source": [
    "x_test.shape"
   ]
  },
  {
   "cell_type": "code",
   "execution_count": 231,
   "metadata": {},
   "outputs": [
    {
     "data": {
      "text/plain": [
       "(10000, 32)"
      ]
     },
     "execution_count": 231,
     "metadata": {},
     "output_type": "execute_result"
    }
   ],
   "source": [
    "encoded_imgs.shape"
   ]
  },
  {
   "cell_type": "markdown",
   "metadata": {},
   "source": [
    "## 讀取MNIST 數據"
   ]
  },
  {
   "cell_type": "code",
   "execution_count": 290,
   "metadata": {},
   "outputs": [],
   "source": [
    "from  keras.datasets  import mnist\n",
    "import numpy as np\n",
    "(x_train, _), (x_test, _) = mnist.load_data()"
   ]
  },
  {
   "cell_type": "code",
   "execution_count": 291,
   "metadata": {},
   "outputs": [
    {
     "name": "stdout",
     "output_type": "stream",
     "text": [
      "(60000, 784)\n",
      "(10000, 784)\n"
     ]
    }
   ],
   "source": [
    "x_train = x_train.astype('float32') / 255.\n",
    "x_test = x_test.astype('float32') / 255.\n",
    "x_train = x_train.reshape((len(x_train), np.prod(x_train.shape[1:])))\n",
    "x_test = x_test.reshape((len(x_test), np.prod(x_test.shape[1:])))\n",
    "print(x_train.shape)\n",
    "print(x_test.shape)"
   ]
  },
  {
   "cell_type": "code",
   "execution_count": 292,
   "metadata": {},
   "outputs": [
    {
     "name": "stdout",
     "output_type": "stream",
     "text": [
      "Train on 60000 samples, validate on 10000 samples\n",
      "Epoch 1/100\n",
      "60000/60000 [==============================] - 5s 80us/step - loss: 0.2490 - val_loss: 0.1690\n",
      "Epoch 2/100\n",
      "60000/60000 [==============================] - 3s 49us/step - loss: 0.1522 - val_loss: 0.1379\n",
      "Epoch 3/100\n",
      "60000/60000 [==============================] - 3s 46us/step - loss: 0.1318 - val_loss: 0.1244\n",
      "Epoch 4/100\n",
      "60000/60000 [==============================] - 3s 45us/step - loss: 0.1218 - val_loss: 0.1170\n",
      "Epoch 5/100\n",
      "60000/60000 [==============================] - 3s 45us/step - loss: 0.1158 - val_loss: 0.1121\n",
      "Epoch 6/100\n",
      "60000/60000 [==============================] - 3s 45us/step - loss: 0.1117 - val_loss: 0.1086\n",
      "Epoch 7/100\n",
      "60000/60000 [==============================] - 3s 44us/step - loss: 0.1086 - val_loss: 0.1059\n",
      "Epoch 8/100\n",
      "60000/60000 [==============================] - 3s 45us/step - loss: 0.1061 - val_loss: 0.1037\n",
      "Epoch 9/100\n",
      "60000/60000 [==============================] - 3s 44us/step - loss: 0.1040 - val_loss: 0.1018\n",
      "Epoch 10/100\n",
      "60000/60000 [==============================] - 3s 44us/step - loss: 0.1022 - val_loss: 0.1004\n",
      "Epoch 11/100\n",
      "60000/60000 [==============================] - 3s 46us/step - loss: 0.1006 - val_loss: 0.0991\n",
      "Epoch 12/100\n",
      "60000/60000 [==============================] - 3s 46us/step - loss: 0.0993 - val_loss: 0.0983\n",
      "Epoch 13/100\n",
      "60000/60000 [==============================] - 3s 44us/step - loss: 0.0982 - val_loss: 0.0972\n",
      "Epoch 14/100\n",
      "60000/60000 [==============================] - 3s 45us/step - loss: 0.0973 - val_loss: 0.0959\n",
      "Epoch 15/100\n",
      "60000/60000 [==============================] - 3s 45us/step - loss: 0.0964 - val_loss: 0.0955\n",
      "Epoch 16/100\n",
      "60000/60000 [==============================] - 3s 47us/step - loss: 0.0956 - val_loss: 0.0944\n",
      "Epoch 17/100\n",
      "60000/60000 [==============================] - 3s 46us/step - loss: 0.0949 - val_loss: 0.0937\n",
      "Epoch 18/100\n",
      "60000/60000 [==============================] - 3s 43us/step - loss: 0.0943 - val_loss: 0.0935\n",
      "Epoch 19/100\n",
      "60000/60000 [==============================] - 3s 43us/step - loss: 0.0935 - val_loss: 0.0923\n",
      "Epoch 20/100\n",
      "60000/60000 [==============================] - 3s 43us/step - loss: 0.0927 - val_loss: 0.0913\n",
      "Epoch 21/100\n",
      "60000/60000 [==============================] - 3s 43us/step - loss: 0.0919 - val_loss: 0.0911\n",
      "Epoch 22/100\n",
      "60000/60000 [==============================] - 3s 43us/step - loss: 0.0912 - val_loss: 0.0902\n",
      "Epoch 23/100\n",
      "60000/60000 [==============================] - 3s 43us/step - loss: 0.0906 - val_loss: 0.0895\n",
      "Epoch 24/100\n",
      "60000/60000 [==============================] - 3s 43us/step - loss: 0.0900 - val_loss: 0.0889\n",
      "Epoch 25/100\n",
      "60000/60000 [==============================] - 3s 44us/step - loss: 0.0894 - val_loss: 0.0887\n",
      "Epoch 26/100\n",
      "60000/60000 [==============================] - 3s 43us/step - loss: 0.0889 - val_loss: 0.0880\n",
      "Epoch 27/100\n",
      "60000/60000 [==============================] - 3s 42us/step - loss: 0.0884 - val_loss: 0.0876\n",
      "Epoch 28/100\n",
      "60000/60000 [==============================] - 3s 42us/step - loss: 0.0880 - val_loss: 0.0874\n",
      "Epoch 29/100\n",
      "60000/60000 [==============================] - 3s 43us/step - loss: 0.0876 - val_loss: 0.0867\n",
      "Epoch 30/100\n",
      "60000/60000 [==============================] - 3s 43us/step - loss: 0.0873 - val_loss: 0.0866\n",
      "Epoch 31/100\n",
      "60000/60000 [==============================] - 3s 42us/step - loss: 0.0870 - val_loss: 0.0860\n",
      "Epoch 32/100\n",
      "60000/60000 [==============================] - 3s 43us/step - loss: 0.0867 - val_loss: 0.0859\n",
      "Epoch 33/100\n",
      "60000/60000 [==============================] - 3s 42us/step - loss: 0.0863 - val_loss: 0.0858\n",
      "Epoch 34/100\n",
      "60000/60000 [==============================] - 3s 42us/step - loss: 0.0861 - val_loss: 0.0853\n",
      "Epoch 35/100\n",
      "60000/60000 [==============================] - 3s 43us/step - loss: 0.0859 - val_loss: 0.0851\n",
      "Epoch 36/100\n",
      "60000/60000 [==============================] - 3s 42us/step - loss: 0.0857 - val_loss: 0.0851\n",
      "Epoch 37/100\n",
      "60000/60000 [==============================] - 3s 42us/step - loss: 0.0855 - val_loss: 0.0850\n",
      "Epoch 38/100\n",
      "60000/60000 [==============================] - 3s 42us/step - loss: 0.0853 - val_loss: 0.0845\n",
      "Epoch 39/100\n",
      "60000/60000 [==============================] - 3s 42us/step - loss: 0.0851 - val_loss: 0.0844\n",
      "Epoch 40/100\n",
      "60000/60000 [==============================] - 3s 42us/step - loss: 0.0849 - val_loss: 0.0842\n",
      "Epoch 41/100\n",
      "60000/60000 [==============================] - 3s 44us/step - loss: 0.0848 - val_loss: 0.0842\n",
      "Epoch 42/100\n",
      "60000/60000 [==============================] - 3s 47us/step - loss: 0.0845 - val_loss: 0.0842\n",
      "Epoch 43/100\n",
      "60000/60000 [==============================] - 3s 45us/step - loss: 0.0844 - val_loss: 0.0838\n",
      "Epoch 44/100\n",
      "60000/60000 [==============================] - 3s 45us/step - loss: 0.0843 - val_loss: 0.0837\n",
      "Epoch 45/100\n",
      "60000/60000 [==============================] - 3s 46us/step - loss: 0.0841 - val_loss: 0.0837\n",
      "Epoch 46/100\n",
      "60000/60000 [==============================] - 3s 47us/step - loss: 0.0840 - val_loss: 0.0837\n",
      "Epoch 47/100\n",
      "60000/60000 [==============================] - 3s 45us/step - loss: 0.0839 - val_loss: 0.0834\n",
      "Epoch 48/100\n",
      "60000/60000 [==============================] - 3s 46us/step - loss: 0.0837 - val_loss: 0.0833\n",
      "Epoch 49/100\n",
      "60000/60000 [==============================] - 3s 47us/step - loss: 0.0837 - val_loss: 0.0831\n",
      "Epoch 50/100\n",
      "60000/60000 [==============================] - 3s 46us/step - loss: 0.0835 - val_loss: 0.0830\n",
      "Epoch 51/100\n",
      "60000/60000 [==============================] - 3s 45us/step - loss: 0.0834 - val_loss: 0.0830\n",
      "Epoch 52/100\n",
      "60000/60000 [==============================] - 3s 55us/step - loss: 0.0833 - val_loss: 0.0827\n",
      "Epoch 53/100\n",
      "60000/60000 [==============================] - 3s 53us/step - loss: 0.0833 - val_loss: 0.0829\n",
      "Epoch 54/100\n",
      "60000/60000 [==============================] - 3s 49us/step - loss: 0.0832 - val_loss: 0.0829\n",
      "Epoch 55/100\n",
      "60000/60000 [==============================] - 3s 48us/step - loss: 0.0831 - val_loss: 0.0824\n",
      "Epoch 56/100\n",
      "60000/60000 [==============================] - 3s 46us/step - loss: 0.0830 - val_loss: 0.0827\n",
      "Epoch 57/100\n",
      "60000/60000 [==============================] - 3s 45us/step - loss: 0.0829 - val_loss: 0.0826\n",
      "Epoch 58/100\n",
      "60000/60000 [==============================] - 3s 47us/step - loss: 0.0829 - val_loss: 0.0825\n",
      "Epoch 59/100\n",
      "60000/60000 [==============================] - 3s 46us/step - loss: 0.0828 - val_loss: 0.0824\n",
      "Epoch 60/100\n",
      "60000/60000 [==============================] - 3s 46us/step - loss: 0.0827 - val_loss: 0.0823\n",
      "Epoch 61/100\n",
      "60000/60000 [==============================] - 3s 46us/step - loss: 0.0826 - val_loss: 0.0822\n",
      "Epoch 62/100\n",
      "60000/60000 [==============================] - 3s 46us/step - loss: 0.0825 - val_loss: 0.0823\n",
      "Epoch 63/100\n",
      "60000/60000 [==============================] - 3s 46us/step - loss: 0.0825 - val_loss: 0.0823\n",
      "Epoch 64/100\n",
      "60000/60000 [==============================] - 3s 47us/step - loss: 0.0824 - val_loss: 0.0820\n",
      "Epoch 65/100\n",
      "60000/60000 [==============================] - 3s 46us/step - loss: 0.0824 - val_loss: 0.0822\n",
      "Epoch 66/100\n",
      "60000/60000 [==============================] - 3s 45us/step - loss: 0.0823 - val_loss: 0.0822\n",
      "Epoch 67/100\n",
      "60000/60000 [==============================] - 3s 45us/step - loss: 0.0823 - val_loss: 0.0819\n",
      "Epoch 68/100\n",
      "60000/60000 [==============================] - 3s 46us/step - loss: 0.0822 - val_loss: 0.0821\n",
      "Epoch 69/100\n",
      "60000/60000 [==============================] - 3s 45us/step - loss: 0.0822 - val_loss: 0.0818\n",
      "Epoch 70/100\n",
      "60000/60000 [==============================] - 3s 45us/step - loss: 0.0821 - val_loss: 0.0818\n",
      "Epoch 71/100\n",
      "60000/60000 [==============================] - 3s 42us/step - loss: 0.0821 - val_loss: 0.0819\n",
      "Epoch 72/100\n",
      "60000/60000 [==============================] - 3s 44us/step - loss: 0.0820 - val_loss: 0.0817\n",
      "Epoch 73/100\n",
      "60000/60000 [==============================] - 3s 46us/step - loss: 0.0820 - val_loss: 0.0816\n",
      "Epoch 74/100\n",
      "60000/60000 [==============================] - 3s 46us/step - loss: 0.0819 - val_loss: 0.0816\n",
      "Epoch 75/100\n",
      "60000/60000 [==============================] - 3s 44us/step - loss: 0.0819 - val_loss: 0.0815\n",
      "Epoch 76/100\n",
      "60000/60000 [==============================] - 3s 43us/step - loss: 0.0818 - val_loss: 0.0815\n",
      "Epoch 77/100\n",
      "60000/60000 [==============================] - 3s 43us/step - loss: 0.0818 - val_loss: 0.0815\n",
      "Epoch 78/100\n",
      "60000/60000 [==============================] - 3s 43us/step - loss: 0.0818 - val_loss: 0.0815\n",
      "Epoch 79/100\n",
      "60000/60000 [==============================] - 3s 45us/step - loss: 0.0817 - val_loss: 0.0813\n",
      "Epoch 80/100\n",
      "60000/60000 [==============================] - 3s 47us/step - loss: 0.0817 - val_loss: 0.0816\n",
      "Epoch 81/100\n",
      "60000/60000 [==============================] - 3s 48us/step - loss: 0.0817 - val_loss: 0.0815\n",
      "Epoch 82/100\n",
      "60000/60000 [==============================] - 3s 48us/step - loss: 0.0816 - val_loss: 0.0812\n",
      "Epoch 83/100\n",
      "60000/60000 [==============================] - 3s 48us/step - loss: 0.0816 - val_loss: 0.0812\n",
      "Epoch 84/100\n",
      "60000/60000 [==============================] - 3s 48us/step - loss: 0.0816 - val_loss: 0.0813\n",
      "Epoch 85/100\n",
      "60000/60000 [==============================] - 3s 47us/step - loss: 0.0815 - val_loss: 0.0812\n",
      "Epoch 86/100\n",
      "60000/60000 [==============================] - 3s 47us/step - loss: 0.0815 - val_loss: 0.0811\n",
      "Epoch 87/100\n",
      "60000/60000 [==============================] - 3s 48us/step - loss: 0.0815 - val_loss: 0.0811\n",
      "Epoch 88/100\n",
      "60000/60000 [==============================] - 3s 48us/step - loss: 0.0814 - val_loss: 0.0812\n",
      "Epoch 89/100\n",
      "60000/60000 [==============================] - 3s 46us/step - loss: 0.0814 - val_loss: 0.0810\n",
      "Epoch 90/100\n",
      "60000/60000 [==============================] - 3s 45us/step - loss: 0.0813 - val_loss: 0.0812\n",
      "Epoch 91/100\n",
      "60000/60000 [==============================] - 3s 45us/step - loss: 0.0813 - val_loss: 0.0813\n",
      "Epoch 92/100\n",
      "60000/60000 [==============================] - 3s 47us/step - loss: 0.0813 - val_loss: 0.0811\n",
      "Epoch 93/100\n",
      "60000/60000 [==============================] - 3s 47us/step - loss: 0.0813 - val_loss: 0.0812\n",
      "Epoch 94/100\n",
      "60000/60000 [==============================] - 3s 48us/step - loss: 0.0812 - val_loss: 0.0811\n",
      "Epoch 95/100\n",
      "60000/60000 [==============================] - 3s 46us/step - loss: 0.0812 - val_loss: 0.0814\n",
      "Epoch 96/100\n",
      "60000/60000 [==============================] - 3s 47us/step - loss: 0.0812 - val_loss: 0.0810\n",
      "Epoch 97/100\n",
      "60000/60000 [==============================] - 3s 49us/step - loss: 0.0811 - val_loss: 0.0809\n",
      "Epoch 98/100\n",
      "60000/60000 [==============================] - 3s 47us/step - loss: 0.0811 - val_loss: 0.0808\n",
      "Epoch 99/100\n",
      "60000/60000 [==============================] - 3s 46us/step - loss: 0.0811 - val_loss: 0.0809\n",
      "Epoch 100/100\n",
      "60000/60000 [==============================] - 3s 49us/step - loss: 0.0811 - val_loss: 0.0811\n"
     ]
    },
    {
     "data": {
      "text/plain": [
       "<keras.callbacks.History at 0x5f8052e8>"
      ]
     },
     "execution_count": 292,
     "metadata": {},
     "output_type": "execute_result"
    }
   ],
   "source": [
    "from keras.layers import Input, Dense\n",
    "from keras.models import Model\n",
    "\n",
    "input_img = Input(shape=(784,))\n",
    "encoded = Dense(128, activation='relu')(input_img)\n",
    "encoded = Dense(64, activation='relu')(encoded)\n",
    "\n",
    "encoded = Dense(32, activation='relu')(encoded)\n",
    "\n",
    "decoded = Dense(64, activation='relu')(encoded)\n",
    "decoded = Dense(128, activation='relu')(decoded)\n",
    "decoded = Dense(784, activation='sigmoid')(decoded)\n",
    "\n",
    "autoencoder = Model(input_img, decoded)\n",
    "autoencoder.compile(optimizer='adam', loss='binary_crossentropy')\n",
    "\n",
    "autoencoder.fit(x_train, x_train,\n",
    "                epochs=100,\n",
    "                batch_size=256,\n",
    "                shuffle=True,\n",
    "                validation_data=(x_test, x_test))"
   ]
  },
  {
   "cell_type": "code",
   "execution_count": 293,
   "metadata": {},
   "outputs": [],
   "source": [
    "encoded_imgs = autoencoder.predict(x_test)\n",
    "decoded_imgs = autoencoder.predict(encoded_imgs)"
   ]
  },
  {
   "cell_type": "code",
   "execution_count": 294,
   "metadata": {},
   "outputs": [
    {
     "name": "stdout",
     "output_type": "stream",
     "text": [
      "Populating the interactive namespace from numpy and matplotlib\n"
     ]
    },
    {
     "name": "stderr",
     "output_type": "stream",
     "text": [
      "C:\\ProgramData\\Anaconda3\\lib\\site-packages\\IPython\\core\\magics\\pylab.py:160: UserWarning: pylab import has clobbered these variables: ['f']\n",
      "`%matplotlib` prevents importing * from pylab and numpy\n",
      "  \"\\n`%matplotlib` prevents importing * from pylab and numpy\"\n"
     ]
    },
    {
     "data": {
      "image/png": "[encoded data removed]",
      "text/plain": [
       "<Figure size 1440x288 with 20 Axes>"
      ]
     },
     "metadata": {},
     "output_type": "display_data"
    }
   ],
   "source": [
    "%pylab inline\n",
    "import matplotlib.pyplot as plt\n",
    "\n",
    "n = 10  # how many digits we will display\n",
    "plt.figure(figsize=(20, 4))\n",
    "for i in range(n):\n",
    "    # display original\n",
    "    ax = plt.subplot(2, n, i + 1)\n",
    "    plt.imshow(x_test[i].reshape(28, 28))\n",
    "    plt.gray()\n",
    "    ax.get_xaxis().set_visible(False)\n",
    "    ax.get_yaxis().set_visible(False)\n",
    "\n",
    "    # display reconstruction\n",
    "    ax = plt.subplot(2, n, i + 1 + n)\n",
    "    plt.imshow(decoded_imgs[i].reshape(28, 28))\n",
    "    plt.gray()\n",
    "    ax.get_xaxis().set_visible(False)\n",
    "    ax.get_yaxis().set_visible(False)\n",
    "plt.show()"
   ]
  },
  {
   "cell_type": "markdown",
   "metadata": {},
   "source": [
    "## 使用Auto Encoders 建立推薦系統"
   ]
  },
  {
   "cell_type": "code",
   "execution_count": 90,
   "metadata": {},
   "outputs": [],
   "source": [
    "import numpy\n",
    "from keras.utils.data_utils import get_file\n",
    "from keras.utils.np_utils import to_categorical\n",
    "from zipfile import ZipFile\n",
    "\n",
    "def load_data():\n",
    "    path = get_file('ml-100k.zip', origin='http://files.grouplens.org/datasets/movielens/ml-100k.zip')\n",
    "    with ZipFile(path, 'r') as ml_zip:\n",
    "        max_item_id  = -1\n",
    "        train_history = {}\n",
    "        with ml_zip.open('ml-100k/ua.base', 'r') as file:\n",
    "            for line in file:\n",
    "                user_id, item_id, rating, timestamp = line.decode('utf-8').rstrip().split('\\t')\n",
    "                if int(user_id) not in train_history:\n",
    "                    train_history[int(user_id)] = [int(item_id)]\n",
    "                else:\n",
    "                    train_history[int(user_id)].append(int(item_id))\n",
    "\n",
    "                if max_item_id < int(item_id):\n",
    "                    max_item_id = int(item_id)\n",
    "\n",
    "        test_history = {}\n",
    "        with ml_zip.open('ml-100k/ua.test', 'r') as file:\n",
    "            for line in file:\n",
    "                user_id, item_id, rating, timestamp = line.decode('utf-8').rstrip().split('\\t')\n",
    "                if int(user_id) not in test_history:\n",
    "                    test_history[int(user_id)] = [int(item_id)]\n",
    "                else:\n",
    "                    test_history[int(user_id)].append(int(item_id))\n",
    "        \n",
    "    max_item_id += 1 # item_id starts from 1\n",
    "    train_users = list(train_history.keys())\n",
    "    train_x = numpy.zeros((len(train_users), max_item_id), dtype=numpy.int32)\n",
    "    for i, hist in enumerate(train_history.values()):\n",
    "        mat = to_categorical(hist, max_item_id)\n",
    "        train_x[i] = numpy.sum(mat, axis=0)\n",
    "\n",
    "    test_users = list(test_history.keys())\n",
    "    test_x = numpy.zeros((len(test_users), max_item_id), dtype=numpy.int32)\n",
    "    for i, hist in enumerate(test_history.values()):\n",
    "        mat = to_categorical(hist, max_item_id)\n",
    "        test_x[i] = numpy.sum(mat, axis=0)\n",
    "\n",
    "    return train_users, train_x, test_users, test_x"
   ]
  },
  {
   "cell_type": "markdown",
   "metadata": {},
   "source": [
    "### 讀取數據\n"
   ]
  },
  {
   "cell_type": "code",
   "execution_count": 91,
   "metadata": {},
   "outputs": [],
   "source": [
    "train_users, train_x, test_users, test_x= load_data()"
   ]
  },
  {
   "cell_type": "code",
   "execution_count": 92,
   "metadata": {},
   "outputs": [],
   "source": [
    "import numpy as np\n",
    "from scipy.sparse import csr_matrix, random\n",
    "counts = csr_matrix(train_x, dtype=np.float64)"
   ]
  },
  {
   "cell_type": "markdown",
   "metadata": {},
   "source": [
    "## 安裝 Implicit\n",
    "- conda install -c conda-forge implicit"
   ]
  },
  {
   "cell_type": "code",
   "execution_count": 93,
   "metadata": {},
   "outputs": [
    {
     "name": "stderr",
     "output_type": "stream",
     "text": [
      "100%|████████████████████████████████████████| 15.0/15 [00:00<00:00, 36.49it/s]\n"
     ]
    }
   ],
   "source": [
    "import implicit\n",
    "from implicit.als import AlternatingLeastSquares\n",
    "\n",
    "# initialize a model\n",
    "model = implicit.als.AlternatingLeastSquares(factors=50)\n",
    "\n",
    "# train the model on a sparse matrix of item/user/confidence weights\n",
    "model.fit(counts)\n",
    "\n",
    "rows, cols = model.item_factors, model.user_factors"
   ]
  },
  {
   "cell_type": "code",
   "execution_count": 94,
   "metadata": {},
   "outputs": [
    {
     "data": {
      "text/plain": [
       "(943, 50)"
      ]
     },
     "execution_count": 94,
     "metadata": {},
     "output_type": "execute_result"
    }
   ],
   "source": [
    "rows.shape"
   ]
  },
  {
   "cell_type": "code",
   "execution_count": 95,
   "metadata": {},
   "outputs": [
    {
     "data": {
      "text/plain": [
       "(1683, 50)"
      ]
     },
     "execution_count": 95,
     "metadata": {},
     "output_type": "execute_result"
    }
   ],
   "source": [
    "cols.shape"
   ]
  },
  {
   "cell_type": "code",
   "execution_count": 96,
   "metadata": {},
   "outputs": [],
   "source": [
    "#train_users"
   ]
  },
  {
   "cell_type": "code",
   "execution_count": 97,
   "metadata": {},
   "outputs": [],
   "source": [
    "user_items = counts.T.tocsr()"
   ]
  },
  {
   "cell_type": "code",
   "execution_count": 98,
   "metadata": {},
   "outputs": [],
   "source": [
    "recs = model.recommend(5, user_items, N=10)"
   ]
  },
  {
   "cell_type": "code",
   "execution_count": 99,
   "metadata": {},
   "outputs": [
    {
     "data": {
      "text/plain": [
       "[(221, 0.6201818),\n",
       " (801, 0.61606896),\n",
       " (200, 0.5428549),\n",
       " (542, 0.5419364),\n",
       " (441, 0.53657997),\n",
       " (616, 0.5212747),\n",
       " (803, 0.49577624),\n",
       " (787, 0.47370052),\n",
       " (6, 0.46770656),\n",
       " (327, 0.46330798)]"
      ]
     },
     "execution_count": 99,
     "metadata": {},
     "output_type": "execute_result"
    }
   ],
   "source": [
    "recs"
   ]
  },
  {
   "cell_type": "code",
   "execution_count": 100,
   "metadata": {},
   "outputs": [
    {
     "data": {
      "text/plain": [
       "(943, 50)"
      ]
     },
     "execution_count": 100,
     "metadata": {},
     "output_type": "execute_result"
    }
   ],
   "source": [
    "rows.shape"
   ]
  },
  {
   "cell_type": "code",
   "execution_count": 101,
   "metadata": {},
   "outputs": [
    {
     "data": {
      "text/plain": [
       "(1683, 50)"
      ]
     },
     "execution_count": 101,
     "metadata": {},
     "output_type": "execute_result"
    }
   ],
   "source": [
    "cols.shape"
   ]
  },
  {
   "cell_type": "code",
   "execution_count": 104,
   "metadata": {},
   "outputs": [
    {
     "data": {
      "text/plain": [
       "array([[ 0.        ,  0.        ,  0.        , ...,  0.        ,\n",
       "         0.        ,  0.        ],\n",
       "       [ 0.        ,  0.9999999 ,  0.40544447, ...,  0.04306765,\n",
       "         0.1534507 ,  0.22473374],\n",
       "       [ 0.        ,  0.40544447,  1.0000002 , ...,  0.04719759,\n",
       "         0.21835904,  0.20742925],\n",
       "       ...,\n",
       "       [ 0.        ,  0.04306765,  0.04719759, ...,  0.99999994,\n",
       "         0.02925921,  0.02865798],\n",
       "       [ 0.        ,  0.1534507 ,  0.21835904, ...,  0.02925921,\n",
       "         1.0000001 , -0.02720508],\n",
       "       [ 0.        ,  0.22473374,  0.20742925, ...,  0.02865798,\n",
       "        -0.02720508,  0.99999994]], dtype=float32)"
      ]
     },
     "execution_count": 104,
     "metadata": {},
     "output_type": "execute_result"
    }
   ],
   "source": [
    "from sklearn.metrics.pairwise import cosine_similarity\n",
    "cs = cosine_similarity(cols)"
   ]
  },
  {
   "cell_type": "code",
   "execution_count": 108,
   "metadata": {},
   "outputs": [
    {
     "data": {
      "text/plain": [
       "array([ 181,   50,  172, ..., 1293, 1671, 1433], dtype=int64)"
      ]
     },
     "execution_count": 108,
     "metadata": {},
     "output_type": "execute_result"
    }
   ],
   "source": [
    "cs[181].argsort()[::-1]"
   ]
  },
  {
   "cell_type": "markdown",
   "metadata": {},
   "source": [
    "## 偵測信用卡詐欺事件"
   ]
  },
  {
   "cell_type": "markdown",
   "metadata": {},
   "source": [
    "### 引用套件"
   ]
  },
  {
   "cell_type": "code",
   "execution_count": 118,
   "metadata": {},
   "outputs": [],
   "source": [
    "import pandas\n",
    "import numpy as np\n",
    "import pickle\n",
    "import matplotlib.pyplot as plt\n",
    "from scipy import stats\n",
    "from pylab import rcParams\n",
    "from sklearn.model_selection import train_test_split\n",
    "from keras.models import Model, load_model\n",
    "from keras.layers import Input, Dense\n",
    "from keras.callbacks import ModelCheckpoint\n",
    "from keras import regularizers"
   ]
  },
  {
   "cell_type": "code",
   "execution_count": 120,
   "metadata": {},
   "outputs": [],
   "source": [
    "df  = pandas.read_csv('creditcard.csv')"
   ]
  },
  {
   "cell_type": "code",
   "execution_count": 122,
   "metadata": {},
   "outputs": [
    {
     "data": {
      "text/html": [
       "<div>\n",
       "<style scoped>\n",
       "    .dataframe tbody tr th:only-of-type {\n",
       "        vertical-align: middle;\n",
       "    }\n",
       "\n",
       "    .dataframe tbody tr th {\n",
       "        vertical-align: top;\n",
       "    }\n",
       "\n",
       "    .dataframe thead th {\n",
       "        text-align: right;\n",
       "    }\n",
       "</style>\n",
       "<table border=\"1\" class=\"dataframe\">\n",
       "  <thead>\n",
       "    <tr style=\"text-align: right;\">\n",
       "      <th></th>\n",
       "      <th>Time</th>\n",
       "      <th>V1</th>\n",
       "      <th>V2</th>\n",
       "      <th>V3</th>\n",
       "      <th>V4</th>\n",
       "      <th>V5</th>\n",
       "      <th>V6</th>\n",
       "      <th>V7</th>\n",
       "      <th>V8</th>\n",
       "      <th>V9</th>\n",
       "      <th>...</th>\n",
       "      <th>V21</th>\n",
       "      <th>V22</th>\n",
       "      <th>V23</th>\n",
       "      <th>V24</th>\n",
       "      <th>V25</th>\n",
       "      <th>V26</th>\n",
       "      <th>V27</th>\n",
       "      <th>V28</th>\n",
       "      <th>Amount</th>\n",
       "      <th>Class</th>\n",
       "    </tr>\n",
       "  </thead>\n",
       "  <tbody>\n",
       "    <tr>\n",
       "      <th>0</th>\n",
       "      <td>0.0</td>\n",
       "      <td>-1.359807</td>\n",
       "      <td>-0.072781</td>\n",
       "      <td>2.536347</td>\n",
       "      <td>1.378155</td>\n",
       "      <td>-0.338321</td>\n",
       "      <td>0.462388</td>\n",
       "      <td>0.239599</td>\n",
       "      <td>0.098698</td>\n",
       "      <td>0.363787</td>\n",
       "      <td>...</td>\n",
       "      <td>-0.018307</td>\n",
       "      <td>0.277838</td>\n",
       "      <td>-0.110474</td>\n",
       "      <td>0.066928</td>\n",
       "      <td>0.128539</td>\n",
       "      <td>-0.189115</td>\n",
       "      <td>0.133558</td>\n",
       "      <td>-0.021053</td>\n",
       "      <td>149.62</td>\n",
       "      <td>0</td>\n",
       "    </tr>\n",
       "    <tr>\n",
       "      <th>1</th>\n",
       "      <td>0.0</td>\n",
       "      <td>1.191857</td>\n",
       "      <td>0.266151</td>\n",
       "      <td>0.166480</td>\n",
       "      <td>0.448154</td>\n",
       "      <td>0.060018</td>\n",
       "      <td>-0.082361</td>\n",
       "      <td>-0.078803</td>\n",
       "      <td>0.085102</td>\n",
       "      <td>-0.255425</td>\n",
       "      <td>...</td>\n",
       "      <td>-0.225775</td>\n",
       "      <td>-0.638672</td>\n",
       "      <td>0.101288</td>\n",
       "      <td>-0.339846</td>\n",
       "      <td>0.167170</td>\n",
       "      <td>0.125895</td>\n",
       "      <td>-0.008983</td>\n",
       "      <td>0.014724</td>\n",
       "      <td>2.69</td>\n",
       "      <td>0</td>\n",
       "    </tr>\n",
       "    <tr>\n",
       "      <th>2</th>\n",
       "      <td>1.0</td>\n",
       "      <td>-1.358354</td>\n",
       "      <td>-1.340163</td>\n",
       "      <td>1.773209</td>\n",
       "      <td>0.379780</td>\n",
       "      <td>-0.503198</td>\n",
       "      <td>1.800499</td>\n",
       "      <td>0.791461</td>\n",
       "      <td>0.247676</td>\n",
       "      <td>-1.514654</td>\n",
       "      <td>...</td>\n",
       "      <td>0.247998</td>\n",
       "      <td>0.771679</td>\n",
       "      <td>0.909412</td>\n",
       "      <td>-0.689281</td>\n",
       "      <td>-0.327642</td>\n",
       "      <td>-0.139097</td>\n",
       "      <td>-0.055353</td>\n",
       "      <td>-0.059752</td>\n",
       "      <td>378.66</td>\n",
       "      <td>0</td>\n",
       "    </tr>\n",
       "    <tr>\n",
       "      <th>3</th>\n",
       "      <td>1.0</td>\n",
       "      <td>-0.966272</td>\n",
       "      <td>-0.185226</td>\n",
       "      <td>1.792993</td>\n",
       "      <td>-0.863291</td>\n",
       "      <td>-0.010309</td>\n",
       "      <td>1.247203</td>\n",
       "      <td>0.237609</td>\n",
       "      <td>0.377436</td>\n",
       "      <td>-1.387024</td>\n",
       "      <td>...</td>\n",
       "      <td>-0.108300</td>\n",
       "      <td>0.005274</td>\n",
       "      <td>-0.190321</td>\n",
       "      <td>-1.175575</td>\n",
       "      <td>0.647376</td>\n",
       "      <td>-0.221929</td>\n",
       "      <td>0.062723</td>\n",
       "      <td>0.061458</td>\n",
       "      <td>123.50</td>\n",
       "      <td>0</td>\n",
       "    </tr>\n",
       "    <tr>\n",
       "      <th>4</th>\n",
       "      <td>2.0</td>\n",
       "      <td>-1.158233</td>\n",
       "      <td>0.877737</td>\n",
       "      <td>1.548718</td>\n",
       "      <td>0.403034</td>\n",
       "      <td>-0.407193</td>\n",
       "      <td>0.095921</td>\n",
       "      <td>0.592941</td>\n",
       "      <td>-0.270533</td>\n",
       "      <td>0.817739</td>\n",
       "      <td>...</td>\n",
       "      <td>-0.009431</td>\n",
       "      <td>0.798278</td>\n",
       "      <td>-0.137458</td>\n",
       "      <td>0.141267</td>\n",
       "      <td>-0.206010</td>\n",
       "      <td>0.502292</td>\n",
       "      <td>0.219422</td>\n",
       "      <td>0.215153</td>\n",
       "      <td>69.99</td>\n",
       "      <td>0</td>\n",
       "    </tr>\n",
       "  </tbody>\n",
       "</table>\n",
       "<p>5 rows × 31 columns</p>\n",
       "</div>"
      ],
      "text/plain": [
       "   Time        V1        V2        V3        V4        V5        V6        V7  \\\n",
       "0   0.0 -1.359807 -0.072781  2.536347  1.378155 -0.338321  0.462388  0.239599   \n",
       "1   0.0  1.191857  0.266151  0.166480  0.448154  0.060018 -0.082361 -0.078803   \n",
       "2   1.0 -1.358354 -1.340163  1.773209  0.379780 -0.503198  1.800499  0.791461   \n",
       "3   1.0 -0.966272 -0.185226  1.792993 -0.863291 -0.010309  1.247203  0.237609   \n",
       "4   2.0 -1.158233  0.877737  1.548718  0.403034 -0.407193  0.095921  0.592941   \n",
       "\n",
       "         V8        V9  ...         V21       V22       V23       V24  \\\n",
       "0  0.098698  0.363787  ...   -0.018307  0.277838 -0.110474  0.066928   \n",
       "1  0.085102 -0.255425  ...   -0.225775 -0.638672  0.101288 -0.339846   \n",
       "2  0.247676 -1.514654  ...    0.247998  0.771679  0.909412 -0.689281   \n",
       "3  0.377436 -1.387024  ...   -0.108300  0.005274 -0.190321 -1.175575   \n",
       "4 -0.270533  0.817739  ...   -0.009431  0.798278 -0.137458  0.141267   \n",
       "\n",
       "        V25       V26       V27       V28  Amount  Class  \n",
       "0  0.128539 -0.189115  0.133558 -0.021053  149.62      0  \n",
       "1  0.167170  0.125895 -0.008983  0.014724    2.69      0  \n",
       "2 -0.327642 -0.139097 -0.055353 -0.059752  378.66      0  \n",
       "3  0.647376 -0.221929  0.062723  0.061458  123.50      0  \n",
       "4 -0.206010  0.502292  0.219422  0.215153   69.99      0  \n",
       "\n",
       "[5 rows x 31 columns]"
      ]
     },
     "execution_count": 122,
     "metadata": {},
     "output_type": "execute_result"
    }
   ],
   "source": [
    "df.head()"
   ]
  },
  {
   "cell_type": "code",
   "execution_count": 123,
   "metadata": {},
   "outputs": [
    {
     "name": "stdout",
     "output_type": "stream",
     "text": [
      "<class 'pandas.core.frame.DataFrame'>\n",
      "RangeIndex: 284807 entries, 0 to 284806\n",
      "Data columns (total 31 columns):\n",
      "Time      284807 non-null float64\n",
      "V1        284807 non-null float64\n",
      "V2        284807 non-null float64\n",
      "V3        284807 non-null float64\n",
      "V4        284807 non-null float64\n",
      "V5        284807 non-null float64\n",
      "V6        284807 non-null float64\n",
      "V7        284807 non-null float64\n",
      "V8        284807 non-null float64\n",
      "V9        284807 non-null float64\n",
      "V10       284807 non-null float64\n",
      "V11       284807 non-null float64\n",
      "V12       284807 non-null float64\n",
      "V13       284807 non-null float64\n",
      "V14       284807 non-null float64\n",
      "V15       284807 non-null float64\n",
      "V16       284807 non-null float64\n",
      "V17       284807 non-null float64\n",
      "V18       284807 non-null float64\n",
      "V19       284807 non-null float64\n",
      "V20       284807 non-null float64\n",
      "V21       284807 non-null float64\n",
      "V22       284807 non-null float64\n",
      "V23       284807 non-null float64\n",
      "V24       284807 non-null float64\n",
      "V25       284807 non-null float64\n",
      "V26       284807 non-null float64\n",
      "V27       284807 non-null float64\n",
      "V28       284807 non-null float64\n",
      "Amount    284807 non-null float64\n",
      "Class     284807 non-null int64\n",
      "dtypes: float64(30), int64(1)\n",
      "memory usage: 67.4 MB\n"
     ]
    }
   ],
   "source": [
    "df.info()"
   ]
  },
  {
   "cell_type": "markdown",
   "metadata": {},
   "source": [
    "### 資料探索"
   ]
  },
  {
   "cell_type": "code",
   "execution_count": 124,
   "metadata": {},
   "outputs": [
    {
     "data": {
      "text/plain": [
       "0    284315\n",
       "1       492\n",
       "Name: Class, dtype: int64"
      ]
     },
     "execution_count": 124,
     "metadata": {},
     "output_type": "execute_result"
    }
   ],
   "source": [
    "count_classes = pandas.value_counts(df['Class'], sort = True)\n",
    "count_classes"
   ]
  },
  {
   "cell_type": "markdown",
   "metadata": {},
   "source": [
    "### 檢視詐欺犯與正常人類別數量"
   ]
  },
  {
   "cell_type": "code",
   "execution_count": 125,
   "metadata": {},
   "outputs": [
    {
     "data": {
      "text/plain": [
       "Text(0,0.5,'Frequency')"
      ]
     },
     "execution_count": 125,
     "metadata": {},
     "output_type": "execute_result"
    },
    {
     "data": {
      "image/png": "[encoded data removed]",
      "text/plain": [
       "<Figure size 432x288 with 1 Axes>"
      ]
     },
     "metadata": {},
     "output_type": "display_data"
    }
   ],
   "source": [
    "count_classes.plot(kind = 'bar', rot=0)\n",
    "plt.title(\"Transaction class distribution\")\n",
    "plt.xticks(range(2), ['good', 'bad'])\n",
    "plt.xlabel(\"Class\")\n",
    "plt.ylabel(\"Frequency\")"
   ]
  },
  {
   "cell_type": "markdown",
   "metadata": {},
   "source": [
    "### 檢視不同類別的交易金額是否有差別"
   ]
  },
  {
   "cell_type": "code",
   "execution_count": 126,
   "metadata": {},
   "outputs": [],
   "source": [
    "frauds = df[df.Class == 1]\n",
    "normal = df[df.Class == 0]"
   ]
  },
  {
   "cell_type": "code",
   "execution_count": 127,
   "metadata": {},
   "outputs": [
    {
     "data": {
      "image/png": "[encoded data removed]",
      "text/plain": [
       "<Figure size 432x288 with 2 Axes>"
      ]
     },
     "metadata": {},
     "output_type": "display_data"
    }
   ],
   "source": [
    "f, (ax1, ax2) = plt.subplots(2, 1, sharex=True)\n",
    "f.suptitle('Amount per transaction by class')\n",
    "\n",
    "bins = 50\n",
    "\n",
    "ax1.hist(frauds.Amount, bins = bins)\n",
    "ax1.set_title('Fraud')\n",
    "\n",
    "ax2.hist(normal.Amount, bins = bins)\n",
    "ax2.set_title('Normal')\n",
    "\n",
    "plt.xlabel('Amount ($)')\n",
    "plt.ylabel('Number of Transactions')\n",
    "plt.xlim((0, 20000))\n",
    "plt.yscale('log')\n",
    "plt.show()"
   ]
  },
  {
   "cell_type": "markdown",
   "metadata": {},
   "source": [
    "### 檢視交易時間是否有差別"
   ]
  },
  {
   "cell_type": "code",
   "execution_count": 128,
   "metadata": {},
   "outputs": [
    {
     "data": {
      "image/png": "[encoded data removed]",
      "text/plain": [
       "<Figure size 432x288 with 2 Axes>"
      ]
     },
     "metadata": {},
     "output_type": "display_data"
    }
   ],
   "source": [
    "f, (ax1, ax2) = plt.subplots(2, 1, sharex=True)\n",
    "f.suptitle('Time of transaction vs Amount by class')\n",
    "\n",
    "ax1.scatter(frauds.Time, frauds.Amount)\n",
    "ax1.set_title('Fraud')\n",
    "\n",
    "ax2.scatter(normal.Time, normal.Amount)\n",
    "ax2.set_title('Normal')\n",
    "\n",
    "plt.xlabel('Time (in Seconds)')\n",
    "plt.ylabel('Amount')\n",
    "plt.show()"
   ]
  },
  {
   "cell_type": "markdown",
   "metadata": {},
   "source": [
    "### 資料預處理"
   ]
  },
  {
   "cell_type": "code",
   "execution_count": 129,
   "metadata": {},
   "outputs": [],
   "source": [
    "from sklearn.preprocessing import StandardScaler\n",
    "\n",
    "data = df.drop(['Time'], axis=1)\n",
    "\n",
    "data['Amount'] = StandardScaler().fit_transform(data['Amount'].values.reshape(-1, 1))"
   ]
  },
  {
   "cell_type": "code",
   "execution_count": 131,
   "metadata": {},
   "outputs": [
    {
     "data": {
      "text/html": [
       "<div>\n",
       "<style scoped>\n",
       "    .dataframe tbody tr th:only-of-type {\n",
       "        vertical-align: middle;\n",
       "    }\n",
       "\n",
       "    .dataframe tbody tr th {\n",
       "        vertical-align: top;\n",
       "    }\n",
       "\n",
       "    .dataframe thead th {\n",
       "        text-align: right;\n",
       "    }\n",
       "</style>\n",
       "<table border=\"1\" class=\"dataframe\">\n",
       "  <thead>\n",
       "    <tr style=\"text-align: right;\">\n",
       "      <th></th>\n",
       "      <th>V1</th>\n",
       "      <th>V2</th>\n",
       "      <th>V3</th>\n",
       "      <th>V4</th>\n",
       "      <th>V5</th>\n",
       "      <th>V6</th>\n",
       "      <th>V7</th>\n",
       "      <th>V8</th>\n",
       "      <th>V9</th>\n",
       "      <th>V10</th>\n",
       "      <th>...</th>\n",
       "      <th>V21</th>\n",
       "      <th>V22</th>\n",
       "      <th>V23</th>\n",
       "      <th>V24</th>\n",
       "      <th>V25</th>\n",
       "      <th>V26</th>\n",
       "      <th>V27</th>\n",
       "      <th>V28</th>\n",
       "      <th>Amount</th>\n",
       "      <th>Class</th>\n",
       "    </tr>\n",
       "  </thead>\n",
       "  <tbody>\n",
       "    <tr>\n",
       "      <th>0</th>\n",
       "      <td>-1.359807</td>\n",
       "      <td>-0.072781</td>\n",
       "      <td>2.536347</td>\n",
       "      <td>1.378155</td>\n",
       "      <td>-0.338321</td>\n",
       "      <td>0.462388</td>\n",
       "      <td>0.239599</td>\n",
       "      <td>0.098698</td>\n",
       "      <td>0.363787</td>\n",
       "      <td>0.090794</td>\n",
       "      <td>...</td>\n",
       "      <td>-0.018307</td>\n",
       "      <td>0.277838</td>\n",
       "      <td>-0.110474</td>\n",
       "      <td>0.066928</td>\n",
       "      <td>0.128539</td>\n",
       "      <td>-0.189115</td>\n",
       "      <td>0.133558</td>\n",
       "      <td>-0.021053</td>\n",
       "      <td>0.244964</td>\n",
       "      <td>0</td>\n",
       "    </tr>\n",
       "    <tr>\n",
       "      <th>1</th>\n",
       "      <td>1.191857</td>\n",
       "      <td>0.266151</td>\n",
       "      <td>0.166480</td>\n",
       "      <td>0.448154</td>\n",
       "      <td>0.060018</td>\n",
       "      <td>-0.082361</td>\n",
       "      <td>-0.078803</td>\n",
       "      <td>0.085102</td>\n",
       "      <td>-0.255425</td>\n",
       "      <td>-0.166974</td>\n",
       "      <td>...</td>\n",
       "      <td>-0.225775</td>\n",
       "      <td>-0.638672</td>\n",
       "      <td>0.101288</td>\n",
       "      <td>-0.339846</td>\n",
       "      <td>0.167170</td>\n",
       "      <td>0.125895</td>\n",
       "      <td>-0.008983</td>\n",
       "      <td>0.014724</td>\n",
       "      <td>-0.342475</td>\n",
       "      <td>0</td>\n",
       "    </tr>\n",
       "    <tr>\n",
       "      <th>2</th>\n",
       "      <td>-1.358354</td>\n",
       "      <td>-1.340163</td>\n",
       "      <td>1.773209</td>\n",
       "      <td>0.379780</td>\n",
       "      <td>-0.503198</td>\n",
       "      <td>1.800499</td>\n",
       "      <td>0.791461</td>\n",
       "      <td>0.247676</td>\n",
       "      <td>-1.514654</td>\n",
       "      <td>0.207643</td>\n",
       "      <td>...</td>\n",
       "      <td>0.247998</td>\n",
       "      <td>0.771679</td>\n",
       "      <td>0.909412</td>\n",
       "      <td>-0.689281</td>\n",
       "      <td>-0.327642</td>\n",
       "      <td>-0.139097</td>\n",
       "      <td>-0.055353</td>\n",
       "      <td>-0.059752</td>\n",
       "      <td>1.160686</td>\n",
       "      <td>0</td>\n",
       "    </tr>\n",
       "    <tr>\n",
       "      <th>3</th>\n",
       "      <td>-0.966272</td>\n",
       "      <td>-0.185226</td>\n",
       "      <td>1.792993</td>\n",
       "      <td>-0.863291</td>\n",
       "      <td>-0.010309</td>\n",
       "      <td>1.247203</td>\n",
       "      <td>0.237609</td>\n",
       "      <td>0.377436</td>\n",
       "      <td>-1.387024</td>\n",
       "      <td>-0.054952</td>\n",
       "      <td>...</td>\n",
       "      <td>-0.108300</td>\n",
       "      <td>0.005274</td>\n",
       "      <td>-0.190321</td>\n",
       "      <td>-1.175575</td>\n",
       "      <td>0.647376</td>\n",
       "      <td>-0.221929</td>\n",
       "      <td>0.062723</td>\n",
       "      <td>0.061458</td>\n",
       "      <td>0.140534</td>\n",
       "      <td>0</td>\n",
       "    </tr>\n",
       "    <tr>\n",
       "      <th>4</th>\n",
       "      <td>-1.158233</td>\n",
       "      <td>0.877737</td>\n",
       "      <td>1.548718</td>\n",
       "      <td>0.403034</td>\n",
       "      <td>-0.407193</td>\n",
       "      <td>0.095921</td>\n",
       "      <td>0.592941</td>\n",
       "      <td>-0.270533</td>\n",
       "      <td>0.817739</td>\n",
       "      <td>0.753074</td>\n",
       "      <td>...</td>\n",
       "      <td>-0.009431</td>\n",
       "      <td>0.798278</td>\n",
       "      <td>-0.137458</td>\n",
       "      <td>0.141267</td>\n",
       "      <td>-0.206010</td>\n",
       "      <td>0.502292</td>\n",
       "      <td>0.219422</td>\n",
       "      <td>0.215153</td>\n",
       "      <td>-0.073403</td>\n",
       "      <td>0</td>\n",
       "    </tr>\n",
       "  </tbody>\n",
       "</table>\n",
       "<p>5 rows × 30 columns</p>\n",
       "</div>"
      ],
      "text/plain": [
       "         V1        V2        V3        V4        V5        V6        V7  \\\n",
       "0 -1.359807 -0.072781  2.536347  1.378155 -0.338321  0.462388  0.239599   \n",
       "1  1.191857  0.266151  0.166480  0.448154  0.060018 -0.082361 -0.078803   \n",
       "2 -1.358354 -1.340163  1.773209  0.379780 -0.503198  1.800499  0.791461   \n",
       "3 -0.966272 -0.185226  1.792993 -0.863291 -0.010309  1.247203  0.237609   \n",
       "4 -1.158233  0.877737  1.548718  0.403034 -0.407193  0.095921  0.592941   \n",
       "\n",
       "         V8        V9       V10  ...         V21       V22       V23  \\\n",
       "0  0.098698  0.363787  0.090794  ...   -0.018307  0.277838 -0.110474   \n",
       "1  0.085102 -0.255425 -0.166974  ...   -0.225775 -0.638672  0.101288   \n",
       "2  0.247676 -1.514654  0.207643  ...    0.247998  0.771679  0.909412   \n",
       "3  0.377436 -1.387024 -0.054952  ...   -0.108300  0.005274 -0.190321   \n",
       "4 -0.270533  0.817739  0.753074  ...   -0.009431  0.798278 -0.137458   \n",
       "\n",
       "        V24       V25       V26       V27       V28    Amount  Class  \n",
       "0  0.066928  0.128539 -0.189115  0.133558 -0.021053  0.244964      0  \n",
       "1 -0.339846  0.167170  0.125895 -0.008983  0.014724 -0.342475      0  \n",
       "2 -0.689281 -0.327642 -0.139097 -0.055353 -0.059752  1.160686      0  \n",
       "3 -1.175575  0.647376 -0.221929  0.062723  0.061458  0.140534      0  \n",
       "4  0.141267 -0.206010  0.502292  0.219422  0.215153 -0.073403      0  \n",
       "\n",
       "[5 rows x 30 columns]"
      ]
     },
     "execution_count": 131,
     "metadata": {},
     "output_type": "execute_result"
    }
   ],
   "source": [
    "data.head()"
   ]
  },
  {
   "cell_type": "markdown",
   "metadata": {},
   "source": [
    "### 建立訓練與測試資料集"
   ]
  },
  {
   "cell_type": "code",
   "execution_count": 136,
   "metadata": {},
   "outputs": [],
   "source": [
    "X_train, X_test = train_test_split(data, test_size=0.2, random_state=42)\n",
    "X_train = X_train[X_train.Class == 0]\n",
    "X_train = X_train.drop(['Class'], axis=1)\n",
    "\n",
    "y_test = X_test['Class']\n",
    "\n",
    "X_test = X_test.drop(['Class'], axis=1)\n",
    "\n",
    "X_train = X_train.values\n",
    "X_test  = X_test.values"
   ]
  },
  {
   "cell_type": "markdown",
   "metadata": {},
   "source": [
    "### 建立 Auto Encoders"
   ]
  },
  {
   "cell_type": "code",
   "execution_count": 137,
   "metadata": {},
   "outputs": [
    {
     "name": "stdout",
     "output_type": "stream",
     "text": [
      "29\n"
     ]
    }
   ],
   "source": [
    "input_dim = X_train.shape[1]\n",
    "print(input_dim)\n",
    "encoding_dim = 14"
   ]
  },
  {
   "cell_type": "code",
   "execution_count": 138,
   "metadata": {},
   "outputs": [],
   "source": [
    "input_layer = Input(shape=(input_dim, ))\n",
    "\n",
    "encoder = Dense(encoding_dim, activation=\"tanh\", \n",
    "                activity_regularizer=regularizers.l1(10e-5))(input_layer)\n",
    "\n",
    "encoder = Dense(7, activation=\"relu\")(encoder)\n",
    "\n",
    "decoder = Dense(7, activation='tanh')(encoder)\n",
    "decoder = Dense(input_dim, activation='relu')(decoder)\n",
    "\n",
    "autoencoder = Model(inputs=input_layer, outputs=decoder)"
   ]
  },
  {
   "cell_type": "code",
   "execution_count": 139,
   "metadata": {
    "collapsed": true
   },
   "outputs": [
    {
     "name": "stdout",
     "output_type": "stream",
     "text": [
      "Train on 227451 samples, validate on 56962 samples\n",
      "Epoch 1/10\n",
      "227451/227451 [==============================] - ETA: 26:10 - loss: 1.0457 - acc: 0.09 - ETA: 27s - loss: 1.2437 - acc: 0.0228 - ETA: 15s - loss: 1.1040 - acc: 0.05 - ETA: 11s - loss: 1.0563 - acc: 0.11 - ETA: 9s - loss: 1.0425 - acc: 0.1697 - ETA: 8s - loss: 1.0187 - acc: 0.217 - ETA: 7s - loss: 0.9990 - acc: 0.254 - ETA: 7s - loss: 0.9827 - acc: 0.282 - ETA: 6s - loss: 0.9780 - acc: 0.304 - ETA: 6s - loss: 0.9729 - acc: 0.320 - ETA: 6s - loss: 1.0571 - acc: 0.334 - ETA: 6s - loss: 1.0355 - acc: 0.348 - ETA: 5s - loss: 1.0232 - acc: 0.356 - ETA: 5s - loss: 1.0170 - acc: 0.369 - ETA: 5s - loss: 1.0142 - acc: 0.377 - ETA: 5s - loss: 1.0070 - acc: 0.386 - ETA: 5s - loss: 1.0076 - acc: 0.395 - ETA: 5s - loss: 1.0156 - acc: 0.404 - ETA: 5s - loss: 1.0044 - acc: 0.411 - ETA: 4s - loss: 0.9978 - acc: 0.417 - ETA: 4s - loss: 0.9878 - acc: 0.424 - ETA: 4s - loss: 0.9764 - acc: 0.429 - ETA: 4s - loss: 0.9701 - acc: 0.435 - ETA: 4s - loss: 0.9695 - acc: 0.442 - ETA: 4s - loss: 0.9618 - acc: 0.447 - ETA: 4s - loss: 0.9554 - acc: 0.451 - ETA: 4s - loss: 0.9487 - acc: 0.457 - ETA: 4s - loss: 0.9451 - acc: 0.461 - ETA: 4s - loss: 0.9374 - acc: 0.465 - ETA: 4s - loss: 0.9322 - acc: 0.468 - ETA: 4s - loss: 0.9274 - acc: 0.472 - ETA: 4s - loss: 0.9221 - acc: 0.476 - ETA: 3s - loss: 0.9182 - acc: 0.480 - ETA: 3s - loss: 0.9127 - acc: 0.484 - ETA: 3s - loss: 0.9093 - acc: 0.487 - ETA: 3s - loss: 0.9031 - acc: 0.491 - ETA: 3s - loss: 0.8975 - acc: 0.494 - ETA: 3s - loss: 0.8951 - acc: 0.497 - ETA: 3s - loss: 0.8971 - acc: 0.500 - ETA: 3s - loss: 0.8944 - acc: 0.503 - ETA: 3s - loss: 0.8905 - acc: 0.506 - ETA: 3s - loss: 0.8877 - acc: 0.509 - ETA: 3s - loss: 0.8867 - acc: 0.512 - ETA: 3s - loss: 0.8838 - acc: 0.514 - ETA: 3s - loss: 0.8809 - acc: 0.516 - ETA: 3s - loss: 0.8797 - acc: 0.519 - ETA: 3s - loss: 0.8781 - acc: 0.521 - ETA: 3s - loss: 0.8770 - acc: 0.524 - ETA: 2s - loss: 0.8755 - acc: 0.525 - ETA: 2s - loss: 0.8746 - acc: 0.527 - ETA: 2s - loss: 0.8740 - acc: 0.529 - ETA: 2s - loss: 0.8706 - acc: 0.531 - ETA: 2s - loss: 0.8667 - acc: 0.533 - ETA: 2s - loss: 0.8642 - acc: 0.535 - ETA: 2s - loss: 0.8642 - acc: 0.537 - ETA: 2s - loss: 0.8615 - acc: 0.538 - ETA: 2s - loss: 0.8592 - acc: 0.540 - ETA: 2s - loss: 0.8573 - acc: 0.542 - ETA: 2s - loss: 0.8569 - acc: 0.543 - ETA: 2s - loss: 0.8548 - acc: 0.545 - ETA: 2s - loss: 0.8513 - acc: 0.546 - ETA: 2s - loss: 0.8488 - acc: 0.548 - ETA: 2s - loss: 0.8469 - acc: 0.549 - ETA: 2s - loss: 0.8451 - acc: 0.550 - ETA: 2s - loss: 0.8451 - acc: 0.552 - ETA: 1s - loss: 0.8449 - acc: 0.553 - ETA: 1s - loss: 0.8438 - acc: 0.554 - ETA: 1s - loss: 0.8407 - acc: 0.555 - ETA: 1s - loss: 0.8401 - acc: 0.557 - ETA: 1s - loss: 0.8395 - acc: 0.558 - ETA: 1s - loss: 0.8387 - acc: 0.559 - ETA: 1s - loss: 0.8398 - acc: 0.560 - ETA: 1s - loss: 0.8387 - acc: 0.561 - ETA: 1s - loss: 0.8385 - acc: 0.562 - ETA: 1s - loss: 0.8374 - acc: 0.564 - ETA: 1s - loss: 0.8360 - acc: 0.565 - ETA: 1s - loss: 0.8369 - acc: 0.566 - ETA: 1s - loss: 0.8367 - acc: 0.567 - ETA: 1s - loss: 0.8337 - acc: 0.568 - ETA: 1s - loss: 0.8326 - acc: 0.569 - ETA: 1s - loss: 0.8309 - acc: 0.570 - ETA: 1s - loss: 0.8303 - acc: 0.571 - ETA: 1s - loss: 0.8287 - acc: 0.572 - ETA: 1s - loss: 0.8298 - acc: 0.573 - ETA: 0s - loss: 0.8286 - acc: 0.574 - ETA: 0s - loss: 0.8276 - acc: 0.574 - ETA: 0s - loss: 0.8260 - acc: 0.575 - ETA: 0s - loss: 0.8254 - acc: 0.576 - ETA: 0s - loss: 0.8242 - acc: 0.577 - ETA: 0s - loss: 0.8241 - acc: 0.577 - ETA: 0s - loss: 0.8231 - acc: 0.578 - ETA: 0s - loss: 0.8216 - acc: 0.579 - ETA: 0s - loss: 0.8211 - acc: 0.580 - ETA: 0s - loss: 0.8198 - acc: 0.581 - ETA: 0s - loss: 0.8190 - acc: 0.581 - ETA: 0s - loss: 0.8185 - acc: 0.582 - ETA: 0s - loss: 0.8184 - acc: 0.583 - ETA: 0s - loss: 0.8179 - acc: 0.583 - ETA: 0s - loss: 0.8165 - acc: 0.584 - ETA: 0s - loss: 0.8171 - acc: 0.585 - ETA: 0s - loss: 0.8159 - acc: 0.585 - ETA: 0s - loss: 0.8152 - acc: 0.586 - ETA: 0s - loss: 0.8144 - acc: 0.587 - ETA: 0s - loss: 0.8141 - acc: 0.587 - 6s 26us/step - loss: 0.8142 - acc: 0.5878 - val_loss: 0.7839 - val_acc: 0.6550\n",
      "Epoch 2/10\n",
      "227451/227451 [==============================] - ETA: 1:11 - loss: 0.9756 - acc: 0.781 - ETA: 6s - loss: 0.7268 - acc: 0.6549  - ETA: 5s - loss: 0.6938 - acc: 0.650 - ETA: 5s - loss: 0.7571 - acc: 0.656 - ETA: 5s - loss: 0.8022 - acc: 0.656 - ETA: 4s - loss: 0.7863 - acc: 0.655 - ETA: 4s - loss: 0.7786 - acc: 0.655 - ETA: 4s - loss: 0.7823 - acc: 0.655 - ETA: 4s - loss: 0.7732 - acc: 0.659 - ETA: 4s - loss: 0.7757 - acc: 0.658 - ETA: 4s - loss: 0.7746 - acc: 0.658 - ETA: 4s - loss: 0.8350 - acc: 0.659 - ETA: 4s - loss: 0.8269 - acc: 0.659 - ETA: 4s - loss: 0.8164 - acc: 0.658 - ETA: 4s - loss: 0.8135 - acc: 0.657 - ETA: 4s - loss: 0.8055 - acc: 0.658 - ETA: 4s - loss: 0.7961 - acc: 0.657 - ETA: 4s - loss: 0.7936 - acc: 0.656 - ETA: 4s - loss: 0.7896 - acc: 0.656 - ETA: 4s - loss: 0.7867 - acc: 0.657 - ETA: 4s - loss: 0.7877 - acc: 0.657 - ETA: 3s - loss: 0.7840 - acc: 0.657 - ETA: 3s - loss: 0.7838 - acc: 0.657 - ETA: 3s - loss: 0.7775 - acc: 0.657 - ETA: 3s - loss: 0.7738 - acc: 0.657 - ETA: 3s - loss: 0.7694 - acc: 0.657 - ETA: 3s - loss: 0.7708 - acc: 0.657 - ETA: 3s - loss: 0.7696 - acc: 0.656 - ETA: 3s - loss: 0.7741 - acc: 0.657 - ETA: 3s - loss: 0.7736 - acc: 0.656 - ETA: 3s - loss: 0.7715 - acc: 0.657 - ETA: 3s - loss: 0.7694 - acc: 0.657 - ETA: 3s - loss: 0.7664 - acc: 0.657 - ETA: 3s - loss: 0.7682 - acc: 0.658 - ETA: 3s - loss: 0.7707 - acc: 0.658 - ETA: 3s - loss: 0.7741 - acc: 0.658 - ETA: 3s - loss: 0.7740 - acc: 0.658 - ETA: 3s - loss: 0.7735 - acc: 0.658 - ETA: 3s - loss: 0.7699 - acc: 0.658 - ETA: 3s - loss: 0.7688 - acc: 0.658 - ETA: 2s - loss: 0.7667 - acc: 0.658 - ETA: 2s - loss: 0.7653 - acc: 0.658 - ETA: 2s - loss: 0.7633 - acc: 0.658 - ETA: 2s - loss: 0.7622 - acc: 0.658 - ETA: 2s - loss: 0.7597 - acc: 0.658 - ETA: 2s - loss: 0.7614 - acc: 0.659 - ETA: 2s - loss: 0.7605 - acc: 0.659 - ETA: 2s - loss: 0.7584 - acc: 0.659 - ETA: 2s - loss: 0.7560 - acc: 0.659 - ETA: 2s - loss: 0.7559 - acc: 0.659 - ETA: 2s - loss: 0.7561 - acc: 0.659 - ETA: 2s - loss: 0.7560 - acc: 0.659 - ETA: 2s - loss: 0.7536 - acc: 0.659 - ETA: 2s - loss: 0.7530 - acc: 0.659 - ETA: 2s - loss: 0.7515 - acc: 0.659 - ETA: 2s - loss: 0.7511 - acc: 0.659 - ETA: 2s - loss: 0.7528 - acc: 0.659 - ETA: 2s - loss: 0.7529 - acc: 0.659 - ETA: 2s - loss: 0.7521 - acc: 0.659 - ETA: 1s - loss: 0.7522 - acc: 0.659 - ETA: 1s - loss: 0.7563 - acc: 0.659 - ETA: 1s - loss: 0.7551 - acc: 0.659 - ETA: 1s - loss: 0.7542 - acc: 0.659 - ETA: 1s - loss: 0.7535 - acc: 0.659 - ETA: 1s - loss: 0.7534 - acc: 0.659 - ETA: 1s - loss: 0.7527 - acc: 0.659 - ETA: 1s - loss: 0.7519 - acc: 0.660 - ETA: 1s - loss: 0.7514 - acc: 0.660 - ETA: 1s - loss: 0.7517 - acc: 0.660 - ETA: 1s - loss: 0.7507 - acc: 0.659 - ETA: 1s - loss: 0.7501 - acc: 0.660 - ETA: 1s - loss: 0.7483 - acc: 0.660 - ETA: 1s - loss: 0.7479 - acc: 0.660 - ETA: 1s - loss: 0.7470 - acc: 0.660 - ETA: 1s - loss: 0.7468 - acc: 0.660 - ETA: 1s - loss: 0.7459 - acc: 0.660 - ETA: 1s - loss: 0.7502 - acc: 0.660 - ETA: 1s - loss: 0.7489 - acc: 0.660 - ETA: 0s - loss: 0.7481 - acc: 0.660 - ETA: 0s - loss: 0.7476 - acc: 0.660 - ETA: 0s - loss: 0.7478 - acc: 0.660 - ETA: 0s - loss: 0.7473 - acc: 0.660 - ETA: 0s - loss: 0.7467 - acc: 0.660 - ETA: 0s - loss: 0.7471 - acc: 0.661 - ETA: 0s - loss: 0.7462 - acc: 0.660 - ETA: 0s - loss: 0.7456 - acc: 0.661 - ETA: 0s - loss: 0.7452 - acc: 0.661 - ETA: 0s - loss: 0.7439 - acc: 0.661 - ETA: 0s - loss: 0.7435 - acc: 0.661 - ETA: 0s - loss: 0.7436 - acc: 0.661 - ETA: 0s - loss: 0.7440 - acc: 0.661 - ETA: 0s - loss: 0.7442 - acc: 0.661 - ETA: 0s - loss: 0.7446 - acc: 0.661 - ETA: 0s - loss: 0.7442 - acc: 0.661 - ETA: 0s - loss: 0.7437 - acc: 0.661 - ETA: 0s - loss: 0.7426 - acc: 0.661 - ETA: 0s - loss: 0.7423 - acc: 0.661 - 5s 23us/step - loss: 0.7424 - acc: 0.6617 - val_loss: 0.7687 - val_acc: 0.6556\n",
      "Epoch 3/10\n",
      "227451/227451 [==============================] - ETA: 1:18 - loss: 0.6185 - acc: 0.687 - ETA: 5s - loss: 0.8918 - acc: 0.6754  - ETA: 5s - loss: 0.7896 - acc: 0.673 - ETA: 5s - loss: 0.7397 - acc: 0.670 - ETA: 4s - loss: 0.7713 - acc: 0.671 - ETA: 4s - loss: 0.7637 - acc: 0.670 - ETA: 4s - loss: 0.7513 - acc: 0.670 - ETA: 4s - loss: 0.7459 - acc: 0.670 - ETA: 4s - loss: 0.7462 - acc: 0.669 - ETA: 4s - loss: 0.7407 - acc: 0.668 - ETA: 4s - loss: 0.7378 - acc: 0.667 - ETA: 4s - loss: 0.7425 - acc: 0.667 - ETA: 4s - loss: 0.7435 - acc: 0.667 - ETA: 4s - loss: 0.7494 - acc: 0.667 - ETA: 4s - loss: 0.7502 - acc: 0.668 - ETA: 4s - loss: 0.7479 - acc: 0.667 - ETA: 4s - loss: 0.7489 - acc: 0.668 - ETA: 4s - loss: 0.7482 - acc: 0.668 - ETA: 3s - loss: 0.7475 - acc: 0.668 - ETA: 3s - loss: 0.7462 - acc: 0.668 - ETA: 3s - loss: 0.7416 - acc: 0.668 - ETA: 3s - loss: 0.7488 - acc: 0.667 - ETA: 3s - loss: 0.7446 - acc: 0.667 - ETA: 3s - loss: 0.7433 - acc: 0.668 - ETA: 3s - loss: 0.7397 - acc: 0.667 - ETA: 3s - loss: 0.7437 - acc: 0.668 - ETA: 3s - loss: 0.7432 - acc: 0.668 - ETA: 3s - loss: 0.7401 - acc: 0.668 - ETA: 3s - loss: 0.7363 - acc: 0.668 - ETA: 3s - loss: 0.7328 - acc: 0.667 - ETA: 3s - loss: 0.7314 - acc: 0.667 - ETA: 3s - loss: 0.7292 - acc: 0.667 - ETA: 3s - loss: 0.7315 - acc: 0.666 - ETA: 3s - loss: 0.7304 - acc: 0.666 - ETA: 3s - loss: 0.7277 - acc: 0.665 - ETA: 3s - loss: 0.7238 - acc: 0.665 - ETA: 3s - loss: 0.7268 - acc: 0.665 - ETA: 3s - loss: 0.7272 - acc: 0.665 - ETA: 2s - loss: 0.7304 - acc: 0.665 - ETA: 2s - loss: 0.7299 - acc: 0.665 - ETA: 2s - loss: 0.7301 - acc: 0.665 - ETA: 2s - loss: 0.7290 - acc: 0.665 - ETA: 2s - loss: 0.7289 - acc: 0.666 - ETA: 2s - loss: 0.7308 - acc: 0.666 - ETA: 2s - loss: 0.7289 - acc: 0.666 - ETA: 2s - loss: 0.7296 - acc: 0.666 - ETA: 2s - loss: 0.7289 - acc: 0.666 - ETA: 2s - loss: 0.7272 - acc: 0.666 - ETA: 2s - loss: 0.7270 - acc: 0.666 - ETA: 2s - loss: 0.7260 - acc: 0.666 - ETA: 2s - loss: 0.7258 - acc: 0.666 - ETA: 2s - loss: 0.7242 - acc: 0.666 - ETA: 2s - loss: 0.7250 - acc: 0.666 - ETA: 2s - loss: 0.7249 - acc: 0.666 - ETA: 2s - loss: 0.7240 - acc: 0.666 - ETA: 2s - loss: 0.7243 - acc: 0.666 - ETA: 2s - loss: 0.7225 - acc: 0.666 - ETA: 1s - loss: 0.7230 - acc: 0.666 - ETA: 1s - loss: 0.7212 - acc: 0.666 - ETA: 1s - loss: 0.7208 - acc: 0.666 - ETA: 1s - loss: 0.7215 - acc: 0.665 - ETA: 1s - loss: 0.7214 - acc: 0.666 - ETA: 1s - loss: 0.7193 - acc: 0.665 - ETA: 1s - loss: 0.7211 - acc: 0.666 - ETA: 1s - loss: 0.7205 - acc: 0.666 - ETA: 1s - loss: 0.7195 - acc: 0.666 - ETA: 1s - loss: 0.7200 - acc: 0.666 - ETA: 1s - loss: 0.7204 - acc: 0.666 - ETA: 1s - loss: 0.7202 - acc: 0.666 - ETA: 1s - loss: 0.7204 - acc: 0.666 - ETA: 1s - loss: 0.7201 - acc: 0.666 - ETA: 1s - loss: 0.7221 - acc: 0.666 - ETA: 1s - loss: 0.7224 - acc: 0.666 - ETA: 1s - loss: 0.7232 - acc: 0.666 - ETA: 1s - loss: 0.7232 - acc: 0.666 - ETA: 1s - loss: 0.7227 - acc: 0.666 - ETA: 1s - loss: 0.7213 - acc: 0.666 - ETA: 0s - loss: 0.7203 - acc: 0.666 - ETA: 0s - loss: 0.7287 - acc: 0.666 - ETA: 0s - loss: 0.7283 - acc: 0.666 - ETA: 0s - loss: 0.7276 - acc: 0.666 - ETA: 0s - loss: 0.7283 - acc: 0.666 - ETA: 0s - loss: 0.7282 - acc: 0.666 - ETA: 0s - loss: 0.7302 - acc: 0.666 - ETA: 0s - loss: 0.7295 - acc: 0.666 - ETA: 0s - loss: 0.7286 - acc: 0.666 - ETA: 0s - loss: 0.7290 - acc: 0.666 - ETA: 0s - loss: 0.7291 - acc: 0.666 - ETA: 0s - loss: 0.7293 - acc: 0.666 - ETA: 0s - loss: 0.7295 - acc: 0.666 - ETA: 0s - loss: 0.7292 - acc: 0.666 - ETA: 0s - loss: 0.7292 - acc: 0.666 - ETA: 0s - loss: 0.7297 - acc: 0.666 - ETA: 0s - loss: 0.7298 - acc: 0.666 - ETA: 0s - loss: 0.7319 - acc: 0.666 - ETA: 0s - loss: 0.7314 - acc: 0.666 - ETA: 0s - loss: 0.7320 - acc: 0.666 - ETA: 0s - loss: 0.7316 - acc: 0.666 - ETA: 0s - loss: 0.7314 - acc: 0.666 - ETA: 0s - loss: 0.7320 - acc: 0.666 - 6s 24us/step - loss: 0.7316 - acc: 0.6670 - val_loss: 0.7626 - val_acc: 0.6732\n",
      "Epoch 4/10\n",
      "227451/227451 [==============================] - ETA: 1:03 - loss: 1.2177 - acc: 0.562 - ETA: 5s - loss: 0.7199 - acc: 0.6678  - ETA: 5s - loss: 0.6653 - acc: 0.672 - ETA: 5s - loss: 0.6914 - acc: 0.667 - ETA: 4s - loss: 0.6961 - acc: 0.674 - ETA: 4s - loss: 0.6910 - acc: 0.672 - ETA: 4s - loss: 0.7007 - acc: 0.670 - ETA: 4s - loss: 0.7107 - acc: 0.669 - ETA: 4s - loss: 0.7303 - acc: 0.670 - ETA: 4s - loss: 0.7235 - acc: 0.670 - ETA: 4s - loss: 0.7158 - acc: 0.670 - ETA: 4s - loss: 0.7110 - acc: 0.671 - ETA: 4s - loss: 0.7130 - acc: 0.670 - ETA: 4s - loss: 0.7126 - acc: 0.670 - ETA: 4s - loss: 0.7128 - acc: 0.668 - ETA: 4s - loss: 0.7102 - acc: 0.669 - ETA: 4s - loss: 0.7168 - acc: 0.667 - ETA: 4s - loss: 0.7196 - acc: 0.666 - ETA: 4s - loss: 0.7168 - acc: 0.666 - ETA: 4s - loss: 0.7148 - acc: 0.667 - ETA: 3s - loss: 0.7132 - acc: 0.666 - ETA: 3s - loss: 0.7153 - acc: 0.666 - ETA: 3s - loss: 0.7180 - acc: 0.665 - ETA: 3s - loss: 0.7192 - acc: 0.665 - ETA: 3s - loss: 0.7181 - acc: 0.665 - ETA: 3s - loss: 0.7165 - acc: 0.666 - ETA: 3s - loss: 0.7138 - acc: 0.666 - ETA: 3s - loss: 0.7116 - acc: 0.666 - ETA: 3s - loss: 0.7101 - acc: 0.667 - ETA: 3s - loss: 0.7175 - acc: 0.666 - ETA: 3s - loss: 0.7184 - acc: 0.667 - ETA: 3s - loss: 0.7175 - acc: 0.667 - ETA: 3s - loss: 0.7207 - acc: 0.667 - ETA: 3s - loss: 0.7208 - acc: 0.667 - ETA: 3s - loss: 0.7437 - acc: 0.667 - ETA: 3s - loss: 0.7455 - acc: 0.667 - ETA: 2s - loss: 0.7421 - acc: 0.668 - ETA: 2s - loss: 0.7439 - acc: 0.667 - ETA: 2s - loss: 0.7445 - acc: 0.668 - ETA: 2s - loss: 0.7432 - acc: 0.668 - ETA: 2s - loss: 0.7444 - acc: 0.668 - ETA: 2s - loss: 0.7419 - acc: 0.668 - ETA: 2s - loss: 0.7407 - acc: 0.668 - ETA: 2s - loss: 0.7379 - acc: 0.668 - ETA: 2s - loss: 0.7438 - acc: 0.668 - ETA: 2s - loss: 0.7432 - acc: 0.668 - ETA: 2s - loss: 0.7424 - acc: 0.668 - ETA: 2s - loss: 0.7422 - acc: 0.668 - ETA: 2s - loss: 0.7415 - acc: 0.668 - ETA: 2s - loss: 0.7399 - acc: 0.668 - ETA: 2s - loss: 0.7400 - acc: 0.668 - ETA: 2s - loss: 0.7401 - acc: 0.668 - ETA: 2s - loss: 0.7446 - acc: 0.668 - ETA: 2s - loss: 0.7441 - acc: 0.668 - ETA: 1s - loss: 0.7421 - acc: 0.668 - ETA: 1s - loss: 0.7430 - acc: 0.668 - ETA: 1s - loss: 0.7433 - acc: 0.668 - ETA: 1s - loss: 0.7417 - acc: 0.668 - ETA: 1s - loss: 0.7413 - acc: 0.668 - ETA: 1s - loss: 0.7416 - acc: 0.668 - ETA: 1s - loss: 0.7409 - acc: 0.668 - ETA: 1s - loss: 0.7399 - acc: 0.668 - ETA: 1s - loss: 0.7389 - acc: 0.668 - ETA: 1s - loss: 0.7387 - acc: 0.668 - ETA: 1s - loss: 0.7388 - acc: 0.668 - ETA: 1s - loss: 0.7367 - acc: 0.668 - ETA: 1s - loss: 0.7358 - acc: 0.668 - ETA: 1s - loss: 0.7349 - acc: 0.668 - ETA: 1s - loss: 0.7333 - acc: 0.668 - ETA: 1s - loss: 0.7330 - acc: 0.668 - ETA: 1s - loss: 0.7323 - acc: 0.668 - ETA: 1s - loss: 0.7319 - acc: 0.668 - ETA: 1s - loss: 0.7308 - acc: 0.668 - ETA: 1s - loss: 0.7297 - acc: 0.668 - ETA: 0s - loss: 0.7302 - acc: 0.668 - ETA: 0s - loss: 0.7308 - acc: 0.668 - ETA: 0s - loss: 0.7300 - acc: 0.668 - ETA: 0s - loss: 0.7302 - acc: 0.668 - ETA: 0s - loss: 0.7295 - acc: 0.668 - ETA: 0s - loss: 0.7288 - acc: 0.668 - ETA: 0s - loss: 0.7282 - acc: 0.668 - ETA: 0s - loss: 0.7281 - acc: 0.668 - ETA: 0s - loss: 0.7281 - acc: 0.668 - ETA: 0s - loss: 0.7282 - acc: 0.668 - ETA: 0s - loss: 0.7290 - acc: 0.668 - ETA: 0s - loss: 0.7283 - acc: 0.668 - ETA: 0s - loss: 0.7273 - acc: 0.668 - ETA: 0s - loss: 0.7274 - acc: 0.668 - ETA: 0s - loss: 0.7276 - acc: 0.668 - ETA: 0s - loss: 0.7272 - acc: 0.668 - ETA: 0s - loss: 0.7272 - acc: 0.668 - ETA: 0s - loss: 0.7282 - acc: 0.668 - ETA: 0s - loss: 0.7278 - acc: 0.668 - ETA: 0s - loss: 0.7277 - acc: 0.668 - ETA: 0s - loss: 0.7277 - acc: 0.668 - ETA: 0s - loss: 0.7283 - acc: 0.668 - ETA: 0s - loss: 0.7278 - acc: 0.668 - 5s 23us/step - loss: 0.7276 - acc: 0.6683 - val_loss: 0.7571 - val_acc: 0.6739\n",
      "Epoch 5/10\n"
     ]
    },
    {
     "name": "stdout",
     "output_type": "stream",
     "text": [
      "227451/227451 [==============================] - ETA: 1:11 - loss: 0.4647 - acc: 0.781 - ETA: 6s - loss: 0.6903 - acc: 0.6641  - ETA: 5s - loss: 0.6660 - acc: 0.666 - ETA: 5s - loss: 0.6767 - acc: 0.669 - ETA: 5s - loss: 0.6538 - acc: 0.671 - ETA: 5s - loss: 0.6565 - acc: 0.670 - ETA: 5s - loss: 0.6807 - acc: 0.669 - ETA: 4s - loss: 0.6793 - acc: 0.668 - ETA: 4s - loss: 0.6689 - acc: 0.669 - ETA: 4s - loss: 0.6772 - acc: 0.670 - ETA: 4s - loss: 0.6804 - acc: 0.671 - ETA: 4s - loss: 0.6834 - acc: 0.668 - ETA: 4s - loss: 0.6948 - acc: 0.668 - ETA: 4s - loss: 0.7038 - acc: 0.669 - ETA: 4s - loss: 0.7025 - acc: 0.667 - ETA: 4s - loss: 0.7091 - acc: 0.668 - ETA: 4s - loss: 0.7108 - acc: 0.668 - ETA: 4s - loss: 0.7097 - acc: 0.668 - ETA: 4s - loss: 0.7095 - acc: 0.668 - ETA: 4s - loss: 0.7111 - acc: 0.667 - ETA: 4s - loss: 0.7085 - acc: 0.667 - ETA: 4s - loss: 0.7069 - acc: 0.667 - ETA: 4s - loss: 0.7051 - acc: 0.667 - ETA: 4s - loss: 0.6995 - acc: 0.667 - ETA: 4s - loss: 0.7023 - acc: 0.667 - ETA: 4s - loss: 0.7051 - acc: 0.667 - ETA: 4s - loss: 0.7044 - acc: 0.668 - ETA: 3s - loss: 0.7063 - acc: 0.668 - ETA: 3s - loss: 0.7088 - acc: 0.668 - ETA: 3s - loss: 0.7074 - acc: 0.668 - ETA: 3s - loss: 0.7091 - acc: 0.668 - ETA: 3s - loss: 0.7096 - acc: 0.668 - ETA: 3s - loss: 0.7124 - acc: 0.668 - ETA: 3s - loss: 0.7123 - acc: 0.668 - ETA: 3s - loss: 0.7138 - acc: 0.668 - ETA: 3s - loss: 0.7178 - acc: 0.668 - ETA: 3s - loss: 0.7173 - acc: 0.668 - ETA: 3s - loss: 0.7171 - acc: 0.668 - ETA: 3s - loss: 0.7158 - acc: 0.669 - ETA: 3s - loss: 0.7149 - acc: 0.669 - ETA: 3s - loss: 0.7166 - acc: 0.669 - ETA: 3s - loss: 0.7209 - acc: 0.669 - ETA: 3s - loss: 0.7275 - acc: 0.669 - ETA: 3s - loss: 0.7263 - acc: 0.669 - ETA: 3s - loss: 0.7251 - acc: 0.668 - ETA: 3s - loss: 0.7269 - acc: 0.668 - ETA: 3s - loss: 0.7267 - acc: 0.668 - ETA: 2s - loss: 0.7246 - acc: 0.668 - ETA: 2s - loss: 0.7233 - acc: 0.668 - ETA: 2s - loss: 0.7243 - acc: 0.668 - ETA: 2s - loss: 0.7252 - acc: 0.668 - ETA: 2s - loss: 0.7250 - acc: 0.668 - ETA: 2s - loss: 0.7244 - acc: 0.668 - ETA: 2s - loss: 0.7261 - acc: 0.668 - ETA: 2s - loss: 0.7254 - acc: 0.668 - ETA: 2s - loss: 0.7262 - acc: 0.668 - ETA: 2s - loss: 0.7260 - acc: 0.668 - ETA: 2s - loss: 0.7254 - acc: 0.668 - ETA: 2s - loss: 0.7248 - acc: 0.668 - ETA: 2s - loss: 0.7394 - acc: 0.668 - ETA: 2s - loss: 0.7412 - acc: 0.668 - ETA: 2s - loss: 0.7400 - acc: 0.667 - ETA: 2s - loss: 0.7391 - acc: 0.668 - ETA: 2s - loss: 0.7383 - acc: 0.667 - ETA: 2s - loss: 0.7364 - acc: 0.668 - ETA: 2s - loss: 0.7376 - acc: 0.668 - ETA: 2s - loss: 0.7380 - acc: 0.668 - ETA: 2s - loss: 0.7377 - acc: 0.668 - ETA: 2s - loss: 0.7363 - acc: 0.668 - ETA: 1s - loss: 0.7363 - acc: 0.668 - ETA: 1s - loss: 0.7360 - acc: 0.668 - ETA: 1s - loss: 0.7348 - acc: 0.668 - ETA: 1s - loss: 0.7337 - acc: 0.668 - ETA: 1s - loss: 0.7340 - acc: 0.668 - ETA: 1s - loss: 0.7331 - acc: 0.668 - ETA: 1s - loss: 0.7326 - acc: 0.668 - ETA: 1s - loss: 0.7319 - acc: 0.668 - ETA: 1s - loss: 0.7300 - acc: 0.668 - ETA: 1s - loss: 0.7297 - acc: 0.668 - ETA: 1s - loss: 0.7293 - acc: 0.668 - ETA: 1s - loss: 0.7285 - acc: 0.668 - ETA: 1s - loss: 0.7292 - acc: 0.668 - ETA: 1s - loss: 0.7294 - acc: 0.667 - ETA: 1s - loss: 0.7294 - acc: 0.668 - ETA: 1s - loss: 0.7282 - acc: 0.668 - ETA: 0s - loss: 0.7288 - acc: 0.668 - ETA: 0s - loss: 0.7286 - acc: 0.668 - ETA: 0s - loss: 0.7275 - acc: 0.668 - ETA: 0s - loss: 0.7284 - acc: 0.668 - ETA: 0s - loss: 0.7298 - acc: 0.668 - ETA: 0s - loss: 0.7294 - acc: 0.667 - ETA: 0s - loss: 0.7293 - acc: 0.668 - ETA: 0s - loss: 0.7301 - acc: 0.668 - ETA: 0s - loss: 0.7293 - acc: 0.668 - ETA: 0s - loss: 0.7287 - acc: 0.668 - ETA: 0s - loss: 0.7278 - acc: 0.668 - ETA: 0s - loss: 0.7268 - acc: 0.668 - ETA: 0s - loss: 0.7266 - acc: 0.668 - ETA: 0s - loss: 0.7262 - acc: 0.668 - ETA: 0s - loss: 0.7259 - acc: 0.669 - ETA: 0s - loss: 0.7261 - acc: 0.668 - ETA: 0s - loss: 0.7253 - acc: 0.668 - ETA: 0s - loss: 0.7253 - acc: 0.669 - ETA: 0s - loss: 0.7245 - acc: 0.668 - 6s 25us/step - loss: 0.7243 - acc: 0.6689 - val_loss: 0.7553 - val_acc: 0.6681\n",
      "Epoch 6/10\n",
      "227451/227451 [==============================] - ETA: 2:50 - loss: 0.3632 - acc: 0.718 - ETA: 7s - loss: 0.7095 - acc: 0.6558  - ETA: 5s - loss: 0.6964 - acc: 0.670 - ETA: 5s - loss: 0.7795 - acc: 0.670 - ETA: 5s - loss: 0.7428 - acc: 0.667 - ETA: 5s - loss: 0.7329 - acc: 0.668 - ETA: 4s - loss: 0.7261 - acc: 0.668 - ETA: 4s - loss: 0.7416 - acc: 0.668 - ETA: 4s - loss: 0.7298 - acc: 0.669 - ETA: 4s - loss: 0.7311 - acc: 0.669 - ETA: 4s - loss: 0.7355 - acc: 0.667 - ETA: 4s - loss: 0.7285 - acc: 0.667 - ETA: 4s - loss: 0.7254 - acc: 0.667 - ETA: 4s - loss: 0.7216 - acc: 0.668 - ETA: 4s - loss: 0.7176 - acc: 0.668 - ETA: 4s - loss: 0.7246 - acc: 0.667 - ETA: 4s - loss: 0.7224 - acc: 0.666 - ETA: 4s - loss: 0.7251 - acc: 0.667 - ETA: 4s - loss: 0.7295 - acc: 0.667 - ETA: 4s - loss: 0.7277 - acc: 0.667 - ETA: 4s - loss: 0.7272 - acc: 0.666 - ETA: 3s - loss: 0.7255 - acc: 0.667 - ETA: 3s - loss: 0.7209 - acc: 0.667 - ETA: 3s - loss: 0.7211 - acc: 0.668 - ETA: 3s - loss: 0.7180 - acc: 0.669 - ETA: 3s - loss: 0.7165 - acc: 0.669 - ETA: 3s - loss: 0.7155 - acc: 0.669 - ETA: 3s - loss: 0.7133 - acc: 0.670 - ETA: 3s - loss: 0.7135 - acc: 0.669 - ETA: 3s - loss: 0.7182 - acc: 0.669 - ETA: 3s - loss: 0.7231 - acc: 0.669 - ETA: 3s - loss: 0.7224 - acc: 0.669 - ETA: 3s - loss: 0.7218 - acc: 0.669 - ETA: 3s - loss: 0.7221 - acc: 0.669 - ETA: 3s - loss: 0.7214 - acc: 0.670 - ETA: 3s - loss: 0.7206 - acc: 0.669 - ETA: 3s - loss: 0.7238 - acc: 0.669 - ETA: 3s - loss: 0.7228 - acc: 0.669 - ETA: 3s - loss: 0.7227 - acc: 0.669 - ETA: 2s - loss: 0.7238 - acc: 0.669 - ETA: 2s - loss: 0.7217 - acc: 0.669 - ETA: 2s - loss: 0.7203 - acc: 0.669 - ETA: 2s - loss: 0.7198 - acc: 0.668 - ETA: 2s - loss: 0.7183 - acc: 0.669 - ETA: 2s - loss: 0.7189 - acc: 0.668 - ETA: 2s - loss: 0.7171 - acc: 0.668 - ETA: 2s - loss: 0.7160 - acc: 0.668 - ETA: 2s - loss: 0.7140 - acc: 0.668 - ETA: 2s - loss: 0.7137 - acc: 0.668 - ETA: 2s - loss: 0.7153 - acc: 0.668 - ETA: 2s - loss: 0.7149 - acc: 0.668 - ETA: 2s - loss: 0.7145 - acc: 0.668 - ETA: 2s - loss: 0.7139 - acc: 0.668 - ETA: 2s - loss: 0.7131 - acc: 0.667 - ETA: 2s - loss: 0.7134 - acc: 0.667 - ETA: 2s - loss: 0.7134 - acc: 0.667 - ETA: 2s - loss: 0.7126 - acc: 0.667 - ETA: 2s - loss: 0.7128 - acc: 0.667 - ETA: 2s - loss: 0.7122 - acc: 0.667 - ETA: 2s - loss: 0.7128 - acc: 0.667 - ETA: 2s - loss: 0.7131 - acc: 0.667 - ETA: 2s - loss: 0.7129 - acc: 0.667 - ETA: 1s - loss: 0.7141 - acc: 0.667 - ETA: 1s - loss: 0.7128 - acc: 0.667 - ETA: 1s - loss: 0.7164 - acc: 0.667 - ETA: 1s - loss: 0.7148 - acc: 0.667 - ETA: 1s - loss: 0.7162 - acc: 0.667 - ETA: 1s - loss: 0.7166 - acc: 0.667 - ETA: 1s - loss: 0.7175 - acc: 0.667 - ETA: 1s - loss: 0.7166 - acc: 0.667 - ETA: 1s - loss: 0.7147 - acc: 0.667 - ETA: 1s - loss: 0.7133 - acc: 0.667 - ETA: 1s - loss: 0.7118 - acc: 0.667 - ETA: 1s - loss: 0.7107 - acc: 0.667 - ETA: 1s - loss: 0.7115 - acc: 0.667 - ETA: 1s - loss: 0.7113 - acc: 0.667 - ETA: 1s - loss: 0.7116 - acc: 0.667 - ETA: 1s - loss: 0.7115 - acc: 0.667 - ETA: 1s - loss: 0.7114 - acc: 0.667 - ETA: 1s - loss: 0.7117 - acc: 0.667 - ETA: 1s - loss: 0.7117 - acc: 0.667 - ETA: 1s - loss: 0.7129 - acc: 0.667 - ETA: 0s - loss: 0.7130 - acc: 0.667 - ETA: 0s - loss: 0.7123 - acc: 0.667 - ETA: 0s - loss: 0.7142 - acc: 0.667 - ETA: 0s - loss: 0.7134 - acc: 0.667 - ETA: 0s - loss: 0.7135 - acc: 0.667 - ETA: 0s - loss: 0.7132 - acc: 0.667 - ETA: 0s - loss: 0.7128 - acc: 0.667 - ETA: 0s - loss: 0.7143 - acc: 0.667 - ETA: 0s - loss: 0.7136 - acc: 0.667 - ETA: 0s - loss: 0.7143 - acc: 0.667 - ETA: 0s - loss: 0.7141 - acc: 0.667 - ETA: 0s - loss: 0.7134 - acc: 0.667 - ETA: 0s - loss: 0.7135 - acc: 0.667 - ETA: 0s - loss: 0.7128 - acc: 0.667 - ETA: 0s - loss: 0.7149 - acc: 0.667 - ETA: 0s - loss: 0.7141 - acc: 0.667 - ETA: 0s - loss: 0.7143 - acc: 0.667 - ETA: 0s - loss: 0.7137 - acc: 0.667 - 5s 24us/step - loss: 0.7220 - acc: 0.6675 - val_loss: 0.7557 - val_acc: 0.6618\n",
      "Epoch 7/10\n",
      "227451/227451 [==============================] - ETA: 1:25 - loss: 1.0193 - acc: 0.625 - ETA: 5s - loss: 0.6622 - acc: 0.6574  - ETA: 4s - loss: 0.7184 - acc: 0.658 - ETA: 4s - loss: 0.7272 - acc: 0.656 - ETA: 4s - loss: 0.7255 - acc: 0.658 - ETA: 4s - loss: 0.7480 - acc: 0.661 - ETA: 4s - loss: 0.7560 - acc: 0.665 - ETA: 4s - loss: 0.7595 - acc: 0.664 - ETA: 4s - loss: 0.7484 - acc: 0.667 - ETA: 4s - loss: 0.7435 - acc: 0.667 - ETA: 4s - loss: 0.7392 - acc: 0.667 - ETA: 4s - loss: 0.7399 - acc: 0.668 - ETA: 4s - loss: 0.7461 - acc: 0.667 - ETA: 3s - loss: 0.7367 - acc: 0.668 - ETA: 3s - loss: 0.7328 - acc: 0.667 - ETA: 3s - loss: 0.7298 - acc: 0.668 - ETA: 3s - loss: 0.7232 - acc: 0.668 - ETA: 3s - loss: 0.7245 - acc: 0.668 - ETA: 3s - loss: 0.7274 - acc: 0.667 - ETA: 3s - loss: 0.7277 - acc: 0.666 - ETA: 3s - loss: 0.7254 - acc: 0.667 - ETA: 3s - loss: 0.7227 - acc: 0.667 - ETA: 3s - loss: 0.7301 - acc: 0.668 - ETA: 3s - loss: 0.7295 - acc: 0.668 - ETA: 3s - loss: 0.7266 - acc: 0.668 - ETA: 3s - loss: 0.7517 - acc: 0.667 - ETA: 3s - loss: 0.7523 - acc: 0.668 - ETA: 3s - loss: 0.7487 - acc: 0.668 - ETA: 3s - loss: 0.7473 - acc: 0.668 - ETA: 3s - loss: 0.7496 - acc: 0.668 - ETA: 3s - loss: 0.7454 - acc: 0.668 - ETA: 2s - loss: 0.7426 - acc: 0.668 - ETA: 2s - loss: 0.7396 - acc: 0.668 - ETA: 2s - loss: 0.7388 - acc: 0.668 - ETA: 2s - loss: 0.7373 - acc: 0.668 - ETA: 2s - loss: 0.7350 - acc: 0.668 - ETA: 2s - loss: 0.7338 - acc: 0.667 - ETA: 2s - loss: 0.7317 - acc: 0.667 - ETA: 2s - loss: 0.7285 - acc: 0.667 - ETA: 2s - loss: 0.7301 - acc: 0.667 - ETA: 2s - loss: 0.7281 - acc: 0.667 - ETA: 2s - loss: 0.7282 - acc: 0.667 - ETA: 2s - loss: 0.7277 - acc: 0.667 - ETA: 2s - loss: 0.7292 - acc: 0.667 - ETA: 2s - loss: 0.7266 - acc: 0.667 - ETA: 2s - loss: 0.7245 - acc: 0.667 - ETA: 2s - loss: 0.7224 - acc: 0.667 - ETA: 2s - loss: 0.7228 - acc: 0.667 - ETA: 2s - loss: 0.7223 - acc: 0.667 - ETA: 2s - loss: 0.7218 - acc: 0.667 - ETA: 2s - loss: 0.7202 - acc: 0.667 - ETA: 1s - loss: 0.7185 - acc: 0.667 - ETA: 1s - loss: 0.7199 - acc: 0.667 - ETA: 1s - loss: 0.7227 - acc: 0.667 - ETA: 1s - loss: 0.7221 - acc: 0.667 - ETA: 1s - loss: 0.7227 - acc: 0.667 - ETA: 1s - loss: 0.7224 - acc: 0.668 - ETA: 1s - loss: 0.7218 - acc: 0.667 - ETA: 1s - loss: 0.7223 - acc: 0.667 - ETA: 1s - loss: 0.7212 - acc: 0.667 - ETA: 1s - loss: 0.7210 - acc: 0.667 - ETA: 1s - loss: 0.7208 - acc: 0.667 - ETA: 1s - loss: 0.7208 - acc: 0.667 - ETA: 1s - loss: 0.7201 - acc: 0.667 - ETA: 1s - loss: 0.7192 - acc: 0.667 - ETA: 1s - loss: 0.7194 - acc: 0.667 - ETA: 1s - loss: 0.7189 - acc: 0.667 - ETA: 1s - loss: 0.7193 - acc: 0.667 - ETA: 1s - loss: 0.7191 - acc: 0.667 - ETA: 1s - loss: 0.7189 - acc: 0.667 - ETA: 1s - loss: 0.7191 - acc: 0.667 - ETA: 1s - loss: 0.7217 - acc: 0.667 - ETA: 0s - loss: 0.7209 - acc: 0.667 - ETA: 0s - loss: 0.7203 - acc: 0.667 - ETA: 0s - loss: 0.7206 - acc: 0.667 - ETA: 0s - loss: 0.7194 - acc: 0.667 - ETA: 0s - loss: 0.7210 - acc: 0.667 - ETA: 0s - loss: 0.7209 - acc: 0.667 - ETA: 0s - loss: 0.7218 - acc: 0.667 - ETA: 0s - loss: 0.7224 - acc: 0.667 - ETA: 0s - loss: 0.7226 - acc: 0.667 - ETA: 0s - loss: 0.7223 - acc: 0.667 - ETA: 0s - loss: 0.7218 - acc: 0.667 - ETA: 0s - loss: 0.7201 - acc: 0.667 - ETA: 0s - loss: 0.7199 - acc: 0.667 - ETA: 0s - loss: 0.7193 - acc: 0.667 - ETA: 0s - loss: 0.7186 - acc: 0.667 - ETA: 0s - loss: 0.7185 - acc: 0.667 - ETA: 0s - loss: 0.7189 - acc: 0.667 - ETA: 0s - loss: 0.7188 - acc: 0.667 - ETA: 0s - loss: 0.7184 - acc: 0.667 - ETA: 0s - loss: 0.7193 - acc: 0.667 - ETA: 0s - loss: 0.7205 - acc: 0.667 - 5s 23us/step - loss: 0.7201 - acc: 0.6678 - val_loss: 0.7511 - val_acc: 0.6756\n",
      "Epoch 8/10\n",
      "227451/227451 [==============================] - ETA: 1:32 - loss: 1.1269 - acc: 0.656 - ETA: 6s - loss: 0.6569 - acc: 0.6693  - ETA: 6s - loss: 0.6915 - acc: 0.676 - ETA: 6s - loss: 0.6919 - acc: 0.676 - ETA: 6s - loss: 0.6886 - acc: 0.671 - ETA: 6s - loss: 0.6872 - acc: 0.668 - ETA: 6s - loss: 0.6810 - acc: 0.668 - ETA: 6s - loss: 0.6882 - acc: 0.669 - ETA: 5s - loss: 0.6869 - acc: 0.671 - ETA: 5s - loss: 0.6820 - acc: 0.670 - ETA: 5s - loss: 0.6750 - acc: 0.671 - ETA: 5s - loss: 0.6839 - acc: 0.671 - ETA: 5s - loss: 0.6748 - acc: 0.669 - ETA: 5s - loss: 0.6826 - acc: 0.668 - ETA: 5s - loss: 0.6899 - acc: 0.669 - ETA: 5s - loss: 0.6925 - acc: 0.669 - ETA: 4s - loss: 0.6931 - acc: 0.670 - ETA: 4s - loss: 0.6955 - acc: 0.669 - ETA: 4s - loss: 0.6950 - acc: 0.668 - ETA: 4s - loss: 0.6987 - acc: 0.668 - ETA: 4s - loss: 0.6960 - acc: 0.668 - ETA: 4s - loss: 0.7022 - acc: 0.668 - ETA: 4s - loss: 0.7054 - acc: 0.668 - ETA: 4s - loss: 0.7050 - acc: 0.667 - ETA: 4s - loss: 0.7067 - acc: 0.667 - ETA: 4s - loss: 0.7043 - acc: 0.667 - ETA: 4s - loss: 0.7069 - acc: 0.667 - ETA: 4s - loss: 0.7082 - acc: 0.667 - ETA: 4s - loss: 0.7092 - acc: 0.667 - ETA: 4s - loss: 0.7099 - acc: 0.667 - ETA: 4s - loss: 0.7087 - acc: 0.666 - ETA: 4s - loss: 0.7063 - acc: 0.667 - ETA: 3s - loss: 0.7061 - acc: 0.667 - ETA: 3s - loss: 0.7066 - acc: 0.667 - ETA: 3s - loss: 0.7081 - acc: 0.667 - ETA: 3s - loss: 0.7087 - acc: 0.667 - ETA: 3s - loss: 0.7104 - acc: 0.667 - ETA: 3s - loss: 0.7135 - acc: 0.666 - ETA: 3s - loss: 0.7104 - acc: 0.666 - ETA: 3s - loss: 0.7095 - acc: 0.666 - ETA: 3s - loss: 0.7087 - acc: 0.666 - ETA: 3s - loss: 0.7076 - acc: 0.666 - ETA: 3s - loss: 0.7073 - acc: 0.666 - ETA: 3s - loss: 0.7069 - acc: 0.666 - ETA: 3s - loss: 0.7082 - acc: 0.666 - ETA: 3s - loss: 0.7073 - acc: 0.666 - ETA: 3s - loss: 0.7087 - acc: 0.666 - ETA: 3s - loss: 0.7087 - acc: 0.666 - ETA: 3s - loss: 0.7079 - acc: 0.666 - ETA: 3s - loss: 0.7069 - acc: 0.666 - ETA: 3s - loss: 0.7065 - acc: 0.666 - ETA: 2s - loss: 0.7060 - acc: 0.665 - ETA: 2s - loss: 0.7055 - acc: 0.665 - ETA: 2s - loss: 0.7059 - acc: 0.665 - ETA: 2s - loss: 0.7055 - acc: 0.665 - ETA: 2s - loss: 0.7067 - acc: 0.665 - ETA: 2s - loss: 0.7070 - acc: 0.665 - ETA: 2s - loss: 0.7063 - acc: 0.666 - ETA: 2s - loss: 0.7055 - acc: 0.666 - ETA: 2s - loss: 0.7067 - acc: 0.666 - ETA: 2s - loss: 0.7074 - acc: 0.666 - ETA: 2s - loss: 0.7096 - acc: 0.666 - ETA: 2s - loss: 0.7100 - acc: 0.666 - ETA: 2s - loss: 0.7116 - acc: 0.666 - ETA: 2s - loss: 0.7102 - acc: 0.667 - ETA: 2s - loss: 0.7089 - acc: 0.667 - ETA: 2s - loss: 0.7076 - acc: 0.667 - ETA: 2s - loss: 0.7073 - acc: 0.667 - ETA: 2s - loss: 0.7093 - acc: 0.667 - ETA: 2s - loss: 0.7095 - acc: 0.667 - ETA: 1s - loss: 0.7083 - acc: 0.667 - ETA: 1s - loss: 0.7075 - acc: 0.668 - ETA: 1s - loss: 0.7075 - acc: 0.667 - ETA: 1s - loss: 0.7171 - acc: 0.667 - ETA: 1s - loss: 0.7186 - acc: 0.667 - ETA: 1s - loss: 0.7192 - acc: 0.667 - ETA: 1s - loss: 0.7215 - acc: 0.667 - ETA: 1s - loss: 0.7220 - acc: 0.667 - ETA: 1s - loss: 0.7216 - acc: 0.667 - ETA: 1s - loss: 0.7207 - acc: 0.667 - ETA: 1s - loss: 0.7196 - acc: 0.667 - ETA: 1s - loss: 0.7201 - acc: 0.667 - ETA: 1s - loss: 0.7210 - acc: 0.667 - ETA: 1s - loss: 0.7206 - acc: 0.667 - ETA: 1s - loss: 0.7221 - acc: 0.667 - ETA: 1s - loss: 0.7212 - acc: 0.667 - ETA: 1s - loss: 0.7208 - acc: 0.667 - ETA: 1s - loss: 0.7209 - acc: 0.667 - ETA: 1s - loss: 0.7201 - acc: 0.668 - ETA: 0s - loss: 0.7187 - acc: 0.668 - ETA: 0s - loss: 0.7181 - acc: 0.668 - ETA: 0s - loss: 0.7190 - acc: 0.668 - ETA: 0s - loss: 0.7186 - acc: 0.668 - ETA: 0s - loss: 0.7183 - acc: 0.668 - ETA: 0s - loss: 0.7188 - acc: 0.668 - ETA: 0s - loss: 0.7177 - acc: 0.668 - ETA: 0s - loss: 0.7167 - acc: 0.668 - ETA: 0s - loss: 0.7165 - acc: 0.668 - ETA: 0s - loss: 0.7169 - acc: 0.668 - ETA: 0s - loss: 0.7174 - acc: 0.668 - ETA: 0s - loss: 0.7174 - acc: 0.668 - ETA: 0s - loss: 0.7178 - acc: 0.668 - ETA: 0s - loss: 0.7201 - acc: 0.668 - ETA: 0s - loss: 0.7205 - acc: 0.668 - ETA: 0s - loss: 0.7210 - acc: 0.667 - ETA: 0s - loss: 0.7208 - acc: 0.667 - ETA: 0s - loss: 0.7199 - acc: 0.667 - ETA: 0s - loss: 0.7191 - acc: 0.667 - 6s 26us/step - loss: 0.7190 - acc: 0.6679 - val_loss: 0.7491 - val_acc: 0.6657\n",
      "Epoch 9/10\n"
     ]
    },
    {
     "name": "stdout",
     "output_type": "stream",
     "text": [
      "227451/227451 [==============================] - ETA: 2:07 - loss: 0.6460 - acc: 0.687 - ETA: 7s - loss: 0.6219 - acc: 0.6696  - ETA: 6s - loss: 0.6442 - acc: 0.677 - ETA: 6s - loss: 0.6769 - acc: 0.672 - ETA: 5s - loss: 0.6737 - acc: 0.674 - ETA: 5s - loss: 0.7381 - acc: 0.674 - ETA: 5s - loss: 0.7391 - acc: 0.675 - ETA: 5s - loss: 0.7209 - acc: 0.674 - ETA: 5s - loss: 0.7127 - acc: 0.674 - ETA: 5s - loss: 0.7148 - acc: 0.672 - ETA: 4s - loss: 0.7120 - acc: 0.673 - ETA: 4s - loss: 0.7074 - acc: 0.672 - ETA: 4s - loss: 0.6990 - acc: 0.674 - ETA: 4s - loss: 0.7090 - acc: 0.675 - ETA: 4s - loss: 0.7082 - acc: 0.675 - ETA: 4s - loss: 0.7059 - acc: 0.674 - ETA: 4s - loss: 0.7058 - acc: 0.675 - ETA: 4s - loss: 0.7038 - acc: 0.674 - ETA: 4s - loss: 0.7049 - acc: 0.674 - ETA: 4s - loss: 0.7037 - acc: 0.673 - ETA: 4s - loss: 0.7034 - acc: 0.673 - ETA: 4s - loss: 0.7040 - acc: 0.674 - ETA: 4s - loss: 0.7018 - acc: 0.674 - ETA: 4s - loss: 0.6982 - acc: 0.674 - ETA: 4s - loss: 0.6973 - acc: 0.673 - ETA: 3s - loss: 0.6960 - acc: 0.673 - ETA: 3s - loss: 0.6966 - acc: 0.673 - ETA: 3s - loss: 0.6966 - acc: 0.673 - ETA: 3s - loss: 0.6957 - acc: 0.673 - ETA: 3s - loss: 0.6950 - acc: 0.674 - ETA: 3s - loss: 0.6937 - acc: 0.674 - ETA: 3s - loss: 0.7000 - acc: 0.674 - ETA: 3s - loss: 0.7056 - acc: 0.673 - ETA: 3s - loss: 0.7062 - acc: 0.673 - ETA: 3s - loss: 0.7054 - acc: 0.673 - ETA: 3s - loss: 0.7022 - acc: 0.673 - ETA: 3s - loss: 0.7001 - acc: 0.673 - ETA: 3s - loss: 0.6996 - acc: 0.673 - ETA: 3s - loss: 0.6981 - acc: 0.673 - ETA: 3s - loss: 0.6985 - acc: 0.672 - ETA: 3s - loss: 0.6979 - acc: 0.672 - ETA: 3s - loss: 0.6982 - acc: 0.672 - ETA: 3s - loss: 0.6962 - acc: 0.672 - ETA: 2s - loss: 0.6985 - acc: 0.672 - ETA: 2s - loss: 0.7013 - acc: 0.672 - ETA: 2s - loss: 0.7035 - acc: 0.671 - ETA: 2s - loss: 0.7021 - acc: 0.671 - ETA: 2s - loss: 0.7018 - acc: 0.671 - ETA: 2s - loss: 0.7020 - acc: 0.671 - ETA: 2s - loss: 0.7035 - acc: 0.671 - ETA: 2s - loss: 0.7024 - acc: 0.671 - ETA: 2s - loss: 0.7011 - acc: 0.671 - ETA: 2s - loss: 0.7034 - acc: 0.671 - ETA: 2s - loss: 0.7035 - acc: 0.671 - ETA: 2s - loss: 0.7054 - acc: 0.671 - ETA: 2s - loss: 0.7049 - acc: 0.671 - ETA: 2s - loss: 0.7045 - acc: 0.671 - ETA: 2s - loss: 0.7041 - acc: 0.671 - ETA: 2s - loss: 0.7058 - acc: 0.670 - ETA: 2s - loss: 0.7063 - acc: 0.671 - ETA: 2s - loss: 0.7053 - acc: 0.670 - ETA: 2s - loss: 0.7042 - acc: 0.671 - ETA: 2s - loss: 0.7034 - acc: 0.671 - ETA: 1s - loss: 0.7073 - acc: 0.671 - ETA: 1s - loss: 0.7055 - acc: 0.671 - ETA: 1s - loss: 0.7059 - acc: 0.671 - ETA: 1s - loss: 0.7060 - acc: 0.671 - ETA: 1s - loss: 0.7048 - acc: 0.670 - ETA: 1s - loss: 0.7039 - acc: 0.671 - ETA: 1s - loss: 0.7038 - acc: 0.670 - ETA: 1s - loss: 0.7040 - acc: 0.670 - ETA: 1s - loss: 0.7055 - acc: 0.670 - ETA: 1s - loss: 0.7048 - acc: 0.670 - ETA: 1s - loss: 0.7057 - acc: 0.670 - ETA: 1s - loss: 0.7049 - acc: 0.670 - ETA: 1s - loss: 0.7039 - acc: 0.670 - ETA: 1s - loss: 0.7036 - acc: 0.670 - ETA: 1s - loss: 0.7044 - acc: 0.669 - ETA: 1s - loss: 0.7045 - acc: 0.669 - ETA: 1s - loss: 0.7051 - acc: 0.670 - ETA: 1s - loss: 0.7058 - acc: 0.670 - ETA: 1s - loss: 0.7058 - acc: 0.669 - ETA: 1s - loss: 0.7054 - acc: 0.669 - ETA: 0s - loss: 0.7056 - acc: 0.669 - ETA: 0s - loss: 0.7053 - acc: 0.669 - ETA: 0s - loss: 0.7062 - acc: 0.669 - ETA: 0s - loss: 0.7060 - acc: 0.669 - ETA: 0s - loss: 0.7068 - acc: 0.669 - ETA: 0s - loss: 0.7070 - acc: 0.669 - ETA: 0s - loss: 0.7084 - acc: 0.669 - ETA: 0s - loss: 0.7079 - acc: 0.669 - ETA: 0s - loss: 0.7084 - acc: 0.669 - ETA: 0s - loss: 0.7081 - acc: 0.669 - ETA: 0s - loss: 0.7073 - acc: 0.669 - ETA: 0s - loss: 0.7067 - acc: 0.669 - ETA: 0s - loss: 0.7071 - acc: 0.669 - ETA: 0s - loss: 0.7071 - acc: 0.669 - ETA: 0s - loss: 0.7071 - acc: 0.669 - ETA: 0s - loss: 0.7080 - acc: 0.669 - ETA: 0s - loss: 0.7086 - acc: 0.670 - ETA: 0s - loss: 0.7077 - acc: 0.669 - ETA: 0s - loss: 0.7090 - acc: 0.670 - ETA: 0s - loss: 0.7175 - acc: 0.669 - 6s 25us/step - loss: 0.7176 - acc: 0.6699 - val_loss: 0.7489 - val_acc: 0.6748\n",
      "Epoch 10/10\n",
      "227451/227451 [==============================] - ETA: 2:50 - loss: 0.4568 - acc: 0.406 - ETA: 8s - loss: 0.6092 - acc: 0.6609  - ETA: 7s - loss: 0.6319 - acc: 0.670 - ETA: 6s - loss: 0.6957 - acc: 0.669 - ETA: 6s - loss: 0.7103 - acc: 0.666 - ETA: 6s - loss: 0.7157 - acc: 0.670 - ETA: 5s - loss: 0.7245 - acc: 0.668 - ETA: 5s - loss: 0.7143 - acc: 0.670 - ETA: 5s - loss: 0.7305 - acc: 0.668 - ETA: 5s - loss: 0.7222 - acc: 0.670 - ETA: 5s - loss: 0.7282 - acc: 0.669 - ETA: 5s - loss: 0.7230 - acc: 0.670 - ETA: 5s - loss: 0.7323 - acc: 0.670 - ETA: 5s - loss: 0.7332 - acc: 0.669 - ETA: 5s - loss: 0.7304 - acc: 0.670 - ETA: 4s - loss: 0.7317 - acc: 0.672 - ETA: 4s - loss: 0.7301 - acc: 0.671 - ETA: 4s - loss: 0.7312 - acc: 0.671 - ETA: 4s - loss: 0.7270 - acc: 0.671 - ETA: 4s - loss: 0.7269 - acc: 0.671 - ETA: 4s - loss: 0.7244 - acc: 0.671 - ETA: 4s - loss: 0.7214 - acc: 0.670 - ETA: 4s - loss: 0.7221 - acc: 0.670 - ETA: 4s - loss: 0.7187 - acc: 0.669 - ETA: 4s - loss: 0.7158 - acc: 0.669 - ETA: 4s - loss: 0.7117 - acc: 0.669 - ETA: 4s - loss: 0.7134 - acc: 0.669 - ETA: 4s - loss: 0.7136 - acc: 0.669 - ETA: 4s - loss: 0.7140 - acc: 0.670 - ETA: 4s - loss: 0.7151 - acc: 0.669 - ETA: 4s - loss: 0.7146 - acc: 0.669 - ETA: 4s - loss: 0.7148 - acc: 0.669 - ETA: 4s - loss: 0.7163 - acc: 0.669 - ETA: 3s - loss: 0.7200 - acc: 0.669 - ETA: 3s - loss: 0.7195 - acc: 0.669 - ETA: 3s - loss: 0.7182 - acc: 0.669 - ETA: 3s - loss: 0.7163 - acc: 0.670 - ETA: 3s - loss: 0.7163 - acc: 0.670 - ETA: 3s - loss: 0.7164 - acc: 0.670 - ETA: 3s - loss: 0.7174 - acc: 0.669 - ETA: 3s - loss: 0.7174 - acc: 0.670 - ETA: 3s - loss: 0.7367 - acc: 0.669 - ETA: 3s - loss: 0.7345 - acc: 0.669 - ETA: 3s - loss: 0.7379 - acc: 0.669 - ETA: 3s - loss: 0.7362 - acc: 0.669 - ETA: 3s - loss: 0.7355 - acc: 0.669 - ETA: 3s - loss: 0.7337 - acc: 0.669 - ETA: 3s - loss: 0.7319 - acc: 0.669 - ETA: 3s - loss: 0.7306 - acc: 0.669 - ETA: 3s - loss: 0.7295 - acc: 0.669 - ETA: 2s - loss: 0.7289 - acc: 0.669 - ETA: 2s - loss: 0.7284 - acc: 0.669 - ETA: 2s - loss: 0.7272 - acc: 0.669 - ETA: 2s - loss: 0.7254 - acc: 0.670 - ETA: 2s - loss: 0.7253 - acc: 0.670 - ETA: 2s - loss: 0.7246 - acc: 0.670 - ETA: 2s - loss: 0.7239 - acc: 0.670 - ETA: 2s - loss: 0.7244 - acc: 0.670 - ETA: 2s - loss: 0.7258 - acc: 0.670 - ETA: 2s - loss: 0.7268 - acc: 0.670 - ETA: 2s - loss: 0.7266 - acc: 0.670 - ETA: 2s - loss: 0.7261 - acc: 0.670 - ETA: 2s - loss: 0.7246 - acc: 0.670 - ETA: 2s - loss: 0.7239 - acc: 0.670 - ETA: 2s - loss: 0.7224 - acc: 0.670 - ETA: 2s - loss: 0.7213 - acc: 0.671 - ETA: 2s - loss: 0.7230 - acc: 0.670 - ETA: 2s - loss: 0.7222 - acc: 0.670 - ETA: 2s - loss: 0.7224 - acc: 0.670 - ETA: 2s - loss: 0.7215 - acc: 0.670 - ETA: 1s - loss: 0.7210 - acc: 0.670 - ETA: 1s - loss: 0.7226 - acc: 0.670 - ETA: 1s - loss: 0.7229 - acc: 0.670 - ETA: 1s - loss: 0.7226 - acc: 0.670 - ETA: 1s - loss: 0.7227 - acc: 0.670 - ETA: 1s - loss: 0.7224 - acc: 0.670 - ETA: 1s - loss: 0.7204 - acc: 0.670 - ETA: 1s - loss: 0.7190 - acc: 0.670 - ETA: 1s - loss: 0.7187 - acc: 0.670 - ETA: 1s - loss: 0.7191 - acc: 0.670 - ETA: 1s - loss: 0.7185 - acc: 0.670 - ETA: 1s - loss: 0.7180 - acc: 0.670 - ETA: 1s - loss: 0.7179 - acc: 0.670 - ETA: 1s - loss: 0.7178 - acc: 0.670 - ETA: 1s - loss: 0.7172 - acc: 0.670 - ETA: 1s - loss: 0.7173 - acc: 0.670 - ETA: 1s - loss: 0.7158 - acc: 0.670 - ETA: 1s - loss: 0.7162 - acc: 0.670 - ETA: 1s - loss: 0.7162 - acc: 0.670 - ETA: 0s - loss: 0.7160 - acc: 0.670 - ETA: 0s - loss: 0.7159 - acc: 0.670 - ETA: 0s - loss: 0.7170 - acc: 0.670 - ETA: 0s - loss: 0.7178 - acc: 0.670 - ETA: 0s - loss: 0.7171 - acc: 0.670 - ETA: 0s - loss: 0.7179 - acc: 0.670 - ETA: 0s - loss: 0.7178 - acc: 0.670 - ETA: 0s - loss: 0.7170 - acc: 0.670 - ETA: 0s - loss: 0.7168 - acc: 0.671 - ETA: 0s - loss: 0.7176 - acc: 0.671 - ETA: 0s - loss: 0.7167 - acc: 0.671 - ETA: 0s - loss: 0.7176 - acc: 0.671 - ETA: 0s - loss: 0.7168 - acc: 0.671 - ETA: 0s - loss: 0.7161 - acc: 0.671 - ETA: 0s - loss: 0.7166 - acc: 0.671 - ETA: 0s - loss: 0.7165 - acc: 0.671 - ETA: 0s - loss: 0.7164 - acc: 0.671 - ETA: 0s - loss: 0.7165 - acc: 0.671 - ETA: 0s - loss: 0.7169 - acc: 0.671 - ETA: 0s - loss: 0.7163 - acc: 0.671 - 6s 26us/step - loss: 0.7162 - acc: 0.6711 - val_loss: 0.7483 - val_acc: 0.6746\n"
     ]
    }
   ],
   "source": [
    "nb_epoch   = 10\n",
    "batch_size = 32\n",
    "\n",
    "autoencoder.compile(optimizer='adam', \n",
    "                    loss='mean_squared_error', \n",
    "                    metrics=['accuracy'])\n",
    "\n",
    "checkpointer = ModelCheckpoint(filepath=\"model.h5\",\n",
    "                               verbose=0,\n",
    "                               save_best_only=True)\n",
    "\n",
    "history = autoencoder.fit(X_train, X_train,\n",
    "                    epochs=nb_epoch,\n",
    "                    batch_size=batch_size,\n",
    "                    shuffle=True,\n",
    "                    validation_data=(X_test, X_test),\n",
    "                    verbose=1,\n",
    "                    callbacks=[checkpointer])"
   ]
  },
  {
   "cell_type": "code",
   "execution_count": 140,
   "metadata": {},
   "outputs": [],
   "source": [
    "autoencoder = load_model('model.h5')"
   ]
  },
  {
   "cell_type": "markdown",
   "metadata": {},
   "source": [
    "### 評估模型"
   ]
  },
  {
   "cell_type": "code",
   "execution_count": 142,
   "metadata": {},
   "outputs": [
    {
     "data": {
      "text/plain": [
       "<matplotlib.legend.Legend at 0x1a11ce48>"
      ]
     },
     "execution_count": 142,
     "metadata": {},
     "output_type": "execute_result"
    },
    {
     "data": {
      "image/png": "[encoded data removed]",
      "text/plain": [
       "<Figure size 432x288 with 1 Axes>"
      ]
     },
     "metadata": {},
     "output_type": "display_data"
    }
   ],
   "source": [
    "plt.plot(history.history['loss'])\n",
    "plt.plot(history.history['val_loss'])\n",
    "plt.title('model loss')\n",
    "plt.ylabel('loss')\n",
    "plt.xlabel('epoch')\n",
    "plt.legend(['train', 'test'], loc='upper right')"
   ]
  },
  {
   "cell_type": "code",
   "execution_count": 143,
   "metadata": {},
   "outputs": [],
   "source": [
    "predictions = autoencoder.predict(X_test)"
   ]
  },
  {
   "cell_type": "code",
   "execution_count": 145,
   "metadata": {},
   "outputs": [
    {
     "data": {
      "text/plain": [
       "(56962, 29)"
      ]
     },
     "execution_count": 145,
     "metadata": {},
     "output_type": "execute_result"
    }
   ],
   "source": [
    "predictions.shape"
   ]
  },
  {
   "cell_type": "code",
   "execution_count": 147,
   "metadata": {},
   "outputs": [
    {
     "data": {
      "text/html": [
       "<div>\n",
       "<style scoped>\n",
       "    .dataframe tbody tr th:only-of-type {\n",
       "        vertical-align: middle;\n",
       "    }\n",
       "\n",
       "    .dataframe tbody tr th {\n",
       "        vertical-align: top;\n",
       "    }\n",
       "\n",
       "    .dataframe thead th {\n",
       "        text-align: right;\n",
       "    }\n",
       "</style>\n",
       "<table border=\"1\" class=\"dataframe\">\n",
       "  <thead>\n",
       "    <tr style=\"text-align: right;\">\n",
       "      <th></th>\n",
       "      <th>reconstruction_error</th>\n",
       "      <th>true_class</th>\n",
       "    </tr>\n",
       "  </thead>\n",
       "  <tbody>\n",
       "    <tr>\n",
       "      <th>43428</th>\n",
       "      <td>81.404245</td>\n",
       "      <td>1</td>\n",
       "    </tr>\n",
       "    <tr>\n",
       "      <th>49906</th>\n",
       "      <td>0.831528</td>\n",
       "      <td>0</td>\n",
       "    </tr>\n",
       "    <tr>\n",
       "      <th>29474</th>\n",
       "      <td>0.226130</td>\n",
       "      <td>0</td>\n",
       "    </tr>\n",
       "    <tr>\n",
       "      <th>276481</th>\n",
       "      <td>0.398445</td>\n",
       "      <td>0</td>\n",
       "    </tr>\n",
       "    <tr>\n",
       "      <th>278846</th>\n",
       "      <td>0.171506</td>\n",
       "      <td>0</td>\n",
       "    </tr>\n",
       "  </tbody>\n",
       "</table>\n",
       "</div>"
      ],
      "text/plain": [
       "        reconstruction_error  true_class\n",
       "43428              81.404245           1\n",
       "49906               0.831528           0\n",
       "29474               0.226130           0\n",
       "276481              0.398445           0\n",
       "278846              0.171506           0"
      ]
     },
     "execution_count": 147,
     "metadata": {},
     "output_type": "execute_result"
    }
   ],
   "source": [
    "mse = np.mean(np.power(X_test - predictions, 2), axis=1)\n",
    "error_df = pd.DataFrame({'reconstruction_error': mse,\n",
    "                        'true_class': y_test})\n",
    "error_df.head()"
   ]
  },
  {
   "cell_type": "code",
   "execution_count": 148,
   "metadata": {},
   "outputs": [],
   "source": [
    "from sklearn.metrics import (confusion_matrix, precision_recall_curve, auc,\n",
    "                             roc_curve, recall_score, classification_report, f1_score,\n",
    "                             precision_recall_fscore_support)"
   ]
  },
  {
   "cell_type": "code",
   "execution_count": 152,
   "metadata": {},
   "outputs": [],
   "source": [
    "#error_df.reconstruction_error"
   ]
  },
  {
   "cell_type": "markdown",
   "metadata": {},
   "source": [
    "### 繪製ROC Curve"
   ]
  },
  {
   "cell_type": "code",
   "execution_count": 149,
   "metadata": {},
   "outputs": [
    {
     "data": {
      "image/png": "[encoded data removed]",
      "text/plain": [
       "<Figure size 432x288 with 1 Axes>"
      ]
     },
     "metadata": {},
     "output_type": "display_data"
    }
   ],
   "source": [
    "fpr, tpr, thresholds = roc_curve(error_df.true_class, error_df.reconstruction_error)\n",
    "roc_auc = auc(fpr, tpr)\n",
    "\n",
    "plt.title('Receiver Operating Characteristic')\n",
    "plt.plot(fpr, tpr, label='AUC = %0.4f'% roc_auc)\n",
    "plt.legend(loc='lower right')\n",
    "plt.plot([0,1],[0,1],'r--')\n",
    "plt.xlim([-0.001, 1])\n",
    "plt.ylim([0, 1.001])\n",
    "plt.ylabel('True Positive Rate')\n",
    "plt.xlabel('False Positive Rate')\n",
    "plt.show()"
   ]
  },
  {
   "cell_type": "code",
   "execution_count": 153,
   "metadata": {},
   "outputs": [
    {
     "data": {
      "text/plain": [
       "<pandas.core.groupby.groupby.DataFrameGroupBy object at 0x000000001A129550>"
      ]
     },
     "execution_count": 153,
     "metadata": {},
     "output_type": "execute_result"
    }
   ],
   "source": [
    "groups = error_df.groupby('true_class')\n",
    "groups"
   ]
  },
  {
   "cell_type": "code",
   "execution_count": 154,
   "metadata": {},
   "outputs": [
    {
     "data": {
      "image/png": "[encoded data removed]",
      "text/plain": [
       "<Figure size 432x288 with 1 Axes>"
      ]
     },
     "metadata": {},
     "output_type": "display_data"
    }
   ],
   "source": [
    "fig, ax = plt.subplots()\n",
    "\n",
    "for name, group in groups:\n",
    "    ax.plot(group.index, group.reconstruction_error, marker='o', ms=3.5, linestyle='',\n",
    "            label= \"Fraud\" if name == 1 else \"Normal\")\n",
    "#ax.hlines(threshold, ax.get_xlim()[0], ax.get_xlim()[1], colors=\"r\", zorder=100, label='Threshold')\n",
    "ax.legend()\n",
    "plt.title(\"Reconstruction error for different classes\")\n",
    "plt.ylabel(\"Reconstruction error\")\n",
    "plt.xlabel(\"Data point index\")\n",
    "plt.show()"
   ]
  },
  {
   "cell_type": "code",
   "execution_count": 157,
   "metadata": {},
   "outputs": [
    {
     "data": {
      "text/html": [
       "<div>\n",
       "<style scoped>\n",
       "    .dataframe tbody tr th:only-of-type {\n",
       "        vertical-align: middle;\n",
       "    }\n",
       "\n",
       "    .dataframe tbody tr th {\n",
       "        vertical-align: top;\n",
       "    }\n",
       "\n",
       "    .dataframe thead th {\n",
       "        text-align: right;\n",
       "    }\n",
       "</style>\n",
       "<table border=\"1\" class=\"dataframe\">\n",
       "  <thead>\n",
       "    <tr style=\"text-align: right;\">\n",
       "      <th></th>\n",
       "      <th>reconstruction_error</th>\n",
       "      <th>true_class</th>\n",
       "    </tr>\n",
       "  </thead>\n",
       "  <tbody>\n",
       "    <tr>\n",
       "      <th>count</th>\n",
       "      <td>98.000000</td>\n",
       "      <td>98.0</td>\n",
       "    </tr>\n",
       "    <tr>\n",
       "      <th>mean</th>\n",
       "      <td>30.950587</td>\n",
       "      <td>1.0</td>\n",
       "    </tr>\n",
       "    <tr>\n",
       "      <th>std</th>\n",
       "      <td>46.184268</td>\n",
       "      <td>0.0</td>\n",
       "    </tr>\n",
       "    <tr>\n",
       "      <th>min</th>\n",
       "      <td>0.156188</td>\n",
       "      <td>1.0</td>\n",
       "    </tr>\n",
       "    <tr>\n",
       "      <th>25%</th>\n",
       "      <td>3.974009</td>\n",
       "      <td>1.0</td>\n",
       "    </tr>\n",
       "    <tr>\n",
       "      <th>50%</th>\n",
       "      <td>10.034180</td>\n",
       "      <td>1.0</td>\n",
       "    </tr>\n",
       "    <tr>\n",
       "      <th>75%</th>\n",
       "      <td>51.324726</td>\n",
       "      <td>1.0</td>\n",
       "    </tr>\n",
       "    <tr>\n",
       "      <th>max</th>\n",
       "      <td>260.097222</td>\n",
       "      <td>1.0</td>\n",
       "    </tr>\n",
       "  </tbody>\n",
       "</table>\n",
       "</div>"
      ],
      "text/plain": [
       "       reconstruction_error  true_class\n",
       "count             98.000000        98.0\n",
       "mean              30.950587         1.0\n",
       "std               46.184268         0.0\n",
       "min                0.156188         1.0\n",
       "25%                3.974009         1.0\n",
       "50%               10.034180         1.0\n",
       "75%               51.324726         1.0\n",
       "max              260.097222         1.0"
      ]
     },
     "execution_count": 157,
     "metadata": {},
     "output_type": "execute_result"
    }
   ],
   "source": [
    "error_df[error_df['true_class'] == 1].describe()"
   ]
  },
  {
   "cell_type": "code",
   "execution_count": 158,
   "metadata": {},
   "outputs": [
    {
     "data": {
      "text/html": [
       "<div>\n",
       "<style scoped>\n",
       "    .dataframe tbody tr th:only-of-type {\n",
       "        vertical-align: middle;\n",
       "    }\n",
       "\n",
       "    .dataframe tbody tr th {\n",
       "        vertical-align: top;\n",
       "    }\n",
       "\n",
       "    .dataframe thead th {\n",
       "        text-align: right;\n",
       "    }\n",
       "</style>\n",
       "<table border=\"1\" class=\"dataframe\">\n",
       "  <thead>\n",
       "    <tr style=\"text-align: right;\">\n",
       "      <th></th>\n",
       "      <th>reconstruction_error</th>\n",
       "      <th>true_class</th>\n",
       "    </tr>\n",
       "  </thead>\n",
       "  <tbody>\n",
       "    <tr>\n",
       "      <th>count</th>\n",
       "      <td>56864.000000</td>\n",
       "      <td>56864.0</td>\n",
       "    </tr>\n",
       "    <tr>\n",
       "      <th>mean</th>\n",
       "      <td>0.689308</td>\n",
       "      <td>0.0</td>\n",
       "    </tr>\n",
       "    <tr>\n",
       "      <th>std</th>\n",
       "      <td>2.589667</td>\n",
       "      <td>0.0</td>\n",
       "    </tr>\n",
       "    <tr>\n",
       "      <th>min</th>\n",
       "      <td>0.038702</td>\n",
       "      <td>0.0</td>\n",
       "    </tr>\n",
       "    <tr>\n",
       "      <th>25%</th>\n",
       "      <td>0.243365</td>\n",
       "      <td>0.0</td>\n",
       "    </tr>\n",
       "    <tr>\n",
       "      <th>50%</th>\n",
       "      <td>0.395077</td>\n",
       "      <td>0.0</td>\n",
       "    </tr>\n",
       "    <tr>\n",
       "      <th>75%</th>\n",
       "      <td>0.630639</td>\n",
       "      <td>0.0</td>\n",
       "    </tr>\n",
       "    <tr>\n",
       "      <th>max</th>\n",
       "      <td>166.536971</td>\n",
       "      <td>0.0</td>\n",
       "    </tr>\n",
       "  </tbody>\n",
       "</table>\n",
       "</div>"
      ],
      "text/plain": [
       "       reconstruction_error  true_class\n",
       "count          56864.000000     56864.0\n",
       "mean               0.689308         0.0\n",
       "std                2.589667         0.0\n",
       "min                0.038702         0.0\n",
       "25%                0.243365         0.0\n",
       "50%                0.395077         0.0\n",
       "75%                0.630639         0.0\n",
       "max              166.536971         0.0"
      ]
     },
     "execution_count": 158,
     "metadata": {},
     "output_type": "execute_result"
    }
   ],
   "source": [
    "error_df[error_df['true_class'] == 0].describe()"
   ]
  },
  {
   "cell_type": "code",
   "execution_count": 164,
   "metadata": {},
   "outputs": [
    {
     "data": {
      "text/plain": [
       "<matplotlib.axes._subplots.AxesSubplot at 0x1a310940>"
      ]
     },
     "execution_count": 164,
     "metadata": {},
     "output_type": "execute_result"
    },
    {
     "data": {
      "image/png": "[encoded data removed]",
      "text/plain": [
       "<Figure size 432x288 with 1 Axes>"
      ]
     },
     "metadata": {},
     "output_type": "display_data"
    }
   ],
   "source": [
    "error_df[error_df['true_class'] == 1]['reconstruction_error'].plot(kind= 'box')"
   ]
  },
  {
   "cell_type": "code",
   "execution_count": 163,
   "metadata": {},
   "outputs": [
    {
     "data": {
      "text/plain": [
       "<matplotlib.axes._subplots.AxesSubplot at 0x1a414860>"
      ]
     },
     "execution_count": 163,
     "metadata": {},
     "output_type": "execute_result"
    },
    {
     "data": {
      "image/png": "[encoded data removed]",
      "text/plain": [
       "<Figure size 432x288 with 1 Axes>"
      ]
     },
     "metadata": {},
     "output_type": "display_data"
    }
   ],
   "source": [
    "error_df[error_df['true_class'] == 0]['reconstruction_error'].plot(kind= 'box')"
   ]
  },
  {
   "cell_type": "markdown",
   "metadata": {},
   "source": [
    "### 檢視正常與嫌疑犯交易的重建錯誤"
   ]
  },
  {
   "cell_type": "code",
   "execution_count": 159,
   "metadata": {},
   "outputs": [
    {
     "data": {
      "image/png": "[encoded data removed]",
      "text/plain": [
       "<Figure size 432x288 with 1 Axes>"
      ]
     },
     "metadata": {},
     "output_type": "display_data"
    }
   ],
   "source": [
    "fig, ax = plt.subplots()\n",
    "\n",
    "for name, group in groups:\n",
    "    ax.plot(group.index, group.reconstruction_error, marker='o', ms=3.5, linestyle='',\n",
    "            label= \"Fraud\" if name == 1 else \"Normal\")\n",
    "ax.hlines(2.9, ax.get_xlim()[0], ax.get_xlim()[1], colors=\"r\", zorder=100, label='Threshold')\n",
    "ax.legend()\n",
    "plt.title(\"Reconstruction error for different classes\")\n",
    "plt.ylabel(\"Reconstruction error\")\n",
    "plt.xlabel(\"Data point index\")\n",
    "plt.show()"
   ]
  },
  {
   "cell_type": "markdown",
   "metadata": {},
   "source": [
    "### 檢視Confusion Matrix"
   ]
  },
  {
   "cell_type": "code",
   "execution_count": 160,
   "metadata": {},
   "outputs": [
    {
     "data": {
      "text/plain": [
       "array([[55555,  1309],\n",
       "       [   19,    79]], dtype=int64)"
      ]
     },
     "execution_count": 160,
     "metadata": {},
     "output_type": "execute_result"
    }
   ],
   "source": [
    "y_pred = [1 if e > 2.9 else 0 for e in error_df.reconstruction_error.values]\n",
    "conf_matrix = confusion_matrix(error_df.true_class, y_pred)\n",
    "conf_matrix"
   ]
  },
  {
   "cell_type": "code",
   "execution_count": null,
   "metadata": {},
   "outputs": [],
   "source": []
  }
 ],
 "metadata": {
  "kernelspec": {
   "display_name": "Python 3",
   "language": "python",
   "name": "python3"
  },
  "language_info": {
   "codemirror_mode": {
    "name": "ipython",
    "version": 3
   },
   "file_extension": ".py",
   "mimetype": "text/x-python",
   "name": "python",
   "nbconvert_exporter": "python",
   "pygments_lexer": "ipython3",
   "version": "3.6.4"
  }
 },
 "nbformat": 4,
 "nbformat_minor": 2
}
