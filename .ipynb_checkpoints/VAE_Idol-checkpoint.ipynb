{
 "cells": [
  {
   "cell_type": "markdown",
   "metadata": {},
   "source": [
    "## 使用VAE 生成圖片"
   ]
  },
  {
   "cell_type": "markdown",
   "metadata": {},
   "source": [
    "### 引用套件"
   ]
  },
  {
   "cell_type": "code",
   "execution_count": 58,
   "metadata": {},
   "outputs": [],
   "source": [
    "from PIL import Image\n",
    "import numpy as np\n",
    "import matplotlib.pyplot as plt\n",
    "import os\n",
    "import cv2\n",
    "\n",
    "from   scipy.stats import norm\n",
    "import matplotlib.image as matimg\n",
    "import glob\n",
    "\n",
    "from keras.datasets import mnist\n",
    "from keras.layers import Input, Dense, Lambda\n",
    "from keras.models import Model\n",
    "from keras import backend as K\n",
    "from keras import objectives"
   ]
  },
  {
   "cell_type": "markdown",
   "metadata": {},
   "source": [
    "### 設定網路參數"
   ]
  },
  {
   "cell_type": "code",
   "execution_count": 81,
   "metadata": {},
   "outputs": [],
   "source": [
    "num_training_examples = 100\n",
    "num_testing_examples  = 30\n",
    "\n",
    "batch_size   = 5\n",
    "original_dim = 64 * 64 * 3 #this is same as image_vector_size\n",
    "latent_dim   = 4\n",
    "intermediate_dim = 256\n",
    "epsilon_std  = 1.0"
   ]
  },
  {
   "cell_type": "code",
   "execution_count": 82,
   "metadata": {},
   "outputs": [],
   "source": [
    "def load_image(path):\n",
    "    img = matimg.imread(path)\n",
    "    return img\n",
    "\n",
    "#following code loads data from local repo\n",
    "#directory should have two subfolders, with name train and test\n",
    "def load_local_data(path):\n",
    "    paths = glob.glob(os.path.join(path + \"/train\", \"*.jpg\"))\n",
    "    X_train = np.array( [ load_image(p) for p in paths ] )\n",
    "\n",
    "    paths = glob.glob(os.path.join(path + \"/test\", \"*.jpg\"))\n",
    "    X_test = np.array( [ load_image(p) for p in paths ] )\n",
    "   \n",
    "    return X_train, X_test"
   ]
  },
  {
   "cell_type": "markdown",
   "metadata": {},
   "source": [
    "### 建立 Encoder"
   ]
  },
  {
   "cell_type": "code",
   "execution_count": 83,
   "metadata": {},
   "outputs": [],
   "source": [
    "x = Input(batch_shape=(batch_size, original_dim))\n",
    "h = Dense(intermediate_dim, activation='relu')(x)\n",
    "z_mean    = Dense(latent_dim)(h)\n",
    "z_log_var = Dense(latent_dim)(h)"
   ]
  },
  {
   "cell_type": "markdown",
   "metadata": {},
   "source": [
    "### 取樣函數"
   ]
  },
  {
   "cell_type": "code",
   "execution_count": 84,
   "metadata": {},
   "outputs": [],
   "source": [
    "def sampling(args):\n",
    "    z_mean, z_log_var = args\n",
    "    epsilon = K.random_normal(shape=(batch_size, latent_dim), mean=0.,stddev=epsilon_std)\n",
    "    return z_mean + K.exp(z_log_var / 2) * epsilon"
   ]
  },
  {
   "cell_type": "markdown",
   "metadata": {},
   "source": [
    "### 建立解碼器"
   ]
  },
  {
   "cell_type": "code",
   "execution_count": 85,
   "metadata": {},
   "outputs": [],
   "source": [
    "z = Lambda(sampling, output_shape=(latent_dim,))([z_mean, z_log_var])\n",
    "\n",
    "# we instantiate these layers separately so as to reuse them later\n",
    "decoder_h    = Dense(intermediate_dim, activation='relu')\n",
    "decoder_mean = Dense(original_dim, activation='sigmoid')\n",
    "h_decoded    = decoder_h(z)\n",
    "x_decoded_mean = decoder_mean(h_decoded)"
   ]
  },
  {
   "cell_type": "markdown",
   "metadata": {},
   "source": [
    "### 計算 VAE 損失\n"
   ]
  },
  {
   "cell_type": "code",
   "execution_count": 86,
   "metadata": {},
   "outputs": [],
   "source": [
    "# modified calculation of loss\n",
    "def vae_loss(x, x_decoded_mean):\n",
    "    # xent_loss is reconstruction error\n",
    "    # use binary_crossentropy because this is not multi-label classification or regression but unsupervised problem\n",
    "    xent_loss = original_dim * objectives.binary_crossentropy(x, x_decoded_mean)\n",
    "    \n",
    "    kl_loss = - 0.5 * K.sum(1 + z_log_var - K.square(z_mean) - K.exp(z_log_var), axis=-1)\n",
    "    return xent_loss + kl_loss"
   ]
  },
  {
   "cell_type": "markdown",
   "metadata": {},
   "source": [
    "### 建立 VAE 模型"
   ]
  },
  {
   "cell_type": "code",
   "execution_count": 87,
   "metadata": {},
   "outputs": [],
   "source": [
    "# vae model\n",
    "vae = Model(x, x_decoded_mean)\n",
    "vae.compile(optimizer='rmsprop', loss=vae_loss)\n",
    "\n",
    "# if want to train with data from local repo\n",
    "path=\"../idol_face_vae\"\n",
    "(x_train, x_test) = load_local_data(path)\n",
    "\n",
    "x_train = x_train.astype('float32') / 255.\n",
    "x_test  = x_test.astype('float32')  / 255."
   ]
  },
  {
   "cell_type": "code",
   "execution_count": 88,
   "metadata": {},
   "outputs": [
    {
     "data": {
      "text/plain": [
       "(100, 64, 64, 3)"
      ]
     },
     "execution_count": 88,
     "metadata": {},
     "output_type": "execute_result"
    }
   ],
   "source": [
    "x_train.shape"
   ]
  },
  {
   "cell_type": "code",
   "execution_count": 89,
   "metadata": {},
   "outputs": [
    {
     "data": {
      "text/plain": [
       "(30, 64, 64, 3)"
      ]
     },
     "execution_count": 89,
     "metadata": {},
     "output_type": "execute_result"
    }
   ],
   "source": [
    "x_test.shape"
   ]
  },
  {
   "cell_type": "code",
   "execution_count": 90,
   "metadata": {},
   "outputs": [],
   "source": [
    "x_train = x_train.reshape((len(x_train), np.prod(x_train.shape[1:])))\n",
    "x_test  = x_test.reshape((len(x_test), np.prod(x_test.shape[1:])))"
   ]
  },
  {
   "cell_type": "code",
   "execution_count": 91,
   "metadata": {},
   "outputs": [
    {
     "data": {
      "text/plain": [
       "(100, 12288)"
      ]
     },
     "execution_count": 91,
     "metadata": {},
     "output_type": "execute_result"
    }
   ],
   "source": [
    "x_train.shape"
   ]
  },
  {
   "cell_type": "code",
   "execution_count": 92,
   "metadata": {},
   "outputs": [
    {
     "data": {
      "text/plain": [
       "(30, 12288)"
      ]
     },
     "execution_count": 92,
     "metadata": {},
     "output_type": "execute_result"
    }
   ],
   "source": [
    "x_test.shape"
   ]
  },
  {
   "cell_type": "code",
   "execution_count": 93,
   "metadata": {},
   "outputs": [
    {
     "name": "stderr",
     "output_type": "stream",
     "text": [
      "D:\\Anaconda3\\envs\\myenv\\lib\\site-packages\\ipykernel_launcher.py:6: UserWarning: The `nb_epoch` argument in `fit` has been renamed `epochs`.\n",
      "  \n"
     ]
    },
    {
     "name": "stdout",
     "output_type": "stream",
     "text": [
      "Train on 100 samples, validate on 30 samples\n",
      "Epoch 1/50\n",
      "100/100 [==============================] - 3s 31ms/step - loss: 10134.3834 - val_loss: 7725.2170\n",
      "Epoch 2/50\n",
      "100/100 [==============================] - 3s 26ms/step - loss: 7883.9218 - val_loss: 7619.9267\n",
      "Epoch 3/50\n",
      "100/100 [==============================] - 2s 24ms/step - loss: 11590.4038 - val_loss: 7832.1498\n",
      "Epoch 4/50\n",
      "100/100 [==============================] - 2s 24ms/step - loss: 7836.6870 - val_loss: 7639.4769\n",
      "Epoch 5/50\n",
      "100/100 [==============================] - 2s 24ms/step - loss: 7811.4393 - val_loss: 7673.0011\n",
      "Epoch 6/50\n",
      "100/100 [==============================] - 2s 24ms/step - loss: 7734.6896 - val_loss: 7645.7768\n",
      "Epoch 7/50\n",
      "100/100 [==============================] - 2s 25ms/step - loss: 7908.5535 - val_loss: 7944.2258\n",
      "Epoch 8/50\n",
      "100/100 [==============================] - 2s 24ms/step - loss: 7821.3207 - val_loss: 7874.7607\n",
      "Epoch 9/50\n",
      "100/100 [==============================] - 3s 25ms/step - loss: 7861.4211 - val_loss: 7723.0537\n",
      "Epoch 10/50\n",
      "100/100 [==============================] - 2s 25ms/step - loss: 7823.7939 - val_loss: 7612.3192\n",
      "Epoch 11/50\n",
      "100/100 [==============================] - 3s 25ms/step - loss: 7889.5614 - val_loss: 7699.6711\n",
      "Epoch 12/50\n",
      "100/100 [==============================] - 2s 25ms/step - loss: 7885.7369 - val_loss: 7666.4903\n",
      "Epoch 13/50\n",
      "100/100 [==============================] - 2s 25ms/step - loss: 7763.8218 - val_loss: 7640.7992\n",
      "Epoch 14/50\n",
      "100/100 [==============================] - 2s 24ms/step - loss: 7778.5223 - val_loss: 7588.5465\n",
      "Epoch 15/50\n",
      "100/100 [==============================] - 2s 24ms/step - loss: 97894.0644 - val_loss: 7490.2310\n",
      "Epoch 16/50\n",
      "100/100 [==============================] - 2s 24ms/step - loss: 7473.0317 - val_loss: 7454.7139\n",
      "Epoch 17/50\n",
      "100/100 [==============================] - 2s 24ms/step - loss: 7439.5410 - val_loss: 7424.3068\n",
      "Epoch 18/50\n",
      "100/100 [==============================] - 3s 25ms/step - loss: 7420.5913 - val_loss: 7513.2480\n",
      "Epoch 19/50\n",
      "100/100 [==============================] - 2s 25ms/step - loss: 7432.9466 - val_loss: 7442.5380\n",
      "Epoch 20/50\n",
      "100/100 [==============================] - 2s 24ms/step - loss: 7396.0007 - val_loss: 7556.2317\n",
      "Epoch 21/50\n",
      "100/100 [==============================] - 2s 24ms/step - loss: 7498.9093 - val_loss: 7906.1506\n",
      "Epoch 22/50\n",
      "100/100 [==============================] - 2s 24ms/step - loss: 7577.1166 - val_loss: 7522.3061\n",
      "Epoch 23/50\n",
      "100/100 [==============================] - 2s 24ms/step - loss: 7705.3654 - val_loss: 7468.2324\n",
      "Epoch 24/50\n",
      "100/100 [==============================] - 2s 24ms/step - loss: 7605.7491 - val_loss: 7555.1056\n",
      "Epoch 25/50\n",
      "100/100 [==============================] - 2s 24ms/step - loss: 7692.4886 - val_loss: 7733.9517\n",
      "Epoch 26/50\n",
      "100/100 [==============================] - 3s 27ms/step - loss: 7625.7160 - val_loss: 8292.8295\n",
      "Epoch 27/50\n",
      "100/100 [==============================] - 3s 26ms/step - loss: 7686.5888 - val_loss: 7460.1580\n",
      "Epoch 28/50\n",
      "100/100 [==============================] - 2s 23ms/step - loss: 22826539.6952 - val_loss: 7402.2524\n",
      "Epoch 29/50\n",
      "100/100 [==============================] - 3s 25ms/step - loss: 7368.1532 - val_loss: 7405.5478\n",
      "Epoch 30/50\n",
      "100/100 [==============================] - 3s 25ms/step - loss: 7341.2715 - val_loss: 7542.0317\n",
      "Epoch 31/50\n",
      "100/100 [==============================] - 2s 24ms/step - loss: 7342.1036 - val_loss: 7393.4484\n",
      "Epoch 32/50\n",
      "100/100 [==============================] - 2s 24ms/step - loss: 7318.6903 - val_loss: 7376.5732\n",
      "Epoch 33/50\n",
      "100/100 [==============================] - ETA: 0s - loss: 7306.66 - 3s 27ms/step - loss: 7297.2844 - val_loss: 7375.9691\n",
      "Epoch 34/50\n",
      "100/100 [==============================] - 2s 24ms/step - loss: 7306.6311 - val_loss: 7379.3974\n",
      "Epoch 35/50\n",
      "100/100 [==============================] - 2s 24ms/step - loss: 7285.6187 - val_loss: 7389.9460\n",
      "Epoch 36/50\n",
      "100/100 [==============================] - 3s 25ms/step - loss: 7289.4625 - val_loss: 7375.3919\n",
      "Epoch 37/50\n",
      "100/100 [==============================] - 2s 24ms/step - loss: 7269.8656 - val_loss: 7429.2264\n",
      "Epoch 38/50\n",
      "100/100 [==============================] - 2s 25ms/step - loss: 7296.8792 - val_loss: 7429.5955\n",
      "Epoch 39/50\n",
      "100/100 [==============================] - 2s 25ms/step - loss: 7303.0624 - val_loss: 7410.1341\n",
      "Epoch 40/50\n",
      "100/100 [==============================] - 2s 24ms/step - loss: 7330.8429 - val_loss: 7508.7699\n",
      "Epoch 41/50\n",
      "100/100 [==============================] - 2s 24ms/step - loss: 7377.5298 - val_loss: 7479.7135\n",
      "Epoch 42/50\n",
      "100/100 [==============================] - 2s 24ms/step - loss: 7511.5002 - val_loss: 7933.0317\n",
      "Epoch 43/50\n",
      "100/100 [==============================] - 3s 26ms/step - loss: 7544.0213 - val_loss: 7821.8091\n",
      "Epoch 44/50\n",
      "100/100 [==============================] - 2s 24ms/step - loss: 7545.7314 - val_loss: 14148.4925\n",
      "Epoch 45/50\n",
      "100/100 [==============================] - 3s 27ms/step - loss: 7514.4370 - val_loss: 7367.7518\n",
      "Epoch 46/50\n",
      "100/100 [==============================] - 2s 23ms/step - loss: 7380.1731 - val_loss: 7407.8345\n",
      "Epoch 47/50\n",
      "100/100 [==============================] - 3s 27ms/step - loss: 7575.9542 - val_loss: 7433.7130\n",
      "Epoch 48/50\n",
      "100/100 [==============================] - 3s 29ms/step - loss: 7335.3745 - val_loss: 7380.5965\n",
      "Epoch 49/50\n",
      "100/100 [==============================] - 3s 26ms/step - loss: 7451.4335 - val_loss: 7855.9465\n",
      "Epoch 50/50\n",
      "100/100 [==============================] - 3s 27ms/step - loss: 7448.3925 - val_loss: 7572.6903\n"
     ]
    },
    {
     "data": {
      "text/plain": [
       "<keras.callbacks.History at 0x1916ab4ca20>"
      ]
     },
     "execution_count": 93,
     "metadata": {},
     "output_type": "execute_result"
    }
   ],
   "source": [
    "#to train the model\n",
    "vae.fit(x_train, x_train,\n",
    "        shuffle=True,\n",
    "        nb_epoch=50,\n",
    "        batch_size=batch_size,\n",
    "        validation_data=(x_test, x_test))"
   ]
  },
  {
   "cell_type": "markdown",
   "metadata": {},
   "source": [
    "### 產生生成器"
   ]
  },
  {
   "cell_type": "code",
   "execution_count": 94,
   "metadata": {},
   "outputs": [],
   "source": [
    "# build a model to project inputs on the latent space\n",
    "encoder = Model(x, z_mean)\n",
    "\n",
    "# display a 2D plot of the digit classes in the latent space\n",
    "x_test_encoded = encoder.predict(x_test, batch_size=batch_size)\n",
    "\n",
    "# build a generator that can sample from the learned distribution\n",
    "decoder_input = Input(shape=(latent_dim,))\n",
    "_h_decoded      = decoder_h(decoder_input)\n",
    "_x_decoded_mean = decoder_mean(_h_decoded)\n",
    "generator = Model(decoder_input, _x_decoded_mean)"
   ]
  },
  {
   "cell_type": "markdown",
   "metadata": {},
   "source": [
    "### 圖片生成"
   ]
  },
  {
   "cell_type": "code",
   "execution_count": 97,
   "metadata": {},
   "outputs": [
    {
     "data": {
      "image/png": "[encoded data removed]",
      "text/plain": [
       "<matplotlib.figure.Figure at 0x1916ab4cba8>"
      ]
     },
     "metadata": {},
     "output_type": "display_data"
    }
   ],
   "source": [
    "img_size = 64\n",
    "\n",
    "# following values can generate some good skyline images\n",
    "samples         = x_test[15:25]\n",
    "\n",
    "# code to create a result.png with generated images\n",
    "plt.figure(figsize=(10, 2))\n",
    "\n",
    "for i, yi in enumerate(x_test_encoded[15:25]):\n",
    "    z_sample = np.array([[yi[0], yi[1], yi[2], yi[3]]])\n",
    "    x_decoded = generator.predict(z_sample)\n",
    "    x_decoded.shape is (1, img_size * img_size * 3)\n",
    "    face = x_decoded[0].reshape(img_size, img_size, 3)\n",
    "    ax = plt.subplot(2, 10, i + 10 + 1)\n",
    "    plt.imshow(face)\n",
    "    ax.get_xaxis().set_visible(False)\n",
    "    ax.get_yaxis().set_visible(False)\n",
    "\n",
    "#     ax1 = plt.subplot(2, 10, i + 1)\n",
    "#     plt.imshow(samples[i].reshape(img_size, img_size, 3))\n",
    "#     ax1.get_xaxis().set_visible(False)\n",
    "#     ax1.get_yaxis().set_visible(False)\n",
    "\n",
    "plt.savefig('result.png')\n",
    "plt.show()"
   ]
  },
  {
   "cell_type": "code",
   "execution_count": null,
   "metadata": {},
   "outputs": [],
   "source": []
  }
 ],
 "metadata": {
  "kernelspec": {
   "display_name": "Python 3",
   "language": "python",
   "name": "python3"
  },
  "language_info": {
   "codemirror_mode": {
    "name": "ipython",
    "version": 3
   },
   "file_extension": ".py",
   "mimetype": "text/x-python",
   "name": "python",
   "nbconvert_exporter": "python",
   "pygments_lexer": "ipython3",
   "version": "3.6.4"
  }
 },
 "nbformat": 4,
 "nbformat_minor": 2
}
