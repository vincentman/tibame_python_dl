{
 "cells": [
  {
   "cell_type": "markdown",
   "metadata": {},
   "source": [
    "## 使用VAE 生成圖片"
   ]
  },
  {
   "cell_type": "markdown",
   "metadata": {},
   "source": [
    "### 引用套件"
   ]
  },
  {
   "cell_type": "code",
   "execution_count": 98,
   "metadata": {},
   "outputs": [],
   "source": [
    "from PIL import Image\n",
    "import numpy as np\n",
    "import matplotlib.pyplot as plt\n",
    "import os\n",
    "import cv2\n",
    "\n",
    "from   scipy.stats import norm\n",
    "import matplotlib.image as matimg\n",
    "import glob\n",
    "\n",
    "from keras.datasets import mnist\n",
    "from keras.layers import Input, Dense, Lambda\n",
    "from keras.models import Model\n",
    "from keras import backend as K\n",
    "from keras import objectives"
   ]
  },
  {
   "cell_type": "markdown",
   "metadata": {},
   "source": [
    "### 設定網路參數"
   ]
  },
  {
   "cell_type": "code",
   "execution_count": 99,
   "metadata": {},
   "outputs": [],
   "source": [
    "num_training_examples = 100\n",
    "num_testing_examples  = 30\n",
    "\n",
    "batch_size   = 5\n",
    "original_dim = 64 * 64 * 3 #this is same as image_vector_size\n",
    "latent_dim   = 4\n",
    "intermediate_dim = 256\n",
    "epsilon_std  = 1.0"
   ]
  },
  {
   "cell_type": "code",
   "execution_count": 100,
   "metadata": {},
   "outputs": [],
   "source": [
    "def load_image(path):\n",
    "    img = matimg.imread(path)\n",
    "    return img\n",
    "\n",
    "#following code loads data from local repo\n",
    "#directory should have two subfolders, with name train and test\n",
    "def load_local_data(path):\n",
    "    paths = glob.glob(os.path.join(path + \"/train\", \"*.jpg\"))\n",
    "    X_train = np.array( [ load_image(p) for p in paths ] )\n",
    "\n",
    "    paths = glob.glob(os.path.join(path + \"/test\", \"*.jpg\"))\n",
    "    X_test = np.array( [ load_image(p) for p in paths ] )\n",
    "   \n",
    "    return X_train, X_test"
   ]
  },
  {
   "cell_type": "markdown",
   "metadata": {},
   "source": [
    "### 建立 Encoder"
   ]
  },
  {
   "cell_type": "code",
   "execution_count": 101,
   "metadata": {},
   "outputs": [],
   "source": [
    "x = Input(batch_shape=(batch_size, original_dim))\n",
    "h = Dense(intermediate_dim, activation='relu')(x)\n",
    "z_mean    = Dense(latent_dim)(h)\n",
    "z_log_var = Dense(latent_dim)(h)"
   ]
  },
  {
   "cell_type": "markdown",
   "metadata": {},
   "source": [
    "### 取樣函數"
   ]
  },
  {
   "cell_type": "code",
   "execution_count": 102,
   "metadata": {},
   "outputs": [],
   "source": [
    "def sampling(args):\n",
    "    z_mean, z_log_var = args\n",
    "    epsilon = K.random_normal(shape=(batch_size, latent_dim), mean=0.,stddev=epsilon_std)\n",
    "    return z_mean + K.exp(z_log_var / 2) * epsilon"
   ]
  },
  {
   "cell_type": "markdown",
   "metadata": {},
   "source": [
    "### 建立解碼器"
   ]
  },
  {
   "cell_type": "code",
   "execution_count": 103,
   "metadata": {},
   "outputs": [],
   "source": [
    "z = Lambda(sampling, output_shape=(latent_dim,))([z_mean, z_log_var])\n",
    "\n",
    "# we instantiate these layers separately so as to reuse them later\n",
    "decoder_h    = Dense(intermediate_dim, activation='relu')\n",
    "decoder_mean = Dense(original_dim, activation='sigmoid')\n",
    "h_decoded    = decoder_h(z)\n",
    "x_decoded_mean = decoder_mean(h_decoded)"
   ]
  },
  {
   "cell_type": "markdown",
   "metadata": {},
   "source": [
    "### 計算 VAE 損失\n"
   ]
  },
  {
   "cell_type": "code",
   "execution_count": 106,
   "metadata": {},
   "outputs": [],
   "source": [
    "# modified calculation of loss\n",
    "def vae_loss(x, x_decoded_mean):\n",
    "    # xent_loss is reconstruction error\n",
    "    # use binary_crossentropy because this is not multi-label classification or regression but unsupervised problem\n",
    "    xent_loss = original_dim * objectives.binary_crossentropy(x, x_decoded_mean)\n",
    "    \n",
    "    kl_loss = - 0.5 * K.sum(1 + z_log_var - K.square(z_mean) - K.exp(z_log_var), axis=-1)\n",
    "    return xent_loss + kl_loss"
   ]
  },
  {
   "cell_type": "markdown",
   "metadata": {},
   "source": [
    "### 建立 VAE 模型"
   ]
  },
  {
   "cell_type": "code",
   "execution_count": 107,
   "metadata": {},
   "outputs": [],
   "source": [
    "# vae model\n",
    "vae = Model(x, x_decoded_mean)\n",
    "vae.compile(optimizer='rmsprop', loss=vae_loss)\n",
    "\n",
    "# if want to train with data from local repo\n",
    "path=\"../idol_face_vae\"\n",
    "(x_train, x_test) = load_local_data(path)\n",
    "\n",
    "x_train = x_train.astype('float32') / 255.\n",
    "x_test  = x_test.astype('float32')  / 255."
   ]
  },
  {
   "cell_type": "code",
   "execution_count": 108,
   "metadata": {},
   "outputs": [
    {
     "data": {
      "text/plain": [
       "(100, 64, 64, 3)"
      ]
     },
     "execution_count": 108,
     "metadata": {},
     "output_type": "execute_result"
    }
   ],
   "source": [
    "x_train.shape"
   ]
  },
  {
   "cell_type": "code",
   "execution_count": 109,
   "metadata": {},
   "outputs": [
    {
     "data": {
      "text/plain": [
       "(30, 64, 64, 3)"
      ]
     },
     "execution_count": 109,
     "metadata": {},
     "output_type": "execute_result"
    }
   ],
   "source": [
    "x_test.shape"
   ]
  },
  {
   "cell_type": "code",
   "execution_count": 110,
   "metadata": {},
   "outputs": [],
   "source": [
    "x_train = x_train.reshape((len(x_train), np.prod(x_train.shape[1:])))\n",
    "x_test  = x_test.reshape((len(x_test), np.prod(x_test.shape[1:])))"
   ]
  },
  {
   "cell_type": "code",
   "execution_count": 111,
   "metadata": {},
   "outputs": [
    {
     "data": {
      "text/plain": [
       "(100, 12288)"
      ]
     },
     "execution_count": 111,
     "metadata": {},
     "output_type": "execute_result"
    }
   ],
   "source": [
    "x_train.shape"
   ]
  },
  {
   "cell_type": "code",
   "execution_count": 112,
   "metadata": {},
   "outputs": [
    {
     "data": {
      "text/plain": [
       "(30, 12288)"
      ]
     },
     "execution_count": 112,
     "metadata": {},
     "output_type": "execute_result"
    }
   ],
   "source": [
    "x_test.shape"
   ]
  },
  {
   "cell_type": "code",
   "execution_count": 113,
   "metadata": {},
   "outputs": [
    {
     "name": "stderr",
     "output_type": "stream",
     "text": [
      "D:\\Anaconda3\\envs\\myenv\\lib\\site-packages\\ipykernel_launcher.py:6: UserWarning: The `nb_epoch` argument in `fit` has been renamed `epochs`.\n",
      "  \n"
     ]
    },
    {
     "name": "stdout",
     "output_type": "stream",
     "text": [
      "Train on 100 samples, validate on 30 samples\n",
      "Epoch 1/50\n",
      "100/100 [==============================] - 3s 29ms/step - loss: 25170.2562 - val_loss: 183018158.6667\n",
      "Epoch 2/50\n",
      "100/100 [==============================] - 2s 22ms/step - loss: 3002697.6529 - val_loss: 7805.8748\n",
      "Epoch 3/50\n",
      "100/100 [==============================] - 2s 22ms/step - loss: 7874.7733 - val_loss: 7685.7080\n",
      "Epoch 4/50\n",
      "100/100 [==============================] - 2s 22ms/step - loss: 7795.6705 - val_loss: 7873.8853\n",
      "Epoch 5/50\n",
      "100/100 [==============================] - 2s 22ms/step - loss: 7763.4785 - val_loss: 7673.8499\n",
      "Epoch 6/50\n",
      "100/100 [==============================] - 2s 23ms/step - loss: 7706.4613 - val_loss: 7564.6949\n",
      "Epoch 7/50\n",
      "100/100 [==============================] - 2s 23ms/step - loss: 7663.8386 - val_loss: 7550.9962\n",
      "Epoch 8/50\n",
      "100/100 [==============================] - 2s 23ms/step - loss: 7661.4025 - val_loss: 7568.4679\n",
      "Epoch 9/50\n",
      "100/100 [==============================] - 2s 24ms/step - loss: 7637.4589 - val_loss: 7577.7089\n",
      "Epoch 10/50\n",
      "100/100 [==============================] - 2s 21ms/step - loss: 7651.4656 - val_loss: 7611.0893\n",
      "Epoch 11/50\n",
      "100/100 [==============================] - 2s 23ms/step - loss: 7603.0936 - val_loss: 7724.9054\n",
      "Epoch 12/50\n",
      "100/100 [==============================] - 2s 22ms/step - loss: 7702.0126 - val_loss: 7509.0253\n",
      "Epoch 13/50\n",
      "100/100 [==============================] - 2s 21ms/step - loss: 7696.6000 - val_loss: 7602.8827\n",
      "Epoch 14/50\n",
      "100/100 [==============================] - 2s 21ms/step - loss: 7788.1192 - val_loss: 7750.1514\n",
      "Epoch 15/50\n",
      "100/100 [==============================] - 2s 22ms/step - loss: 7718.5695 - val_loss: 7613.4634\n",
      "Epoch 16/50\n",
      "100/100 [==============================] - 2s 22ms/step - loss: 7915.3635 - val_loss: 8222.0977\n",
      "Epoch 17/50\n",
      "100/100 [==============================] - 2s 22ms/step - loss: 7610.7973 - val_loss: 7486.7898\n",
      "Epoch 18/50\n",
      "100/100 [==============================] - 2s 22ms/step - loss: 7608.3855 - val_loss: 7470.5067\n",
      "Epoch 19/50\n",
      "100/100 [==============================] - 2s 22ms/step - loss: 7655.7083 - val_loss: 7558.5312\n",
      "Epoch 20/50\n",
      "100/100 [==============================] - 2s 21ms/step - loss: 7692.7347 - val_loss: 7519.3473\n",
      "Epoch 21/50\n",
      "100/100 [==============================] - 2s 21ms/step - loss: 7595.4218 - val_loss: 7645.4833\n",
      "Epoch 22/50\n",
      "100/100 [==============================] - 2s 22ms/step - loss: 7637.9300 - val_loss: 7576.5407\n",
      "Epoch 23/50\n",
      "100/100 [==============================] - 2s 21ms/step - loss: 11732.2249 - val_loss: 7545.0551\n",
      "Epoch 24/50\n",
      "100/100 [==============================] - 2s 21ms/step - loss: 7465.5562 - val_loss: 7429.7051\n",
      "Epoch 25/50\n",
      "100/100 [==============================] - 2s 21ms/step - loss: 7426.3372 - val_loss: 7453.1588\n",
      "Epoch 26/50\n",
      "100/100 [==============================] - 2s 21ms/step - loss: 7414.4779 - val_loss: 7471.4508\n",
      "Epoch 27/50\n",
      "100/100 [==============================] - 2s 21ms/step - loss: 7487.2720 - val_loss: 7576.6351\n",
      "Epoch 28/50\n",
      "100/100 [==============================] - 2s 21ms/step - loss: 7465.9762 - val_loss: 7648.9838\n",
      "Epoch 29/50\n",
      "100/100 [==============================] - 2s 21ms/step - loss: 7566.6640 - val_loss: 7420.2887\n",
      "Epoch 30/50\n",
      "100/100 [==============================] - 2s 21ms/step - loss: 7530.0653 - val_loss: 7469.9679\n",
      "Epoch 31/50\n",
      "100/100 [==============================] - 2s 21ms/step - loss: 7541.8974 - val_loss: 7422.2548\n",
      "Epoch 32/50\n",
      "100/100 [==============================] - 2s 21ms/step - loss: 8420348.5058 - val_loss: 7512.0514\n",
      "Epoch 33/50\n",
      "100/100 [==============================] - 2s 21ms/step - loss: 7400.0140 - val_loss: 7412.6632\n",
      "Epoch 34/50\n",
      "100/100 [==============================] - 2s 21ms/step - loss: 7350.2070 - val_loss: 7386.6947\n",
      "Epoch 35/50\n",
      "100/100 [==============================] - 2s 21ms/step - loss: 7308.9827 - val_loss: 7392.6065\n",
      "Epoch 36/50\n",
      "100/100 [==============================] - 2s 21ms/step - loss: 7298.9861 - val_loss: 7404.9957\n",
      "Epoch 37/50\n",
      "100/100 [==============================] - 2s 21ms/step - loss: 7268.9494 - val_loss: 7380.4313\n",
      "Epoch 38/50\n",
      "100/100 [==============================] - 2s 21ms/step - loss: 7291.3671 - val_loss: 7346.7148\n",
      "Epoch 39/50\n",
      "100/100 [==============================] - 2s 21ms/step - loss: 7265.2123 - val_loss: 7396.7559\n",
      "Epoch 40/50\n",
      "100/100 [==============================] - 2s 21ms/step - loss: 7288.9474 - val_loss: 7372.9819\n",
      "Epoch 41/50\n",
      "100/100 [==============================] - 2s 21ms/step - loss: 7253.4401 - val_loss: 7364.3055\n",
      "Epoch 42/50\n",
      "100/100 [==============================] - 2s 21ms/step - loss: 7292.4720 - val_loss: 7354.3077\n",
      "Epoch 43/50\n",
      "100/100 [==============================] - 2s 21ms/step - loss: 7272.4267 - val_loss: 7447.5208\n",
      "Epoch 44/50\n",
      "100/100 [==============================] - 2s 21ms/step - loss: 7318.8726 - val_loss: 7494.1155\n",
      "Epoch 45/50\n",
      "100/100 [==============================] - 2s 21ms/step - loss: 7477.3826 - val_loss: 7470.0315\n",
      "Epoch 46/50\n",
      "100/100 [==============================] - 2s 21ms/step - loss: 7442.2034 - val_loss: 7667.0632\n",
      "Epoch 47/50\n",
      "100/100 [==============================] - 2s 21ms/step - loss: 7500.0183 - val_loss: 7504.4083\n",
      "Epoch 48/50\n",
      "100/100 [==============================] - 2s 21ms/step - loss: 7438.0982 - val_loss: 7402.7871\n",
      "Epoch 49/50\n",
      "100/100 [==============================] - 2s 22ms/step - loss: 7496.9734 - val_loss: 7596.0606\n",
      "Epoch 50/50\n",
      "100/100 [==============================] - 2s 21ms/step - loss: 7382.4611 - val_loss: 7555.8340\n"
     ]
    },
    {
     "data": {
      "text/plain": [
       "<keras.callbacks.History at 0x191003d98d0>"
      ]
     },
     "execution_count": 113,
     "metadata": {},
     "output_type": "execute_result"
    }
   ],
   "source": [
    "#to train the model\n",
    "vae.fit(x_train, x_train,\n",
    "        shuffle=True,\n",
    "        nb_epoch=50,\n",
    "        batch_size=batch_size,\n",
    "        validation_data=(x_test, x_test))"
   ]
  },
  {
   "cell_type": "code",
   "execution_count": 114,
   "metadata": {},
   "outputs": [],
   "source": [
    "vae.save_weights('vae_idol_weights.h5')"
   ]
  },
  {
   "cell_type": "markdown",
   "metadata": {},
   "source": [
    "### 產生生成器"
   ]
  },
  {
   "cell_type": "code",
   "execution_count": 115,
   "metadata": {},
   "outputs": [],
   "source": [
    "# build a model to project inputs on the latent space\n",
    "# encoder = Model(x, z_mean)\n",
    "encoder = Model(x, z)\n",
    "\n",
    "# display a 2D plot of the digit classes in the latent space\n",
    "x_test_encoded = encoder.predict(x_test, batch_size=batch_size)\n",
    "\n",
    "# build a generator that can sample from the learned distribution\n",
    "decoder_input = Input(shape=(latent_dim,))\n",
    "_h_decoded      = decoder_h(decoder_input)\n",
    "_x_decoded_mean = decoder_mean(_h_decoded)\n",
    "generator = Model(decoder_input, _x_decoded_mean)"
   ]
  },
  {
   "cell_type": "markdown",
   "metadata": {},
   "source": [
    "### 圖片生成"
   ]
  },
  {
   "cell_type": "code",
   "execution_count": 116,
   "metadata": {},
   "outputs": [
    {
     "data": {
      "image/png": "[encoded data removed]",
      "text/plain": [
       "<matplotlib.figure.Figure at 0x1916ade05c0>"
      ]
     },
     "metadata": {},
     "output_type": "display_data"
    }
   ],
   "source": [
    "img_size = 64\n",
    "\n",
    "# following values can generate some good skyline images\n",
    "samples         = x_test[15:25]\n",
    "\n",
    "# code to create a result.png with generated images\n",
    "plt.figure(figsize=(10, 2))\n",
    "\n",
    "for i, yi in enumerate(x_test_encoded[15:25]):\n",
    "    z_sample = np.array([[yi[0], yi[1], yi[2], yi[3]]])\n",
    "    x_decoded = generator.predict(z_sample)\n",
    "    x_decoded.shape is (1, img_size * img_size * 3)\n",
    "    face = x_decoded[0].reshape(img_size, img_size, 3)\n",
    "    ax = plt.subplot(2, 10, i + 10 + 1)\n",
    "    plt.imshow(face)\n",
    "    ax.get_xaxis().set_visible(False)\n",
    "    ax.get_yaxis().set_visible(False)\n",
    "\n",
    "#     ax1 = plt.subplot(2, 10, i + 1)\n",
    "#     plt.imshow(samples[i].reshape(img_size, img_size, 3))\n",
    "#     ax1.get_xaxis().set_visible(False)\n",
    "#     ax1.get_yaxis().set_visible(False)\n",
    "\n",
    "plt.savefig('result.png')\n",
    "plt.show()"
   ]
  },
  {
   "cell_type": "code",
   "execution_count": null,
   "metadata": {},
   "outputs": [],
   "source": []
  }
 ],
 "metadata": {
  "kernelspec": {
   "display_name": "Python 3",
   "language": "python",
   "name": "python3"
  },
  "language_info": {
   "codemirror_mode": {
    "name": "ipython",
    "version": 3
   },
   "file_extension": ".py",
   "mimetype": "text/x-python",
   "name": "python",
   "nbconvert_exporter": "python",
   "pygments_lexer": "ipython3",
   "version": "3.6.4"
  }
 },
 "nbformat": 4,
 "nbformat_minor": 2
}
