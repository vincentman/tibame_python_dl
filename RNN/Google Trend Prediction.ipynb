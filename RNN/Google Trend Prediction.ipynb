{
 "cells": [
  {
   "cell_type": "markdown",
   "metadata": {},
   "source": [
    "## Google Trends Prediction"
   ]
  },
  {
   "cell_type": "code",
   "execution_count": 171,
   "metadata": {},
   "outputs": [],
   "source": [
    "df = pandas.read_csv('data/multiTimeline.csv')"
   ]
  },
  {
   "cell_type": "code",
   "execution_count": 245,
   "metadata": {},
   "outputs": [],
   "source": [
    "# Importing the Keras libraries and packages\n",
    "from keras.models import Sequential \n",
    "from keras.layers import Dense\n",
    "from keras.layers import LSTM\n",
    "\n",
    "# Initialising the RNN\n",
    "regressor = Sequential()"
   ]
  },
  {
   "cell_type": "code",
   "execution_count": 205,
   "metadata": {},
   "outputs": [],
   "source": [
    "dataset = df['cnt'].values"
   ]
  },
  {
   "cell_type": "code",
   "execution_count": 239,
   "metadata": {},
   "outputs": [],
   "source": [
    "X_train = []\n",
    "y_train = []\n",
    "for i in range(7, 168):\n",
    "    X_train.append(dataset[i-7:i])\n",
    "    y_train.append(dataset[i])\n",
    "    \n",
    "X_train, y_train = np.array(X_train), np.array(y_train)   "
   ]
  },
  {
   "cell_type": "code",
   "execution_count": 240,
   "metadata": {},
   "outputs": [
    {
     "data": {
      "text/plain": [
       "(161, 7)"
      ]
     },
     "execution_count": 240,
     "metadata": {},
     "output_type": "execute_result"
    }
   ],
   "source": [
    "X_train.shape"
   ]
  },
  {
   "cell_type": "code",
   "execution_count": 241,
   "metadata": {},
   "outputs": [],
   "source": [
    "X_train2 = np.reshape(X_train, (X_train.shape[0], X_train.shape[1], 1))"
   ]
  },
  {
   "cell_type": "code",
   "execution_count": 242,
   "metadata": {},
   "outputs": [
    {
     "data": {
      "text/plain": [
       "(161, 7, 1)"
      ]
     },
     "execution_count": 242,
     "metadata": {},
     "output_type": "execute_result"
    }
   ],
   "source": [
    "X_train2.shape"
   ]
  },
  {
   "cell_type": "code",
   "execution_count": 243,
   "metadata": {},
   "outputs": [
    {
     "data": {
      "text/plain": [
       "(161,)"
      ]
     },
     "execution_count": 243,
     "metadata": {},
     "output_type": "execute_result"
    }
   ],
   "source": [
    "y_train.shape"
   ]
  },
  {
   "cell_type": "code",
   "execution_count": 246,
   "metadata": {},
   "outputs": [],
   "source": [
    "regressor.add(LSTM(units = 50, return_sequences = True, input_shape = (X_train2.shape[1], 1)))\n",
    "regressor.add(Dropout(0.2))\n",
    "\n",
    "regressor.add(LSTM(units = 50))\n",
    "regressor.add(Dropout(0.2))\n",
    "\n",
    "regressor.add(Dense(units = 1))"
   ]
  },
  {
   "cell_type": "code",
   "execution_count": 248,
   "metadata": {},
   "outputs": [
    {
     "name": "stdout",
     "output_type": "stream",
     "text": [
      "Epoch 1/100\n",
      "161/161 [==============================] - 2s 15ms/step - loss: 170.8731\n",
      "Epoch 2/100\n",
      "161/161 [==============================] - 1s 5ms/step - loss: 159.8110\n",
      "Epoch 3/100\n",
      "161/161 [==============================] - 1s 5ms/step - loss: 130.0978\n",
      "Epoch 4/100\n",
      "161/161 [==============================] - 1s 5ms/step - loss: 143.3387\n",
      "Epoch 5/100\n",
      "161/161 [==============================] - 1s 5ms/step - loss: 123.2471\n",
      "Epoch 6/100\n",
      "161/161 [==============================] - 1s 5ms/step - loss: 116.1191\n",
      "Epoch 7/100\n",
      "161/161 [==============================] - 1s 5ms/step - loss: 103.7111\n",
      "Epoch 8/100\n",
      "161/161 [==============================] - 1s 5ms/step - loss: 99.4034\n",
      "Epoch 9/100\n",
      "161/161 [==============================] - 1s 5ms/step - loss: 85.9224\n",
      "Epoch 10/100\n",
      "161/161 [==============================] - 1s 5ms/step - loss: 89.9580\n",
      "Epoch 11/100\n",
      "161/161 [==============================] - 1s 5ms/step - loss: 78.3379\n",
      "Epoch 12/100\n",
      "161/161 [==============================] - 1s 5ms/step - loss: 75.0745\n",
      "Epoch 13/100\n",
      "161/161 [==============================] - 1s 5ms/step - loss: 70.9786\n",
      "Epoch 14/100\n",
      "161/161 [==============================] - 1s 5ms/step - loss: 61.6394\n",
      "Epoch 15/100\n",
      "161/161 [==============================] - 1s 5ms/step - loss: 72.3233\n",
      "Epoch 16/100\n",
      "161/161 [==============================] - 1s 5ms/step - loss: 60.5519\n",
      "Epoch 17/100\n",
      "161/161 [==============================] - 1s 5ms/step - loss: 74.4519\n",
      "Epoch 18/100\n",
      "161/161 [==============================] - 1s 5ms/step - loss: 56.1808\n",
      "Epoch 19/100\n",
      "161/161 [==============================] - 1s 5ms/step - loss: 52.4475\n",
      "Epoch 20/100\n",
      "161/161 [==============================] - 1s 5ms/step - loss: 53.7931\n",
      "Epoch 21/100\n",
      "161/161 [==============================] - 1s 5ms/step - loss: 61.7893\n",
      "Epoch 22/100\n",
      "161/161 [==============================] - 1s 5ms/step - loss: 44.2905\n",
      "Epoch 23/100\n",
      "161/161 [==============================] - 1s 5ms/step - loss: 65.6943\n",
      "Epoch 24/100\n",
      "161/161 [==============================] - 1s 5ms/step - loss: 42.9811\n",
      "Epoch 25/100\n",
      "161/161 [==============================] - 1s 5ms/step - loss: 47.7607\n",
      "Epoch 26/100\n",
      "161/161 [==============================] - 1s 5ms/step - loss: 49.4980\n",
      "Epoch 27/100\n",
      "161/161 [==============================] - 1s 5ms/step - loss: 44.2750\n",
      "Epoch 28/100\n",
      "161/161 [==============================] - 1s 5ms/step - loss: 51.6348\n",
      "Epoch 29/100\n",
      "161/161 [==============================] - 1s 5ms/step - loss: 45.0725\n",
      "Epoch 30/100\n",
      "161/161 [==============================] - 1s 5ms/step - loss: 39.4455\n",
      "Epoch 31/100\n",
      "161/161 [==============================] - 1s 5ms/step - loss: 58.2251\n",
      "Epoch 32/100\n",
      "161/161 [==============================] - 1s 5ms/step - loss: 54.0549\n",
      "Epoch 33/100\n",
      "161/161 [==============================] - 1s 5ms/step - loss: 48.9135\n",
      "Epoch 34/100\n",
      "161/161 [==============================] - 1s 5ms/step - loss: 44.3240\n",
      "Epoch 35/100\n",
      "161/161 [==============================] - 1s 5ms/step - loss: 40.6927\n",
      "Epoch 36/100\n",
      "161/161 [==============================] - 1s 5ms/step - loss: 52.4046\n",
      "Epoch 37/100\n",
      "161/161 [==============================] - 1s 5ms/step - loss: 40.9894\n",
      "Epoch 38/100\n",
      "161/161 [==============================] - 1s 5ms/step - loss: 41.1109\n",
      "Epoch 39/100\n",
      "161/161 [==============================] - 1s 5ms/step - loss: 48.1928\n",
      "Epoch 40/100\n",
      "161/161 [==============================] - 1s 5ms/step - loss: 44.5394\n",
      "Epoch 41/100\n",
      "161/161 [==============================] - 1s 5ms/step - loss: 43.7835\n",
      "Epoch 42/100\n",
      "161/161 [==============================] - 1s 5ms/step - loss: 43.0002\n",
      "Epoch 43/100\n",
      "161/161 [==============================] - 1s 5ms/step - loss: 33.7507\n",
      "Epoch 44/100\n",
      "161/161 [==============================] - 1s 5ms/step - loss: 42.3039\n",
      "Epoch 45/100\n",
      "161/161 [==============================] - 1s 5ms/step - loss: 37.1846\n",
      "Epoch 46/100\n",
      "161/161 [==============================] - 1s 5ms/step - loss: 38.8401\n",
      "Epoch 47/100\n",
      "161/161 [==============================] - 1s 5ms/step - loss: 45.6331\n",
      "Epoch 48/100\n",
      "161/161 [==============================] - 1s 5ms/step - loss: 38.8132\n",
      "Epoch 49/100\n",
      "161/161 [==============================] - 1s 5ms/step - loss: 34.2876\n",
      "Epoch 50/100\n",
      "161/161 [==============================] - 1s 6ms/step - loss: 40.3030\n",
      "Epoch 51/100\n",
      "161/161 [==============================] - 1s 5ms/step - loss: 45.2280\n",
      "Epoch 52/100\n",
      "161/161 [==============================] - 1s 5ms/step - loss: 45.6087\n",
      "Epoch 53/100\n",
      "161/161 [==============================] - 1s 5ms/step - loss: 41.4234\n",
      "Epoch 54/100\n",
      "161/161 [==============================] - 1s 5ms/step - loss: 32.8673\n",
      "Epoch 55/100\n",
      "161/161 [==============================] - 1s 5ms/step - loss: 44.4735\n",
      "Epoch 56/100\n",
      "161/161 [==============================] - 1s 6ms/step - loss: 37.4802\n",
      "Epoch 57/100\n",
      "161/161 [==============================] - 1s 5ms/step - loss: 36.1798\n",
      "Epoch 58/100\n",
      "161/161 [==============================] - 1s 5ms/step - loss: 31.5254\n",
      "Epoch 59/100\n",
      "161/161 [==============================] - 1s 5ms/step - loss: 32.9671\n",
      "Epoch 60/100\n",
      "161/161 [==============================] - 1s 5ms/step - loss: 36.2531\n",
      "Epoch 61/100\n",
      "161/161 [==============================] - 1s 6ms/step - loss: 38.3925\n",
      "Epoch 62/100\n",
      "161/161 [==============================] - 1s 5ms/step - loss: 47.0269\n",
      "Epoch 63/100\n",
      "161/161 [==============================] - 1s 6ms/step - loss: 35.2374\n",
      "Epoch 64/100\n",
      "161/161 [==============================] - 1s 5ms/step - loss: 34.9630\n",
      "Epoch 65/100\n",
      "161/161 [==============================] - 1s 5ms/step - loss: 31.1316\n",
      "Epoch 66/100\n",
      "161/161 [==============================] - 1s 5ms/step - loss: 41.2822\n",
      "Epoch 67/100\n",
      "161/161 [==============================] - 1s 5ms/step - loss: 36.0336\n",
      "Epoch 68/100\n",
      "161/161 [==============================] - 1s 6ms/step - loss: 29.2383\n",
      "Epoch 69/100\n",
      "161/161 [==============================] - 1s 6ms/step - loss: 37.6409\n",
      "Epoch 70/100\n",
      "161/161 [==============================] - 1s 5ms/step - loss: 37.8201\n",
      "Epoch 71/100\n",
      "161/161 [==============================] - 1s 5ms/step - loss: 33.3850\n",
      "Epoch 72/100\n",
      "161/161 [==============================] - 1s 5ms/step - loss: 41.4298\n",
      "Epoch 73/100\n",
      "161/161 [==============================] - 1s 5ms/step - loss: 34.9953\n",
      "Epoch 74/100\n",
      "161/161 [==============================] - 1s 6ms/step - loss: 29.4637\n",
      "Epoch 75/100\n",
      "161/161 [==============================] - 1s 5ms/step - loss: 27.1010\n",
      "Epoch 76/100\n",
      "161/161 [==============================] - 1s 6ms/step - loss: 31.0648\n",
      "Epoch 77/100\n",
      "161/161 [==============================] - 1s 6ms/step - loss: 31.4803\n",
      "Epoch 78/100\n",
      "161/161 [==============================] - 1s 6ms/step - loss: 40.8329\n",
      "Epoch 79/100\n",
      "161/161 [==============================] - 1s 5ms/step - loss: 33.2224\n",
      "Epoch 80/100\n",
      "161/161 [==============================] - 1s 5ms/step - loss: 29.4219\n",
      "Epoch 81/100\n",
      "161/161 [==============================] - 1s 5ms/step - loss: 35.5201\n",
      "Epoch 82/100\n",
      "161/161 [==============================] - 1s 5ms/step - loss: 40.7431\n",
      "Epoch 83/100\n",
      "161/161 [==============================] - 1s 6ms/step - loss: 35.5843\n",
      "Epoch 84/100\n",
      "161/161 [==============================] - 1s 5ms/step - loss: 38.0826\n",
      "Epoch 85/100\n",
      "161/161 [==============================] - 1s 5ms/step - loss: 32.7530\n",
      "Epoch 86/100\n",
      "161/161 [==============================] - 1s 5ms/step - loss: 33.2535\n",
      "Epoch 87/100\n",
      "161/161 [==============================] - 1s 5ms/step - loss: 39.9955\n",
      "Epoch 88/100\n",
      "161/161 [==============================] - 1s 5ms/step - loss: 33.6128\n",
      "Epoch 89/100\n",
      "161/161 [==============================] - 1s 5ms/step - loss: 33.8216\n",
      "Epoch 90/100\n",
      "161/161 [==============================] - 1s 5ms/step - loss: 39.7442\n",
      "Epoch 91/100\n",
      "161/161 [==============================] - 1s 5ms/step - loss: 31.1178\n",
      "Epoch 92/100\n",
      "161/161 [==============================] - 1s 5ms/step - loss: 30.4106\n",
      "Epoch 93/100\n",
      "161/161 [==============================] - 1s 5ms/step - loss: 31.5469\n",
      "Epoch 94/100\n",
      "161/161 [==============================] - 1s 5ms/step - loss: 36.4302\n",
      "Epoch 95/100\n",
      "161/161 [==============================] - 1s 6ms/step - loss: 25.6359\n",
      "Epoch 96/100\n",
      "161/161 [==============================] - 1s 6ms/step - loss: 29.1393\n",
      "Epoch 97/100\n",
      "161/161 [==============================] - 1s 6ms/step - loss: 32.0469\n",
      "Epoch 98/100\n",
      "161/161 [==============================] - 1s 5ms/step - loss: 27.9110\n",
      "Epoch 99/100\n",
      "161/161 [==============================] - 1s 5ms/step - loss: 37.5162\n",
      "Epoch 100/100\n",
      "161/161 [==============================] - 1s 5ms/step - loss: 25.2741\n"
     ]
    },
    {
     "data": {
      "text/plain": [
       "<keras.callbacks.History at 0x130e2edd8>"
      ]
     },
     "execution_count": 248,
     "metadata": {},
     "output_type": "execute_result"
    }
   ],
   "source": [
    "# Compiling the RNN\n",
    "regressor.compile(optimizer = 'adam', loss = 'mean_squared_error')\n",
    "\n",
    "# Fitting the RNN to the Training set\n",
    "regressor.fit(X_train2, y_train, epochs = 100, batch_size = 2)"
   ]
  },
  {
   "cell_type": "code",
   "execution_count": 249,
   "metadata": {},
   "outputs": [],
   "source": [
    "predicted = regressor.predict(X_train2)\n",
    "#dataset"
   ]
  },
  {
   "cell_type": "code",
   "execution_count": 250,
   "metadata": {},
   "outputs": [],
   "source": [
    "#predicted"
   ]
  },
  {
   "cell_type": "code",
   "execution_count": 251,
   "metadata": {},
   "outputs": [
    {
     "data": {
      "image/png": "[encoded data removed]",
      "text/plain": [
       "<matplotlib.figure.Figure at 0x134a5b390>"
      ]
     },
     "metadata": {},
     "output_type": "display_data"
    }
   ],
   "source": [
    "import matplotlib.pyplot as plt\n",
    "plt.plot(dataset, color = 'red', label = 'Real Data')\n",
    "plt.plot(predicted, color = 'blue', label = 'Predicted Price')\n",
    "plt.title('Prediction')\n",
    "plt.xlabel('Time')\n",
    "plt.ylabel('Google Trends')\n",
    "plt.legend()\n",
    "plt.show()"
   ]
  },
  {
   "cell_type": "code",
   "execution_count": null,
   "metadata": {},
   "outputs": [],
   "source": []
  }
 ],
 "metadata": {
  "kernelspec": {
   "display_name": "Python 3",
   "language": "python",
   "name": "python3"
  },
  "language_info": {
   "codemirror_mode": {
    "name": "ipython",
    "version": 3
   },
   "file_extension": ".py",
   "mimetype": "text/x-python",
   "name": "python",
   "nbconvert_exporter": "python",
   "pygments_lexer": "ipython3",
   "version": "3.6.2"
  }
 },
 "nbformat": 4,
 "nbformat_minor": 2
}
